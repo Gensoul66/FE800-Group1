{
 "cells": [
  {
   "cell_type": "code",
   "execution_count": 1,
   "metadata": {
    "executionInfo": {
     "elapsed": 2622,
     "status": "ok",
     "timestamp": 1619554544177,
     "user": {
      "displayName": "Baihao Huang",
      "photoUrl": "",
      "userId": "14694409855365795295"
     },
     "user_tz": 240
    },
    "id": "UmsMakycy7Gz",
    "pycharm": {
     "is_executing": false
    }
   },
   "outputs": [],
   "source": [
    "import Function as f\n",
    "import numpy as np\n",
    "from sklearn.metrics import mean_absolute_error\n",
    "from tensorflow.keras.layers import LSTM,Input,Dense\n",
    "from tensorflow.keras.models import Sequential\n"
   ]
  },
  {
   "cell_type": "code",
   "execution_count": 2,
   "metadata": {
    "executionInfo": {
     "elapsed": 1114,
     "status": "ok",
     "timestamp": 1619554544334,
     "user": {
      "displayName": "Baihao Huang",
      "photoUrl": "",
      "userId": "14694409855365795295"
     },
     "user_tz": 240
    },
    "id": "HzRkka4Gy7G8",
    "pycharm": {
     "is_executing": false,
     "name": "#%%\n"
    }
   },
   "outputs": [],
   "source": [
    "def lstm(note1,note2,note3):\n",
    "# define an activation function\n",
    "\n",
    "    # timesteps and number of features \n",
    "    timesteps = 5\n",
    "    n_features = 1\n",
    "\n",
    "    # define a simple lstm for\n",
    "    model = Sequential()\n",
    "    model.add(Input(shape=(timesteps,n_features)))\n",
    "    model.add(LSTM(note1,return_sequences=True))\n",
    "    model.add(LSTM(note2,return_sequences=False))\n",
    "    model.add(Dense(note3,activation='relu'))\n",
    "    model.add(Dense(1))\n",
    "    model.compile(optimizer='adam',loss='mae')\n",
    "    \n",
    "    return model\n",
    "\n",
    "def ann(note1,note2,note3):\n",
    "    \n",
    "    n_features = 5\n",
    "    \n",
    "    model = Sequential()\n",
    "    model.add(Input(shape=(n_features,)))\n",
    "    model.add(Dense(note1,'relu'))\n",
    "    model.add(Dense(note2,'relu'))\n",
    "    model.add(Dense(note3,'relu'))\n",
    "    model.add(Dense(1))\n",
    "    model.compile(optimizer='adam',loss='mae')\n",
    "    \n",
    "    return model\n",
    "\n",
    "def generator_price_lstm(x_train, y_train, x_val, y_val, x_test, y_test, date_test,y_scaler,\n",
    "              model_parameter, epochs, batch_size, thred):\n",
    "    # initialize\n",
    "    acc = []\n",
    "\n",
    "    for j in range(thred):\n",
    "        \n",
    "        y_true = np.array([])\n",
    "        y_pred = np.array([])\n",
    "        date = np.array([])\n",
    "        model = lstm(note1 = model_parameter[0],\n",
    "                     note2=model_parameter[1],\n",
    "                     note3=model_parameter[2])\n",
    "        for i in range(len(y_train)):\n",
    "        \n",
    "            \n",
    "            model.fit(x_train[i], y_train[i], validation_data=(x_val[i], y_val[i]),\n",
    "                      epochs=epochs, batch_size=batch_size,verbose=0)\n",
    "\n",
    "            predition = model.predict(x_test[i])\n",
    "\n",
    "            model.reset_states()\n",
    "            y_true = np.append(y_true, y_test[i])\n",
    "            y_pred = np.append(y_pred, predition)\n",
    "            date = np.append(date, date_test[i])\n",
    "            \n",
    "\n",
    "        y_true_transform = y_true * y_scaler[1] + y_scaler[0]\n",
    "        y_pred_transform = y_pred * y_scaler[1] + y_scaler[0]\n",
    "        \n",
    "        acc.append(mean_absolute_error(y_true_transform, y_pred_transform))\n",
    "        \n",
    "    acc_min = np.min(acc)\n",
    "  \n",
    "    return acc_min\n",
    "\n",
    "def generator_price_ann(x_train, y_train, x_val, y_val, x_test, y_test, date_test,y_scaler,\n",
    "              model_parameter, epochs, batch_size, thred):\n",
    "    # initialize\n",
    "    acc = []\n",
    "\n",
    "    for j in range(thred):\n",
    "        \n",
    "        model = ann(note1 = model_parameter[0],\n",
    "                     note2=model_parameter[1],\n",
    "                     note3=model_parameter[2])\n",
    "        \n",
    "        y_true = np.array([])\n",
    "        y_pred = np.array([])\n",
    "        date = np.array([])\n",
    "\n",
    "        for i in range(len(y_train)):\n",
    "            model.fit(x_train[i], y_train[i], validation_data=(x_val[i], y_val[i]),\n",
    "                      epochs=epochs, batch_size=batch_size,verbose=0)\n",
    "\n",
    "            predition = model.predict(x_test[i])\n",
    "\n",
    "            model.reset_states()\n",
    "            y_true = np.append(y_true, y_test[i])\n",
    "            y_pred = np.append(y_pred, predition)\n",
    "            date = np.append(date, date_test[i])\n",
    "            \n",
    "        y_true_transform = y_true * y_scaler[1] + y_scaler[0]\n",
    "        y_pred_transform = y_pred * y_scaler[1] + y_scaler[0]\n",
    "        \n",
    "        acc.append(mean_absolute_error(y_true_transform, y_pred_transform))\n",
    "        # print(j,mean_absolute_error(y_true, y_pred))\n",
    "        \n",
    "    acc_min = np.min(acc)\n",
    "  \n",
    "    return acc_min\n"
   ]
  },
  {
   "cell_type": "code",
   "execution_count": 3,
   "metadata": {
    "colab": {
     "base_uri": "https://localhost:8080/"
    },
    "executionInfo": {
     "elapsed": 2737694,
     "status": "ok",
     "timestamp": 1619557285105,
     "user": {
      "displayName": "Baihao Huang",
      "photoUrl": "",
      "userId": "14694409855365795295"
     },
     "user_tz": 240
    },
    "id": "At9ns31xy7G-",
    "outputId": "1c336476-e163-4b24-c56e-16abd3f13737",
    "pycharm": {
     "is_executing": false,
     "name": "#%%\n"
    }
   },
   "outputs": [],
   "source": [
    "# LSTM\n",
    "times = 8\n",
    "names = ['AGG','DBC','VIX','VTI']\n",
    "\n",
    "small = []\n",
    "medium1 = []\n",
    "medium2 = []\n",
    "large = []\n",
    "    \n",
    "for i in names:\n",
    "    \n",
    "    \n",
    "    # loading data \n",
    "    x_train,y_train,x_val,y_val,x_test,y_test,date_test,y_scaler = f.data_generator_lstm(name=i,timesteps=5,\n",
    "                                                                train_len=100,val_len=10,test_len=5,forward_len=5)\n",
    "    # model 8/4/2\n",
    "    model = [8,4,2]\n",
    "    acc = generator_price_lstm(x_train,y_train,x_val,y_val,x_test,y_test,date_test,y_scaler,\n",
    "                            model,epochs=25,batch_size=50,thred=times)\n",
    "    small.append(acc)\n",
    "    \n",
    "    # model 32/16\n",
    "    model = [32,16,8]\n",
    "    acc = generator_price_lstm(x_train,y_train,x_val,y_val,x_test,y_test,date_test,y_scaler,\n",
    "                               model,epochs=25,batch_size=50,thred=times)\n",
    "    medium1.append(acc)\n",
    "    \n",
    "    # model 64/32\n",
    "    model = [64,32,16]\n",
    "    acc = generator_price_lstm(x_train,y_train,x_val,y_val,x_test,y_test,date_test,y_scaler,\n",
    "                            model,epochs=25,batch_size=50,thred=times)\n",
    "    medium2.append(acc)\n",
    "    \n",
    "    # model 128/64\n",
    "    model = [128,64,32]\n",
    "    acc = generator_price_lstm(x_train,y_train,x_val,y_val,x_test,y_test,date_test,y_scaler,\n",
    "                            model,epochs=25,batch_size=50,thred=times)\n",
    "    large.append(acc)"
   ]
  },
  {
   "cell_type": "code",
   "execution_count": 4,
   "metadata": {
    "pycharm": {
     "is_executing": false,
     "name": "#%%\n"
    }
   },
   "outputs": [
    {
     "name": "stdout",
     "output_type": "stream",
     "text": [
      "[0.903868473115469, 0.3568386077059097, 3.3165342149823367, 5.290401915884659]\n",
      "[0.6789104219109491, 0.4237316432571268, 3.1323825257413525, 4.408298197318216]\n",
      "[0.6765277688588053, 0.36818471484791576, 3.482339789891692, 3.716976469804802]\n",
      "[0.7027150998478982, 0.38972657531883437, 3.6092197563472244, 3.9794226179768906]\n",
      "2.4669108029220936\n",
      "2.160830697056911\n",
      "2.0610071858508037\n",
      "2.170271012372712\n"
     ]
    }
   ],
   "source": [
    "print(small)\n",
    "print(medium1)\n",
    "print(medium2)\n",
    "print(large)\n",
    "\n",
    "print(np.mean(small))\n",
    "print(np.mean(medium1))\n",
    "print(np.mean(medium2))\n",
    "print(np.mean(large))\n",
    "# 1.864068123257817\n",
    "# 1.287479630961372\n",
    "# 0.9085718958843285\n",
    "# 0.8217149862388022"
   ]
  },
  {
   "cell_type": "code",
   "execution_count": 5,
   "metadata": {
    "colab": {
     "base_uri": "https://localhost:8080/"
    },
    "executionInfo": {
     "elapsed": 2298812,
     "status": "ok",
     "timestamp": 1619560094438,
     "user": {
      "displayName": "Baihao Huang",
      "photoUrl": "",
      "userId": "14694409855365795295"
     },
     "user_tz": 240
    },
    "id": "puKqBztgy7HA",
    "outputId": "24e648a0-da1c-4981-cb9e-ffea5738a9eb",
    "pycharm": {
     "is_executing": false,
     "name": "#%%\n"
    }
   },
   "outputs": [],
   "source": [
    "# ANN\n",
    "times = 8\n",
    "names = ['AGG','DBC','VIX','VTI']\n",
    "\n",
    "small = []\n",
    "medium1 = []\n",
    "medium2 = []\n",
    "large = []\n",
    "    \n",
    "for i in names:\n",
    "    \n",
    "    # loading data \n",
    "    x_train,y_train,x_val,y_val,x_test,y_test,date_test,y_scaler= f.data_generator_ann(name=i,features=5,\n",
    "                                                                train_len=100,val_len=10,test_len=5,forward_len=5)\n",
    "    # model 8/4/2\n",
    "    model = [8,4,2]\n",
    "    acc = generator_price_ann(x_train,y_train,x_val,y_val,x_test,y_test,date_test,y_scaler,\n",
    "                            model,epochs=25,batch_size=50,thred=times)\n",
    "    small.append(acc)\n",
    "    \n",
    "    # model 32/16/8\n",
    "    model = [32,16,8]\n",
    "    acc = generator_price_ann(x_train,y_train,x_val,y_val,x_test,y_test,date_test,y_scaler,\n",
    "                                 model,epochs=25,batch_size=50,thred=times)\n",
    "    medium1.append(acc)\n",
    "    \n",
    "    # model 64/32/16\n",
    "    model = [64,32,16]\n",
    "    acc = generator_price_ann(x_train,y_train,x_val,y_val,x_test,y_test,date_test,y_scaler,\n",
    "                              model,epochs=25,batch_size=50,thred=times)\n",
    "    medium2.append(acc)\n",
    "    \n",
    "    # model 128/64/32\n",
    "    model = [128,64,32]\n",
    "    acc = generator_price_ann(x_train,y_train,x_val,y_val,x_test,y_test,date_test,y_scaler,\n",
    "                            model,epochs=25,batch_size=50,thred=times)\n",
    "    large.append(acc)"
   ]
  },
  {
   "cell_type": "code",
   "execution_count": 6,
   "metadata": {
    "pycharm": {
     "is_executing": false,
     "name": "#%%\n"
    }
   },
   "outputs": [
    {
     "name": "stdout",
     "output_type": "stream",
     "text": [
      "[0.7349189720420102, 0.5254900765800132, 3.3955527406653654, 5.358424683793011]\n",
      "[0.5918354918409597, 0.30601411319091776, 2.7352683644564366, 3.6029049868381966]\n",
      "[0.5931295820735342, 0.3367228420564297, 3.1516491956797226, 3.7627392304864022]\n",
      "[0.6620748241326627, 0.3320437962140043, 3.130918772895896, 3.9598992714262446]\n",
      "2.5035966182701\n",
      "1.8090057390816277\n",
      "1.9610602125740222\n",
      "2.021234166167202\n"
     ]
    }
   ],
   "source": [
    "print(small)\n",
    "print(medium1)\n",
    "print(medium2)\n",
    "print(large)\n",
    "\n",
    "print(np.mean(small))\n",
    "print(np.mean(medium1))\n",
    "print(np.mean(medium2))\n",
    "print(np.mean(large))"
   ]
  },
  {
   "cell_type": "code",
   "execution_count": null,
   "metadata": {
    "id": "HSjftShTy7HB",
    "pycharm": {
     "is_executing": false,
     "name": "#%%\n"
    }
   },
   "outputs": [],
   "source": []
  }
 ],
 "metadata": {
  "accelerator": "GPU",
  "colab": {
   "collapsed_sections": [],
   "name": "Test_Parameters.ipynb",
   "provenance": []
  },
  "kernelspec": {
   "display_name": "Python 3",
   "language": "python",
   "name": "python3"
  },
  "language_info": {
   "codemirror_mode": {
    "name": "ipython",
    "version": 3
   },
   "file_extension": ".py",
   "mimetype": "text/x-python",
   "name": "python",
   "nbconvert_exporter": "python",
   "pygments_lexer": "ipython3",
   "version": "3.8.3"
  },
  "pycharm": {
   "stem_cell": {
    "cell_type": "raw",
    "metadata": {
     "collapsed": false
    },
    "source": []
   }
  }
 },
 "nbformat": 4,
 "nbformat_minor": 1
}
