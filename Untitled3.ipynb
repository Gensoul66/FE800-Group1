{
 "cells": [
  {
   "cell_type": "code",
   "execution_count": 1,
   "metadata": {},
   "outputs": [],
   "source": [
    "import numpy as np\n",
    "import pandas as pd\n",
    "import os\n",
    "from pypfopt import EfficientFrontier\n",
    "from pypfopt import risk_models\n",
    "from pypfopt import expected_returns\n"
   ]
  },
  {
   "cell_type": "code",
   "execution_count": 2,
   "metadata": {
    "scrolled": true
   },
   "outputs": [
    {
     "name": "stdout",
     "output_type": "stream",
     "text": [
      "          date         AGG        DBC        VIX         VTI\n",
      "0     1/1/2018  109.040001  16.709999   9.220000  140.369995\n",
      "1     1/2/2018  108.739998  16.969999  10.160000  142.750000\n",
      "2     1/3/2018  108.180000  16.879999  11.270000  143.919998\n",
      "3     1/4/2018  108.370003  17.250000  11.080000  146.860001\n",
      "4     1/5/2018  107.199997  16.990000  17.309999  141.300003\n",
      "..         ...         ...        ...        ...         ...\n",
      "160  6/10/2018  117.309998  15.190000  33.090000  193.990005\n",
      "161  6/11/2018  116.709999  15.870000  20.870001  204.110001\n",
      "162  6/12/2018  116.580002  16.320000  19.969999  207.490005\n",
      "163  6/13/2018  115.839996  16.520000  22.049999  205.970001\n",
      "164  6/14/2018  115.339996  16.730000  27.950001  200.080002\n",
      "\n",
      "[165 rows x 5 columns]\n"
     ]
    }
   ],
   "source": [
    "#load data \n",
    "AGG=pd.read_csv(r\"C:\\Users\\huyue\\OneDrive\\Desktop\\New folder\\Portfolio_Data\\totalAGG.csv\")\n",
    "AGG=AGG.dropna(axis=0, how='any')\n",
    "AGG=AGG.drop(columns=[\"y_true\",\"Arima\",\"LSTM\",\"ANN\",\"SVR\",\"Arima + LSTM\",\"Arima + ANN\",\"Arima + SVR\"]) \n",
    "\n",
    "DBC=pd.read_csv(r\"C:\\Users\\huyue\\OneDrive\\Desktop\\New folder\\Portfolio_Data\\totalDBC.csv\")\n",
    "DBC=DBC.dropna(axis=0, how='any')\n",
    "DBC=DBC.drop(columns=[\"y_true\",\"Arima\",\"LSTM\",\"ANN\",\"SVR\",\"Arima + LSTM\",\"Arima + ANN\",\"Arima + SVR\"]) \n",
    "\n",
    "VIX=pd.read_csv(r\"C:\\Users\\huyue\\OneDrive\\Desktop\\New folder\\Portfolio_Data\\totalVIX.csv\")\n",
    "VIX=VIX.dropna(axis=0, how='any')\n",
    "VIX=VIX.drop(columns=[\"y_true\",\"Arima\",\"LSTM\",\"ANN\",\"SVR\",\"Arima + LSTM\",\"Arima + ANN\",\"Arima + SVR\"]) \n",
    "\n",
    "VTI=pd.read_csv(r\"C:\\Users\\huyue\\OneDrive\\Desktop\\New folder\\Portfolio_Data\\totalVTI.csv\")\n",
    "VTI=VTI.dropna(axis=0, how='any')\n",
    "VTI=VTI.drop(columns=[\"y_true\",\"Arima\",\"LSTM\",\"ANN\",\"SVR\",\"Arima + LSTM\",\"Arima + ANN\",\"Arima + SVR\"]) \n",
    "\n",
    "total=pd.read_csv(r\"C:\\Users\\huyue\\OneDrive\\Desktop\\New folder\\Portfolio_Data\\total.csv\")\n",
    "#print(AGG,DBC,VIX,VTI)\n",
    "print(total)"
   ]
  },
  {
   "cell_type": "code",
   "execution_count": 3,
   "metadata": {},
   "outputs": [
    {
     "name": "stdout",
     "output_type": "stream",
     "text": [
      "                   AGG        DBC        VIX         VTI\n",
      "date                                                    \n",
      "2018-01-01  109.040001  16.709999   9.220000  140.369995\n",
      "2018-01-02  108.739998  16.969999  10.160000  142.750000\n",
      "2018-01-03  108.180000  16.879999  11.270000  143.919998\n",
      "2018-01-04  108.370003  17.250000  11.080000  146.860001\n",
      "2018-01-05  107.199997  16.990000  17.309999  141.300003\n",
      "...                ...        ...        ...         ...\n",
      "2018-06-10  117.309998  15.190000  33.090000  193.990005\n",
      "2018-06-11  116.709999  15.870000  20.870001  204.110001\n",
      "2018-06-12  116.580002  16.320000  19.969999  207.490005\n",
      "2018-06-13  115.839996  16.520000  22.049999  205.970001\n",
      "2018-06-14  115.339996  16.730000  27.950001  200.080002\n",
      "\n",
      "[165 rows x 4 columns]\n"
     ]
    }
   ],
   "source": [
    "total['date']=pd.to_datetime(total['date'])\n",
    "total=total.set_index('date')\n",
    "print(total)"
   ]
  },
  {
   "cell_type": "code",
   "execution_count": 231,
   "metadata": {},
   "outputs": [
    {
     "name": "stdout",
     "output_type": "stream",
     "text": [
      "AGG    0.090143\n",
      "DBC    0.001840\n",
      "VIX    4.496645\n",
      "VTI    0.723954\n",
      "dtype: float64\n",
      "          AGG       DBC        VIX       VTI\n",
      "AGG  0.014175  0.008148   0.010104  0.017013\n",
      "DBC  0.008148  0.149294  -0.601552  0.123917\n",
      "VIX  0.010104 -0.601552  10.434870 -1.142839\n",
      "VTI  0.017013  0.123917  -1.142839  0.242725\n"
     ]
    }
   ],
   "source": [
    "mu1= expected_returns.mean_historical_return(total)\n",
    "S1= risk_models.sample_cov(total)\n",
    "print(mu1)\n",
    "print(S1)"
   ]
  },
  {
   "cell_type": "code",
   "execution_count": 232,
   "metadata": {},
   "outputs": [
    {
     "name": "stdout",
     "output_type": "stream",
     "text": [
      "OrderedDict([('AGG', 0.0), ('DBC', 0.0), ('VIX', 0.13176), ('VTI', 0.86824)])\n",
      "Expected annual return: 122.1%\n",
      "Annual volatility: 32.0%\n",
      "Sharpe Ratio: 3.75\n"
     ]
    },
    {
     "data": {
      "text/plain": [
       "(1.2210357531967069, 0.32039290121744296, 3.748634094678623)"
      ]
     },
     "execution_count": 232,
     "metadata": {},
     "output_type": "execute_result"
    }
   ],
   "source": [
    "# Optimize for maximal Sharpe ratio\n",
    "ef = EfficientFrontier(mu1, S1)\n",
    "raw_weights = ef.max_sharpe()\n",
    "cleaned_weights = ef.clean_weights()\n",
    "ef.save_weights_to_file(\"total_weights.csv\")  # saves to file\n",
    "print(cleaned_weights)\n",
    "ef.portfolio_performance(verbose=True)\n"
   ]
  },
  {
   "cell_type": "code",
   "execution_count": 233,
   "metadata": {},
   "outputs": [
    {
     "name": "stdout",
     "output_type": "stream",
     "text": [
      "                   AGG        DBC        VIX         VTI\n",
      "date                                                    \n",
      "2018-01-01  109.329832  16.371936  10.903424  136.543263\n",
      "2018-01-02  109.196613  16.429920   9.991940  137.874943\n",
      "2018-01-03  109.005003  16.548896  10.541730  139.443200\n",
      "2018-01-04  108.631674  16.514156  11.182753  140.666548\n",
      "2018-01-05  108.508273  16.748682  10.887807  142.224436\n",
      "...                ...        ...        ...         ...\n",
      "2018-06-10  117.530051  15.172755  21.288047  196.219052\n",
      "2018-06-11  117.449593  15.242537  30.076821  193.131110\n",
      "2018-06-12  117.140880  15.719244  22.391918  197.157843\n",
      "2018-06-13  117.031545  16.117180  18.876409  201.188322\n",
      "2018-06-14  116.512032  16.388879  20.989956  208.638974\n",
      "\n",
      "[165 rows x 4 columns]\n"
     ]
    }
   ],
   "source": [
    "SVR=pd.read_csv(r\"C:\\Users\\huyue\\OneDrive\\Desktop\\New folder\\Portfolio_Data\\SVR.csv\")\n",
    "SVR['date']=pd.to_datetime(SVR['date'])\n",
    "SVR=SVR.set_index('date')\n",
    "print(SVR)"
   ]
  },
  {
   "cell_type": "code",
   "execution_count": 234,
   "metadata": {},
   "outputs": [
    {
     "name": "stdout",
     "output_type": "stream",
     "text": [
      "AGG    0.102704\n",
      "DBC    0.001591\n",
      "VIX    1.735770\n",
      "VTI    0.918333\n",
      "dtype: float64\n",
      "          AGG       DBC       VIX       VTI\n",
      "AGG  0.004127 -0.004028  0.016757  0.002234\n",
      "DBC -0.004028  0.099229 -0.281440  0.017651\n",
      "VIX  0.016757 -0.281440  4.354383 -0.310936\n",
      "VTI  0.002234  0.017651 -0.310936  0.089280\n"
     ]
    }
   ],
   "source": [
    "mu2 = expected_returns.mean_historical_return(SVR)\n",
    "S2 = risk_models.sample_cov(SVR)\n",
    "print(mu2)\n",
    "print(S2)"
   ]
  },
  {
   "cell_type": "code",
   "execution_count": 235,
   "metadata": {},
   "outputs": [
    {
     "name": "stdout",
     "output_type": "stream",
     "text": [
      "OrderedDict([('AGG', 0.29041), ('DBC', 0.07219), ('VIX', 0.06004), ('VTI', 0.57736)])\n",
      "Expected annual return: 66.4%\n",
      "Annual volatility: 15.8%\n",
      "Sharpe Ratio: 4.08\n"
     ]
    },
    {
     "data": {
      "text/plain": [
       "(0.6643632632742049, 0.15799386405605606, 4.078406887026863)"
      ]
     },
     "execution_count": 235,
     "metadata": {},
     "output_type": "execute_result"
    }
   ],
   "source": [
    "# Optimize for maximal Sharpe ratio\n",
    "ef = EfficientFrontier(mu2, S2)\n",
    "raw_weights = ef.max_sharpe()\n",
    "cleaned_weights = ef.clean_weights()\n",
    "ef.save_weights_to_file(\"SVR_weights.csv\")  # saves to file\n",
    "print(cleaned_weights)\n",
    "ef.portfolio_performance(verbose=True)"
   ]
  },
  {
   "cell_type": "code",
   "execution_count": 244,
   "metadata": {},
   "outputs": [
    {
     "name": "stdout",
     "output_type": "stream",
     "text": [
      "                   AGG        DBC        VIX         VTI\n",
      "date                                                    \n",
      "2018-01-01  109.388750  16.585836  10.913193  139.490239\n",
      "2018-01-02  109.297030  16.744519  10.854113  140.981623\n",
      "2018-01-03  108.890762  16.715794  10.842558  143.115590\n",
      "2018-01-04  108.545002  17.099181  10.135400  144.801896\n",
      "2018-01-05  108.538915  17.269221  11.285323  145.757390\n",
      "...                ...        ...        ...         ...\n",
      "2018-06-10  117.721503  15.090100  24.748897  191.155969\n",
      "2018-06-11  117.638891  14.842761  27.806097  188.438474\n",
      "2018-06-12  117.236291  15.790789  19.026775  192.040547\n",
      "2018-06-13  117.020045  15.991580  20.647016  193.889641\n",
      "2018-06-14  116.440726  16.170155  22.336308  197.614843\n",
      "\n",
      "[165 rows x 4 columns]\n"
     ]
    }
   ],
   "source": [
    "LSTM=pd.read_csv(r\"C:\\Users\\huyue\\OneDrive\\Desktop\\New folder\\Portfolio_Data\\LSTM.csv\")\n",
    "LSTM['date']=pd.to_datetime(LSTM['date'])\n",
    "LSTM=LSTM.set_index('date')\n",
    "print(LSTM)"
   ]
  },
  {
   "cell_type": "code",
   "execution_count": 245,
   "metadata": {},
   "outputs": [
    {
     "name": "stdout",
     "output_type": "stream",
     "text": [
      "AGG    0.100756\n",
      "DBC   -0.038251\n",
      "VIX    2.005866\n",
      "VTI    0.707844\n",
      "dtype: float64\n",
      "          AGG       DBC        VIX       VTI\n",
      "AGG  0.005103  0.004659   0.008347  0.001611\n",
      "DBC  0.004659  0.199638  -0.156715  0.065216\n",
      "VIX  0.008347 -0.156715  10.082109 -0.287841\n",
      "VTI  0.001611  0.065216  -0.287841  0.112777\n"
     ]
    }
   ],
   "source": [
    "mu3 = expected_returns.mean_historical_return(LSTM)\n",
    "S3 = risk_models.sample_cov(LSTM)\n",
    "print(mu3)\n",
    "print(S3)"
   ]
  },
  {
   "cell_type": "code",
   "execution_count": 246,
   "metadata": {},
   "outputs": [
    {
     "name": "stdout",
     "output_type": "stream",
     "text": [
      "OrderedDict([('AGG', 0.64163), ('DBC', 0.0), ('VIX', 0.01887), ('VTI', 0.33951)])\n",
      "Expected annual return: 34.3%\n",
      "Annual volatility: 12.6%\n",
      "Sharpe Ratio: 2.56\n"
     ]
    },
    {
     "data": {
      "text/plain": [
       "(0.3428104750184832, 0.1261180961295176, 2.559588868888184)"
      ]
     },
     "execution_count": 246,
     "metadata": {},
     "output_type": "execute_result"
    }
   ],
   "source": [
    "# Optimize for maximal Sharpe ratio\n",
    "ef = EfficientFrontier(mu3, S3)\n",
    "raw_weights = ef.max_sharpe()\n",
    "cleaned_weights = ef.clean_weights()\n",
    "ef.save_weights_to_file(\"LSTM_weights.csv\")  # saves to file\n",
    "print(cleaned_weights)\n",
    "ef.portfolio_performance(verbose=True)"
   ]
  },
  {
   "cell_type": "code",
   "execution_count": 236,
   "metadata": {},
   "outputs": [
    {
     "name": "stdout",
     "output_type": "stream",
     "text": [
      "                   AGG        DBC        VIX         VTI\n",
      "date                                                    \n",
      "2018-01-01  109.352716  17.281754  10.512458  137.718948\n",
      "2018-01-02  109.329719  16.566962  10.284058  141.239398\n",
      "2018-01-03  108.791242  16.987112  10.433590  142.836363\n",
      "2018-01-04  108.553992  16.750673  10.802147  143.813232\n",
      "2018-01-05  108.518337  16.982969  11.099605  147.354530\n",
      "...                ...        ...        ...         ...\n",
      "2018-06-10  117.532181  15.259121  20.607289  199.283195\n",
      "2018-06-11  117.240458  15.103753  32.017124  192.981252\n",
      "2018-06-12  116.949523  15.550744  23.058898  203.547257\n",
      "2018-06-13  116.933015  15.857191  22.621778  208.363998\n",
      "2018-06-14  116.449367  16.300468  23.249347  204.354577\n",
      "\n",
      "[165 rows x 4 columns]\n"
     ]
    }
   ],
   "source": [
    "ANN=pd.read_csv(r\"C:\\Users\\huyue\\OneDrive\\Desktop\\New folder\\Portfolio_Data\\ANN.csv\")\n",
    "ANN['date']=pd.to_datetime(ANN['date'])\n",
    "ANN=ANN.set_index('date')\n",
    "print(ANN)"
   ]
  },
  {
   "cell_type": "code",
   "execution_count": 237,
   "metadata": {},
   "outputs": [
    {
     "name": "stdout",
     "output_type": "stream",
     "text": [
      "AGG    0.101439\n",
      "DBC   -0.085909\n",
      "VIX    2.385875\n",
      "VTI    0.833819\n",
      "dtype: float64\n",
      "          AGG       DBC        VIX       VTI\n",
      "AGG  0.007807  0.000803  -0.005560 -0.002010\n",
      "DBC  0.000803  0.186199  -0.487681  0.100652\n",
      "VIX -0.005560 -0.487681  10.189807 -0.753041\n",
      "VTI -0.002010  0.100652  -0.753041  0.188547\n"
     ]
    }
   ],
   "source": [
    "mu4 = expected_returns.mean_historical_return(ANN)\n",
    "S4 = risk_models.sample_cov(ANN)\n",
    "print(mu4)\n",
    "print(S4)"
   ]
  },
  {
   "cell_type": "code",
   "execution_count": 238,
   "metadata": {},
   "outputs": [
    {
     "name": "stdout",
     "output_type": "stream",
     "text": [
      "OrderedDict([('AGG', 0.60483), ('DBC', 0.0), ('VIX', 0.03757), ('VTI', 0.3576)])\n",
      "Expected annual return: 44.9%\n",
      "Annual volatility: 14.1%\n",
      "Sharpe Ratio: 3.04\n"
     ]
    },
    {
     "data": {
      "text/plain": [
       "(0.4491738910865246, 0.14140089635494735, 3.035156792848072)"
      ]
     },
     "execution_count": 238,
     "metadata": {},
     "output_type": "execute_result"
    }
   ],
   "source": [
    "# Optimize for maximal Sharpe ratio\n",
    "ef = EfficientFrontier(mu4, S4)\n",
    "raw_weights = ef.max_sharpe()\n",
    "cleaned_weights = ef.clean_weights()\n",
    "ef.save_weights_to_file(\"ANN_weights.csv\")  # saves to file\n",
    "print(cleaned_weights)\n",
    "ef.portfolio_performance(verbose=True)"
   ]
  },
  {
   "cell_type": "code",
   "execution_count": 239,
   "metadata": {},
   "outputs": [
    {
     "name": "stdout",
     "output_type": "stream",
     "text": [
      "                   AGG        DBC        VIX         VTI\n",
      "date                                                    \n",
      "2018-01-01  109.585885  15.739770  13.422133  130.894352\n",
      "2018-01-02  109.246608  15.699150  11.870975  130.894352\n",
      "2018-01-03  108.838129  15.732380  10.747046  130.894352\n",
      "2018-01-04  108.497227  15.638340  11.891007  130.894352\n",
      "2018-01-05  108.313207  15.842960  11.688518  132.623309\n",
      "...                ...        ...        ...         ...\n",
      "2018-06-10  117.419799  14.826473  25.210829  171.926359\n",
      "2018-06-11  117.299122  15.046470  27.650775  171.926359\n",
      "2018-06-12  117.059003  15.708414  21.573814  171.926359\n",
      "2018-06-13  117.109944  15.936046  19.070127  171.926359\n",
      "2018-06-14  117.092459  16.021458  22.191870  189.181814\n",
      "\n",
      "[165 rows x 4 columns]\n"
     ]
    }
   ],
   "source": [
    "RF=pd.read_csv(r\"C:\\Users\\huyue\\OneDrive\\Desktop\\New folder\\Final_Portfolio_Data\\RF.csv\")\n",
    "RF['date']=pd.to_datetime(RF['date'])\n",
    "RF=RF.set_index('date')\n",
    "print(RF)"
   ]
  },
  {
   "cell_type": "code",
   "execution_count": 240,
   "metadata": {},
   "outputs": [
    {
     "name": "stdout",
     "output_type": "stream",
     "text": [
      "AGG    0.107170\n",
      "DBC    0.027631\n",
      "VIX    1.165448\n",
      "VTI    0.761124\n",
      "dtype: float64\n",
      "          AGG       DBC       VIX       VTI\n",
      "AGG  0.002781 -0.004467  0.015431  0.000493\n",
      "DBC -0.004467  0.112200 -0.228819  0.010452\n",
      "VIX  0.015431 -0.228819  3.592774 -0.060366\n",
      "VTI  0.000493  0.010452 -0.060366  0.078018\n"
     ]
    }
   ],
   "source": [
    "mu5 = expected_returns.mean_historical_return(RF)\n",
    "S5 = risk_models.sample_cov(RF)\n",
    "print(mu5)\n",
    "print(S5)"
   ]
  },
  {
   "cell_type": "code",
   "execution_count": 241,
   "metadata": {},
   "outputs": [
    {
     "name": "stdout",
     "output_type": "stream",
     "text": [
      "OrderedDict([('AGG', 0.72416), ('DBC', 0.03039), ('VIX', 0.01066), ('VTI', 0.23479)])\n",
      "Expected annual return: 27.0%\n",
      "Annual volatility: 7.9%\n",
      "Sharpe Ratio: 3.18\n"
     ]
    },
    {
     "data": {
      "text/plain": [
       "(0.26957741007555847, 0.07860608986192932, 3.1750391161033233)"
      ]
     },
     "execution_count": 241,
     "metadata": {},
     "output_type": "execute_result"
    }
   ],
   "source": [
    "# Optimize for maximal Sharpe ratio\n",
    "ef = EfficientFrontier(mu5, S5)\n",
    "raw_weights = ef.max_sharpe()\n",
    "cleaned_weights = ef.clean_weights()\n",
    "ef.save_weights_to_file(\"ANN_weights.csv\")  # saves to file\n",
    "print(cleaned_weights)\n",
    "ef.portfolio_performance(verbose=True)"
   ]
  },
  {
   "cell_type": "code",
   "execution_count": null,
   "metadata": {},
   "outputs": [],
   "source": []
  }
 ],
 "metadata": {
  "kernelspec": {
   "display_name": "Python 3",
   "language": "python",
   "name": "python3"
  },
  "language_info": {
   "codemirror_mode": {
    "name": "ipython",
    "version": 3
   },
   "file_extension": ".py",
   "mimetype": "text/x-python",
   "name": "python",
   "nbconvert_exporter": "python",
   "pygments_lexer": "ipython3",
   "version": "3.8.3"
  }
 },
 "nbformat": 4,
 "nbformat_minor": 4
}
