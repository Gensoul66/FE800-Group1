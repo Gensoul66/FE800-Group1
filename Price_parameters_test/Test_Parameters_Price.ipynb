{
 "nbformat": 4,
 "nbformat_minor": 0,
 "metadata": {
  "kernelspec": {
   "display_name": "Python 3",
   "language": "python",
   "name": "python3"
  },
  "language_info": {
   "codemirror_mode": {
    "name": "ipython",
    "version": 2
   },
   "file_extension": ".py",
   "mimetype": "text/x-python",
   "name": "python",
   "nbconvert_exporter": "python",
   "pygments_lexer": "ipython2",
   "version": "2.7.6"
  },
  "pycharm": {
   "stem_cell": {
    "cell_type": "raw",
    "source": [],
    "metadata": {
     "collapsed": false
    }
   }
  },
  "colab": {
   "name": "Test_Parameters.ipynb",
   "provenance": [],
   "collapsed_sections": []
  },
  "accelerator": "GPU"
 },
 "cells": [
  {
   "cell_type": "code",
   "metadata": {
    "collapsed": true,
    "pycharm": {
     "is_executing": false
    },
    "id": "UmsMakycy7Gz",
    "executionInfo": {
     "status": "ok",
     "timestamp": 1619554544177,
     "user_tz": 240,
     "elapsed": 2622,
     "user": {
      "displayName": "Baihao Huang",
      "photoUrl": "",
      "userId": "14694409855365795295"
     }
    }
   },
   "source": [
    "import Function as f\n",
    "import numpy as np\n",
    "from sklearn.metrics import mean_absolute_error\n",
    "from tensorflow.keras.layers import LSTM,Input,Dense\n",
    "from tensorflow.keras.models import Sequential\n"
   ],
   "execution_count": 2,
   "outputs": []
  },
  {
   "cell_type": "code",
   "metadata": {
    "pycharm": {
     "name": "#%%\n",
     "is_executing": false
    },
    "id": "HzRkka4Gy7G8",
    "executionInfo": {
     "status": "ok",
     "timestamp": 1619554544334,
     "user_tz": 240,
     "elapsed": 1114,
     "user": {
      "displayName": "Baihao Huang",
      "photoUrl": "",
      "userId": "14694409855365795295"
     }
    }
   },
   "source": [
    "def lstm(note1,note2,note3):\n",
    "# define an activation function\n",
    "\n",
    "    # timesteps and number of features \n",
    "    timesteps = 5\n",
    "    n_features = 1\n",
    "\n",
    "    # define a simple lstm for\n",
    "    model = Sequential()\n",
    "    model.add(Input(shape=(timesteps,n_features)))\n",
    "    model.add(LSTM(note1,return_sequences=True))\n",
    "    model.add(LSTM(note2,return_sequences=False))\n",
    "    model.add(Dense(note3,activation='relu'))\n",
    "    model.add(Dense(1))\n",
    "    model.compile(optimizer='adam',loss='mae')\n",
    "    \n",
    "    return model\n",
    "\n",
    "def ann(note1,note2,note3):\n",
    "    \n",
    "    n_features = 5\n",
    "    \n",
    "    model = Sequential()\n",
    "    model.add(Input(shape=(n_features,)))\n",
    "    model.add(Dense(note1,'relu'))\n",
    "    model.add(Dense(note2,'relu'))\n",
    "    model.add(Dense(note3,'relu'))\n",
    "    model.add(Dense(1))\n",
    "    model.compile(optimizer='adam',loss='mae')\n",
    "    \n",
    "    return model\n",
    "\n",
    "def generator_price_lstm(x_train, y_train, x_val, y_val, x_test, y_test, date_test,y_scaler,\n",
    "              model_parameter, epochs, batch_size, thred):\n",
    "    # initialize\n",
    "    acc = []\n",
    "\n",
    "    for j in range(thred):\n",
    "        \n",
    "        y_true = np.array([])\n",
    "        y_pred = np.array([])\n",
    "        date = np.array([])\n",
    "        model = lstm(note1 = model_parameter[0],\n",
    "                     note2=model_parameter[1],\n",
    "                     note3=model_parameter[2])\n",
    "        for i in range(len(y_train)):\n",
    "        \n",
    "            \n",
    "            model.fit(x_train[i], y_train[i], validation_data=(x_val[i], y_val[i]),\n",
    "                      epochs=epochs, batch_size=batch_size,verbose=0)\n",
    "\n",
    "            predition = model.predict(x_test[i])\n",
    "\n",
    "            model.reset_states()\n",
    "            y_true = np.append(y_true, y_test[i])\n",
    "            y_pred = np.append(y_pred, predition)\n",
    "            date = np.append(date, date_test[i])\n",
    "            \n",
    "\n",
    "        y_true_transform = y_true * y_scaler[1] + y_scaler[0]\n",
    "        y_pred_transform = y_pred * y_scaler[1] + y_scaler[0]\n",
    "        \n",
    "        acc.append(mean_absolute_error(y_true_transform, y_pred_transform))\n",
    "        \n",
    "    acc_min = np.min(acc)\n",
    "  \n",
    "    return acc_min\n",
    "\n",
    "def generator_price_ann(x_train, y_train, x_val, y_val, x_test, y_test, date_test,y_scaler,\n",
    "              model_parameter, epochs, batch_size, thred):\n",
    "    # initialize\n",
    "    acc = []\n",
    "\n",
    "    for j in range(thred):\n",
    "        \n",
    "        model = ann(note1 = model_parameter[0],\n",
    "                     note2=model_parameter[1],\n",
    "                     note3=model_parameter[2])\n",
    "        \n",
    "        y_true = np.array([])\n",
    "        y_pred = np.array([])\n",
    "        date = np.array([])\n",
    "\n",
    "        for i in range(len(y_train)):\n",
    "            model.fit(x_train[i], y_train[i], validation_data=(x_val[i], y_val[i]),\n",
    "                      epochs=epochs, batch_size=batch_size,verbose=0)\n",
    "\n",
    "            predition = model.predict(x_test[i])\n",
    "\n",
    "            model.reset_states()\n",
    "            y_true = np.append(y_true, y_test[i])\n",
    "            y_pred = np.append(y_pred, predition)\n",
    "            date = np.append(date, date_test[i])\n",
    "            \n",
    "        y_true_transform = y_true * y_scaler[1] + y_scaler[0]\n",
    "        y_pred_transform = y_pred * y_scaler[1] + y_scaler[0]\n",
    "        \n",
    "        acc.append(mean_absolute_error(y_true_transform, y_pred_transform))\n",
    "        # print(j,mean_absolute_error(y_true, y_pred))\n",
    "        \n",
    "    acc_min = np.min(acc)\n",
    "  \n",
    "    return acc_min\n"
   ],
   "execution_count": 3,
   "outputs": []
  },
  {
   "cell_type": "code",
   "metadata": {
    "pycharm": {
     "name": "#%%\n",
     "is_executing": false
    },
    "colab": {
     "base_uri": "https://localhost:8080/"
    },
    "id": "At9ns31xy7G-",
    "executionInfo": {
     "status": "ok",
     "timestamp": 1619557285105,
     "user_tz": 240,
     "elapsed": 2737694,
     "user": {
      "displayName": "Baihao Huang",
      "photoUrl": "",
      "userId": "14694409855365795295"
     }
    },
    "outputId": "1c336476-e163-4b24-c56e-16abd3f13737"
   },
   "source": [
    "# LSTM\n",
    "times = 8\n",
    "names = ['AGG','DBC','VIX','VTI']\n",
    "\n",
    "small = []\n",
    "medium1 = []\n",
    "medium2 = []\n",
    "large = []\n",
    "    \n",
    "for i in names:\n",
    "    \n",
    "    \n",
    "    # loading data \n",
    "    x_train,y_train,x_val,y_val,x_test,y_test,date_test,y_scaler = f.data_generator_lstm(name=i,timesteps=5,\n",
    "                                                                train_len=100,val_len=10,test_len=5,forward_len=5)\n",
    "    # model 8/4/2\n",
    "    model = [8,4,2]\n",
    "    acc = generator_price_lstm(x_train,y_train,x_val,y_val,x_test,y_test,date_test,y_scaler,\n",
    "                            model,epochs=25,batch_size=50,thred=times)\n",
    "    small.append(acc)\n",
    "    \n",
    "    # model 32/16\n",
    "    model = [32,16,8]\n",
    "    acc = generator_price_lstm(x_train,y_train,x_val,y_val,x_test,y_test,date_test,y_scaler,\n",
    "                               model,epochs=25,batch_size=50,thred=times)\n",
    "    medium1.append(acc)\n",
    "    \n",
    "    # model 64/32\n",
    "    model = [64,32,16]\n",
    "    acc = generator_price_lstm(x_train,y_train,x_val,y_val,x_test,y_test,date_test,y_scaler,\n",
    "                            model,epochs=25,batch_size=50,thred=times)\n",
    "    medium2.append(acc)\n",
    "    \n",
    "    # model 128/64\n",
    "    model = [128,64,32]\n",
    "    acc = generator_price_lstm(x_train,y_train,x_val,y_val,x_test,y_test,date_test,y_scaler,\n",
    "                            model,epochs=25,batch_size=50,thred=times)\n",
    "    large.append(acc)"
   ],
   "execution_count": 4,
   "outputs": []
  },
  {
   "cell_type": "code",
   "execution_count": 5,
   "outputs": [
    {
     "name": "stdout",
     "text": [
      "[1.5349665136012645, 1.4928552908469979, 3.6134182721018706, 19.376698885220563]\n",
      "[0.726897784374149, 0.42590969730948686, 3.3624412687096945, 4.805504873474457]\n",
      "[0.7093644121351067, 0.4826735296298294, 3.7135709816938998, 4.542741341565977]\n",
      "[0.7795008108012499, 0.4540556507959029, 3.980215448886378, 4.233624671912515]\n",
      "6.504484740442674\n",
      "2.330188405966947\n",
      "2.362087566256203\n",
      "2.3618491455990114\n"
     ],
     "output_type": "stream"
    }
   ],
   "source": [
    "print(small)\n",
    "print(medium1)\n",
    "print(medium2)\n",
    "print(large)\n",
    "\n",
    "print(np.mean(small))\n",
    "print(np.mean(medium1))\n",
    "print(np.mean(medium2))\n",
    "print(np.mean(large))\n",
    "# 1.864068123257817\n",
    "# 1.287479630961372\n",
    "# 0.9085718958843285\n",
    "# 0.8217149862388022"
   ],
   "metadata": {
    "collapsed": false,
    "pycharm": {
     "name": "#%%\n",
     "is_executing": false
    }
   }
  },
  {
   "cell_type": "code",
   "metadata": {
    "pycharm": {
     "name": "#%%\n",
     "is_executing": false
    },
    "colab": {
     "base_uri": "https://localhost:8080/"
    },
    "id": "puKqBztgy7HA",
    "executionInfo": {
     "status": "ok",
     "timestamp": 1619560094438,
     "user_tz": 240,
     "elapsed": 2298812,
     "user": {
      "displayName": "Baihao Huang",
      "photoUrl": "",
      "userId": "14694409855365795295"
     }
    },
    "outputId": "24e648a0-da1c-4981-cb9e-ffea5738a9eb"
   },
   "source": [
    "# ANN\n",
    "times = 8\n",
    "names = ['AGG','DBC','VIX','VTI']\n",
    "\n",
    "small = []\n",
    "medium1 = []\n",
    "medium2 = []\n",
    "large = []\n",
    "    \n",
    "for i in names:\n",
    "    \n",
    "    # loading data \n",
    "    x_train,y_train,x_val,y_val,x_test,y_test,date_test,y_scaler= f.data_generator_ann(name=i,features=5,\n",
    "                                                                train_len=100,val_len=10,test_len=5,forward_len=5)\n",
    "    # model 8/4/2\n",
    "    model = [8,4,2]\n",
    "    acc = generator_price_ann(x_train,y_train,x_val,y_val,x_test,y_test,date_test,y_scaler,\n",
    "                            model,epochs=25,batch_size=50,thred=times)\n",
    "    small.append(acc)\n",
    "    \n",
    "    # model 32/16/8\n",
    "    model = [32,16,8]\n",
    "    acc = generator_price_ann(x_train,y_train,x_val,y_val,x_test,y_test,date_test,y_scaler,\n",
    "                                 model,epochs=25,batch_size=50,thred=times)\n",
    "    medium1.append(acc)\n",
    "    \n",
    "    # model 64/32/16\n",
    "    model = [64,32,16]\n",
    "    acc = generator_price_ann(x_train,y_train,x_val,y_val,x_test,y_test,date_test,y_scaler,\n",
    "                              model,epochs=25,batch_size=50,thred=times)\n",
    "    medium2.append(acc)\n",
    "    \n",
    "    # model 128/64/32\n",
    "    model = [128,64,32]\n",
    "    acc = generator_price_ann(x_train,y_train,x_val,y_val,x_test,y_test,date_test,y_scaler,\n",
    "                            model,epochs=25,batch_size=50,thred=times)\n",
    "    large.append(acc)"
   ],
   "execution_count": 6,
   "outputs": []
  },
  {
   "cell_type": "code",
   "execution_count": 6,
   "outputs": [
    {
     "name": "stdout",
     "text": [
      "[4.408627891076656, 0.6233060507915018, 3.760108539545844, 13.05705959692306]\n",
      "[0.6612603173692976, 0.47017800698487894, 3.411698052861373, 5.089295208785433]\n",
      "[0.6845273535554061, 0.3347084886231804, 3.2266436059926558, 4.167611431857856]\n",
      "[0.7001445958526761, 0.39689532441360165, 3.5390280126221922, 4.292207598996064]\n",
      "5.462275519584265\n",
      "2.408107896500246\n",
      "2.1033727200072745\n",
      "2.2320688829711335\n"
     ],
     "output_type": "stream"
    }
   ],
   "source": [
    "print(small)\n",
    "print(medium1)\n",
    "print(medium2)\n",
    "print(large)\n",
    "\n",
    "print(np.mean(small))\n",
    "print(np.mean(medium1))\n",
    "print(np.mean(medium2))\n",
    "print(np.mean(large))"
   ],
   "metadata": {
    "collapsed": false,
    "pycharm": {
     "name": "#%%\n",
     "is_executing": false
    }
   }
  },
  {
   "cell_type": "code",
   "metadata": {
    "pycharm": {
     "name": "#%%\n",
     "is_executing": false
    },
    "id": "HSjftShTy7HB"
   },
   "source": [],
   "execution_count": null,
   "outputs": []
  }
 ]
}