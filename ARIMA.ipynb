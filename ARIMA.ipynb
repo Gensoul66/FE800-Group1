{
 "cells": [
  {
   "cell_type": "code",
   "execution_count": 1,
   "metadata": {
    "collapsed": true,
    "pycharm": {
     "is_executing": false
    }
   },
   "outputs": [],
   "source": [
    "from statsmodels.tsa.arima.model import ARIMA\n",
    "from statsmodels.graphics.tsaplots import plot_pacf,plot_acf\n",
    "import pandas as pd\n",
    "import numpy as np\n",
    "import matplotlib.pyplot as plt\n",
    "from sklearn.metrics import mean_absolute_error,mean_squared_error"
   ]
  },
  {
   "cell_type": "code",
   "execution_count": 2,
   "outputs": [],
   "source": [
    "name = 'VTI'\n",
    "start_point = 900\n",
    "steps = 5\n",
    "data = pd.read_csv('processed_data/Daily_Regression/rd_' + name + '.csv')\n",
    "pred_len = len(data['processed_price'][start_point:])//steps * steps"
   ],
   "metadata": {
    "collapsed": false,
    "pycharm": {
     "name": "#%%\n",
     "is_executing": false
    }
   }
  },
  {
   "cell_type": "code",
   "execution_count": 29,
   "outputs": [
    {
     "name": "stderr",
     "text": [
      "/Users/baihaohuang/opt/anaconda3/envs/untitled/lib/python3.7/site-packages/statsmodels/base/model.py:568: ConvergenceWarning: Maximum Likelihood optimization failed to converge. Check mle_retvals\n",
      "  ConvergenceWarning)\n",
      "/Users/baihaohuang/opt/anaconda3/envs/untitled/lib/python3.7/site-packages/statsmodels/base/model.py:568: ConvergenceWarning: Maximum Likelihood optimization failed to converge. Check mle_retvals\n",
      "  ConvergenceWarning)\n",
      "/Users/baihaohuang/opt/anaconda3/envs/untitled/lib/python3.7/site-packages/statsmodels/base/model.py:568: ConvergenceWarning: Maximum Likelihood optimization failed to converge. Check mle_retvals\n",
      "  ConvergenceWarning)\n",
      "/Users/baihaohuang/opt/anaconda3/envs/untitled/lib/python3.7/site-packages/statsmodels/base/model.py:568: ConvergenceWarning: Maximum Likelihood optimization failed to converge. Check mle_retvals\n",
      "  ConvergenceWarning)\n",
      "/Users/baihaohuang/opt/anaconda3/envs/untitled/lib/python3.7/site-packages/statsmodels/base/model.py:568: ConvergenceWarning: Maximum Likelihood optimization failed to converge. Check mle_retvals\n",
      "  ConvergenceWarning)\n",
      "/Users/baihaohuang/opt/anaconda3/envs/untitled/lib/python3.7/site-packages/statsmodels/base/model.py:568: ConvergenceWarning: Maximum Likelihood optimization failed to converge. Check mle_retvals\n",
      "  ConvergenceWarning)\n",
      "/Users/baihaohuang/opt/anaconda3/envs/untitled/lib/python3.7/site-packages/statsmodels/base/model.py:568: ConvergenceWarning: Maximum Likelihood optimization failed to converge. Check mle_retvals\n",
      "  ConvergenceWarning)\n",
      "/Users/baihaohuang/opt/anaconda3/envs/untitled/lib/python3.7/site-packages/statsmodels/base/model.py:568: ConvergenceWarning: Maximum Likelihood optimization failed to converge. Check mle_retvals\n",
      "  ConvergenceWarning)\n",
      "/Users/baihaohuang/opt/anaconda3/envs/untitled/lib/python3.7/site-packages/statsmodels/base/model.py:568: ConvergenceWarning: Maximum Likelihood optimization failed to converge. Check mle_retvals\n",
      "  ConvergenceWarning)\n",
      "/Users/baihaohuang/opt/anaconda3/envs/untitled/lib/python3.7/site-packages/statsmodels/base/model.py:568: ConvergenceWarning: Maximum Likelihood optimization failed to converge. Check mle_retvals\n",
      "  ConvergenceWarning)\n",
      "/Users/baihaohuang/opt/anaconda3/envs/untitled/lib/python3.7/site-packages/statsmodels/base/model.py:568: ConvergenceWarning: Maximum Likelihood optimization failed to converge. Check mle_retvals\n",
      "  ConvergenceWarning)\n",
      "/Users/baihaohuang/opt/anaconda3/envs/untitled/lib/python3.7/site-packages/statsmodels/base/model.py:568: ConvergenceWarning: Maximum Likelihood optimization failed to converge. Check mle_retvals\n",
      "  ConvergenceWarning)\n",
      "/Users/baihaohuang/opt/anaconda3/envs/untitled/lib/python3.7/site-packages/statsmodels/base/model.py:568: ConvergenceWarning: Maximum Likelihood optimization failed to converge. Check mle_retvals\n",
      "  ConvergenceWarning)\n",
      "/Users/baihaohuang/opt/anaconda3/envs/untitled/lib/python3.7/site-packages/statsmodels/base/model.py:568: ConvergenceWarning: Maximum Likelihood optimization failed to converge. Check mle_retvals\n",
      "  ConvergenceWarning)\n",
      "/Users/baihaohuang/opt/anaconda3/envs/untitled/lib/python3.7/site-packages/statsmodels/base/model.py:568: ConvergenceWarning: Maximum Likelihood optimization failed to converge. Check mle_retvals\n",
      "  ConvergenceWarning)\n"
     ],
     "output_type": "stream"
    }
   ],
   "source": [
    "date =  data['Date'][start_point:].values[0:pred_len]\n",
    "y_pred = np.array([])\n",
    "y_true = data['processed_price'][start_point:].values[0:pred_len]\n",
    "\n",
    "for i in range(pred_len//steps):\n",
    "    \n",
    "    # moveing closing price \n",
    "    \n",
    "    x_train = data['processed_price'][0+i*steps:start_point+i*steps].values\n",
    "    # model\n",
    "    model = ARIMA(x_train, order=(1,1,0))\n",
    "    model_fit = model.fit()\n",
    "\n",
    "    # forecasting and save the output \n",
    "    output = model_fit.forecast(steps=steps)\n",
    "    y_pred = np.append(y_pred,output)\n"
   ],
   "metadata": {
    "collapsed": false,
    "pycharm": {
     "name": "#%%\n",
     "is_executing": false
    }
   }
  },
  {
   "cell_type": "code",
   "execution_count": 30,
   "outputs": [],
   "source": [
    "scaler = np.load('scaler/Daily.npy')\n",
    "if name == 'AGG':\n",
    "    max_value = scaler[1,0]\n",
    "    min_value = scaler[1,1]\n",
    "elif name == 'DBC':\n",
    "    max_value = scaler[2,0]\n",
    "    min_value = scaler[2,1]\n",
    "elif name == 'VIX':\n",
    "    max_value = scaler[3,0]\n",
    "    min_value = scaler[3,1]\n",
    "elif name == 'VTI':\n",
    "    max_value = scaler[0,0]\n",
    "    min_value = scaler[0,1]"
   ],
   "metadata": {
    "collapsed": false,
    "pycharm": {
     "name": "#%%\n",
     "is_executing": false
    }
   }
  },
  {
   "cell_type": "code",
   "execution_count": 31,
   "outputs": [
    {
     "data": {
      "text/plain": "<matplotlib.legend.Legend at 0x7fc3c87514d0>"
     },
     "metadata": {},
     "output_type": "execute_result",
     "execution_count": 31
    },
    {
     "data": {
      "text/plain": "<Figure size 432x288 with 1 Axes>",
      "image/png": "[encoded data removed]"
     },
     "metadata": {
      "needs_background": "light"
     },
     "output_type": "display_data"
    }
   ],
   "source": [
    "y_true_transform = y_true * (max_value - min_value) + min_value\n",
    "y_pred_transform = y_pred * (max_value - min_value) + min_value\n",
    "plt.plot(y_true_transform,label='y_true')\n",
    "plt.plot(y_pred_transform,label='y_pred')\n",
    "plt.legend()"
   ],
   "metadata": {
    "collapsed": false,
    "pycharm": {
     "name": "#%%\n",
     "is_executing": false
    }
   }
  },
  {
   "cell_type": "code",
   "execution_count": 32,
   "outputs": [
    {
     "name": "stdout",
     "text": [
      "2.2366306896081816\n"
     ],
     "output_type": "stream"
    }
   ],
   "source": [
    "print(mean_absolute_error(y_true_transform ,y_pred_transform))"
   ],
   "metadata": {
    "collapsed": false,
    "pycharm": {
     "name": "#%%\n",
     "is_executing": false
    }
   }
  },
  {
   "cell_type": "code",
   "execution_count": 33,
   "outputs": [],
   "source": [
    "residual = y_true_transform - y_pred_transform"
   ],
   "metadata": {
    "collapsed": false,
    "pycharm": {
     "name": "#%%\n",
     "is_executing": false
    }
   }
  },
  {
   "cell_type": "code",
   "execution_count": 34,
   "outputs": [],
   "source": [
    "# save the result\n",
    "result = pd.DataFrame(data={'Date':date,\n",
    "                            'y_true':y_true_transform,\n",
    "                            'y_pred':y_pred_transform})\n",
    "\n",
    "\n",
    "result.to_csv('prediction_result/Arima_Reg/' + name + '_Reg.csv',index=False)"
   ],
   "metadata": {
    "collapsed": false,
    "pycharm": {
     "name": "#%%\n",
     "is_executing": false
    }
   }
  },
  {
   "cell_type": "code",
   "execution_count": 35,
   "outputs": [],
   "source": [
    "# save the residual data\n",
    "df = pd.DataFrame()\n",
    "df['Date'] = date\n",
    "df['Residual_y'] = residual\n",
    "df['Residual_x'] =residual\n",
    "# shift data \n",
    "df.iloc[:,2:] = df.iloc[:,2:].shift(1)\n",
    "df = df.dropna()\n",
    "# save the data \n",
    "df.to_csv('residual/feature/'+ name + '.csv',index = False)"
   ],
   "metadata": {
    "collapsed": false,
    "pycharm": {
     "name": "#%%\n",
     "is_executing": false
    }
   }
  },
  {
   "cell_type": "code",
   "execution_count": 11,
   "outputs": [],
   "source": [],
   "metadata": {
    "collapsed": false,
    "pycharm": {
     "name": "#%%\n",
     "is_executing": false
    }
   }
  }
 ],
 "metadata": {
  "kernelspec": {
   "display_name": "Python 3",
   "language": "python",
   "name": "python3"
  },
  "language_info": {
   "codemirror_mode": {
    "name": "ipython",
    "version": 2
   },
   "file_extension": ".py",
   "mimetype": "text/x-python",
   "name": "python",
   "nbconvert_exporter": "python",
   "pygments_lexer": "ipython2",
   "version": "2.7.6"
  },
  "pycharm": {
   "stem_cell": {
    "cell_type": "raw",
    "source": [],
    "metadata": {
     "collapsed": false
    }
   }
  }
 },
 "nbformat": 4,
 "nbformat_minor": 0
}