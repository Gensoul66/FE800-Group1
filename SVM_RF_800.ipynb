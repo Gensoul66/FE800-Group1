{
 "cells": [
  {
   "cell_type": "code",
   "execution_count": 1,
   "metadata": {
    "pycharm": {
     "is_executing": false
    }
   },
   "outputs": [],
   "source": [
    "import numpy as np\n",
    "import pandas as pd \n",
    "from sklearn.ensemble import RandomForestRegressor,RandomForestClassifier\n",
    "from sklearn.svm import SVR,SVC\n",
    "from sklearn.model_selection import GridSearchCV,KFold\n",
    "from sklearn.metrics import mean_squared_error,mean_absolute_error,accuracy_score\n",
    "from math import sqrt\n",
    "import matplotlib.pyplot as plt\n",
    "import os \n",
    "import ML_function as mf\n"
   ]
  },
  {
   "cell_type": "code",
   "execution_count": 49,
   "metadata": {
    "pycharm": {
     "is_executing": false,
     "name": "#%%\n"
    },
    "scrolled": false
   },
   "outputs": [
    {
     "name": "stdout",
     "output_type": "stream",
     "text": [
      "         Date  Residual_y  Residual_x\n",
      "0  2016-12-19   -0.730003   -0.380005\n",
      "1  2016-12-26   -1.830002   -0.730003\n",
      "2  2017-01-02    0.080002   -1.830002\n",
      "3  2017-01-09    0.070000    0.080002\n",
      "4  2017-01-16   -0.309998    0.070000\n"
     ]
    }
   ],
   "source": [
    "# load AGG data \n",
    "AGG_Reg = pd.read_csv(r\"C:\\Users\\huyue\\OneDrive\\Desktop\\new_week_data\\Weekly_Data\\residual_feature\\VTI_reg.csv\") \n",
    "\n",
    "print(AGG_Reg.head())\n",
    "\n",
    "# train \n",
    "train,validation,test = mf.rolling_windows(AGG_Reg,100,0,5,5)\n"
   ]
  },
  {
   "cell_type": "code",
   "execution_count": 8,
   "metadata": {
    "scrolled": true
   },
   "outputs": [
    {
     "name": "stdout",
     "output_type": "stream",
     "text": [
      "mean_absolute_error: 0.5608527280952393\n",
      "rmse: 0.7485122707303236\n"
     ]
    },
    {
     "data": {
      "text/plain": [
       "<matplotlib.legend.Legend at 0x192e2431820>"
      ]
     },
     "execution_count": 8,
     "metadata": {},
     "output_type": "execute_result"
    },
    {
     "data": {
      "image/png": "[encoded data removed]",
      "text/plain": [
       "<Figure size 432x288 with 1 Axes>"
      ]
     },
     "metadata": {
      "needs_background": "light"
     },
     "output_type": "display_data"
    }
   ],
   "source": [
    "AGG_Reg = pd.read_csv(r\"C:\\Users\\huyue\\OneDrive\\Desktop\\result\\AGG_wkReg_SVR_inverse_gai.csv\") \n",
    "\n",
    "print(\"mean_absolute_error:\",mean_absolute_error(AGG_Reg['y_pred'],AGG_Reg['y_true']))\n",
    "#print(\"mean_squared_error:\",mean_squared_error(AGG_Reg['y_pred'],AGG_Reg['y_true']))\n",
    "print(\"rmse:\", sqrt(mean_squared_error(AGG_Reg['y_pred'],AGG_Reg['y_true'])))\n",
    "\n",
    "plt.title(\"SVR\") \n",
    "plt.plot(AGG_Reg['y_pred'],label='y_pred')\n",
    "plt.plot(AGG_Reg['y_true'],label='y_true')\n",
    "plt.legend()"
   ]
  },
  {
   "cell_type": "code",
   "execution_count": 50,
   "metadata": {
    "pycharm": {
     "is_executing": false,
     "name": "#%%\n"
    }
   },
   "outputs": [
    {
     "name": "stdout",
     "output_type": "stream",
     "text": [
      "Fitting 5 folds for each of 36 candidates, totalling 180 fits\n"
     ]
    },
    {
     "name": "stderr",
     "output_type": "stream",
     "text": [
      "[Parallel(n_jobs=-1)]: Using backend LokyBackend with 12 concurrent workers.\n",
      "[Parallel(n_jobs=-1)]: Done  17 tasks      | elapsed:    1.6s\n",
      "[Parallel(n_jobs=-1)]: Done 180 out of 180 | elapsed:    1.7s finished\n",
      "[Parallel(n_jobs=-1)]: Using backend LokyBackend with 12 concurrent workers.\n",
      "[Parallel(n_jobs=-1)]: Done  17 tasks      | elapsed:    0.0s\n"
     ]
    },
    {
     "name": "stdout",
     "output_type": "stream",
     "text": [
      "Fitting 5 folds for each of 36 candidates, totalling 180 fits\n",
      "Fitting 5 folds for each of 36 candidates, totalling 180 fits\n"
     ]
    },
    {
     "name": "stderr",
     "output_type": "stream",
     "text": [
      "[Parallel(n_jobs=-1)]: Done 180 out of 180 | elapsed:    0.0s finished\n",
      "[Parallel(n_jobs=-1)]: Using backend LokyBackend with 12 concurrent workers.\n",
      "[Parallel(n_jobs=-1)]: Done  17 tasks      | elapsed:    0.0s\n",
      "[Parallel(n_jobs=-1)]: Done 157 out of 180 | elapsed:    0.0s remaining:    0.0s\n",
      "[Parallel(n_jobs=-1)]: Done 180 out of 180 | elapsed:    0.0s finished\n",
      "[Parallel(n_jobs=-1)]: Using backend LokyBackend with 12 concurrent workers.\n",
      "[Parallel(n_jobs=-1)]: Done  17 tasks      | elapsed:    0.0s\n",
      "[Parallel(n_jobs=-1)]: Done 180 out of 180 | elapsed:    0.0s finished\n",
      "[Parallel(n_jobs=-1)]: Using backend LokyBackend with 12 concurrent workers.\n",
      "[Parallel(n_jobs=-1)]: Done  17 tasks      | elapsed:    0.0s\n"
     ]
    },
    {
     "name": "stdout",
     "output_type": "stream",
     "text": [
      "Fitting 5 folds for each of 36 candidates, totalling 180 fits\n",
      "Fitting 5 folds for each of 36 candidates, totalling 180 fits\n"
     ]
    },
    {
     "name": "stderr",
     "output_type": "stream",
     "text": [
      "[Parallel(n_jobs=-1)]: Done 180 out of 180 | elapsed:    0.0s finished\n",
      "[Parallel(n_jobs=-1)]: Using backend LokyBackend with 12 concurrent workers.\n",
      "[Parallel(n_jobs=-1)]: Done  17 tasks      | elapsed:    0.0s\n"
     ]
    },
    {
     "name": "stdout",
     "output_type": "stream",
     "text": [
      "Fitting 5 folds for each of 36 candidates, totalling 180 fits\n",
      "Fitting 5 folds for each of 36 candidates, totalling 180 fits\n"
     ]
    },
    {
     "name": "stderr",
     "output_type": "stream",
     "text": [
      "[Parallel(n_jobs=-1)]: Done 180 out of 180 | elapsed:    0.0s finished\n",
      "[Parallel(n_jobs=-1)]: Using backend LokyBackend with 12 concurrent workers.\n",
      "[Parallel(n_jobs=-1)]: Done  17 tasks      | elapsed:    0.0s\n",
      "[Parallel(n_jobs=-1)]: Done 180 out of 180 | elapsed:    0.0s finished\n",
      "[Parallel(n_jobs=-1)]: Using backend LokyBackend with 12 concurrent workers.\n",
      "[Parallel(n_jobs=-1)]: Done  17 tasks      | elapsed:    0.0s\n"
     ]
    },
    {
     "name": "stdout",
     "output_type": "stream",
     "text": [
      "Fitting 5 folds for each of 36 candidates, totalling 180 fits\n",
      "Fitting 5 folds for each of 36 candidates, totalling 180 fits\n"
     ]
    },
    {
     "name": "stderr",
     "output_type": "stream",
     "text": [
      "[Parallel(n_jobs=-1)]: Done 157 out of 180 | elapsed:    0.0s remaining:    0.0s\n",
      "[Parallel(n_jobs=-1)]: Done 180 out of 180 | elapsed:    0.0s finished\n",
      "[Parallel(n_jobs=-1)]: Using backend LokyBackend with 12 concurrent workers.\n",
      "[Parallel(n_jobs=-1)]: Done  17 tasks      | elapsed:    0.0s\n",
      "[Parallel(n_jobs=-1)]: Done 157 out of 180 | elapsed:    0.1s remaining:    0.0s\n",
      "[Parallel(n_jobs=-1)]: Done 180 out of 180 | elapsed:    0.1s finished\n",
      "[Parallel(n_jobs=-1)]: Using backend LokyBackend with 12 concurrent workers.\n"
     ]
    },
    {
     "name": "stdout",
     "output_type": "stream",
     "text": [
      "Fitting 5 folds for each of 36 candidates, totalling 180 fits\n",
      "Fitting 5 folds for each of 36 candidates, totalling 180 fits\n"
     ]
    },
    {
     "name": "stderr",
     "output_type": "stream",
     "text": [
      "[Parallel(n_jobs=-1)]: Done  17 tasks      | elapsed:    0.0s\n",
      "[Parallel(n_jobs=-1)]: Done 180 out of 180 | elapsed:    0.0s finished\n",
      "[Parallel(n_jobs=-1)]: Using backend LokyBackend with 12 concurrent workers.\n",
      "[Parallel(n_jobs=-1)]: Done  17 tasks      | elapsed:    0.0s\n",
      "[Parallel(n_jobs=-1)]: Done 180 out of 180 | elapsed:    0.1s finished\n",
      "[Parallel(n_jobs=-1)]: Using backend LokyBackend with 12 concurrent workers.\n",
      "[Parallel(n_jobs=-1)]: Done  17 tasks      | elapsed:    0.0s\n",
      "[Parallel(n_jobs=-1)]: Done 157 out of 180 | elapsed:    0.0s remaining:    0.0s\n",
      "[Parallel(n_jobs=-1)]: Done 180 out of 180 | elapsed:    0.1s finished\n",
      "[Parallel(n_jobs=-1)]: Using backend LokyBackend with 12 concurrent workers.\n",
      "[Parallel(n_jobs=-1)]: Done  17 tasks      | elapsed:    0.0s\n"
     ]
    },
    {
     "name": "stdout",
     "output_type": "stream",
     "text": [
      "Fitting 5 folds for each of 36 candidates, totalling 180 fits\n",
      "Fitting 5 folds for each of 36 candidates, totalling 180 fits\n"
     ]
    },
    {
     "name": "stderr",
     "output_type": "stream",
     "text": [
      "[Parallel(n_jobs=-1)]: Done 180 out of 180 | elapsed:    0.0s finished\n",
      "[Parallel(n_jobs=-1)]: Using backend LokyBackend with 12 concurrent workers.\n",
      "[Parallel(n_jobs=-1)]: Done  17 tasks      | elapsed:    0.0s\n"
     ]
    },
    {
     "name": "stdout",
     "output_type": "stream",
     "text": [
      "Fitting 5 folds for each of 36 candidates, totalling 180 fits\n",
      "Fitting 5 folds for each of 36 candidates, totalling 180 fits\n"
     ]
    },
    {
     "name": "stderr",
     "output_type": "stream",
     "text": [
      "[Parallel(n_jobs=-1)]: Done 157 out of 180 | elapsed:    0.0s remaining:    0.0s\n",
      "[Parallel(n_jobs=-1)]: Done 180 out of 180 | elapsed:    0.0s finished\n",
      "[Parallel(n_jobs=-1)]: Using backend LokyBackend with 12 concurrent workers.\n",
      "[Parallel(n_jobs=-1)]: Done  17 tasks      | elapsed:    0.0s\n",
      "[Parallel(n_jobs=-1)]: Done 180 out of 180 | elapsed:    0.0s finished\n",
      "[Parallel(n_jobs=-1)]: Using backend LokyBackend with 12 concurrent workers.\n",
      "[Parallel(n_jobs=-1)]: Done  17 tasks      | elapsed:    0.0s\n"
     ]
    },
    {
     "name": "stdout",
     "output_type": "stream",
     "text": [
      "Fitting 5 folds for each of 36 candidates, totalling 180 fits\n",
      "Fitting 5 folds for each of 36 candidates, totalling 180 fits\n"
     ]
    },
    {
     "name": "stderr",
     "output_type": "stream",
     "text": [
      "[Parallel(n_jobs=-1)]: Done 180 out of 180 | elapsed:    0.0s finished\n",
      "[Parallel(n_jobs=-1)]: Using backend LokyBackend with 12 concurrent workers.\n",
      "[Parallel(n_jobs=-1)]: Done  17 tasks      | elapsed:    0.0s\n",
      "[Parallel(n_jobs=-1)]: Done 180 out of 180 | elapsed:    0.1s finished\n",
      "[Parallel(n_jobs=-1)]: Using backend LokyBackend with 12 concurrent workers.\n",
      "[Parallel(n_jobs=-1)]: Done  17 tasks      | elapsed:    0.0s\n",
      "[Parallel(n_jobs=-1)]: Done 180 out of 180 | elapsed:    0.0s finished\n",
      "[Parallel(n_jobs=-1)]: Using backend LokyBackend with 12 concurrent workers.\n",
      "[Parallel(n_jobs=-1)]: Done  17 tasks      | elapsed:    0.0s\n"
     ]
    },
    {
     "name": "stdout",
     "output_type": "stream",
     "text": [
      "Fitting 5 folds for each of 36 candidates, totalling 180 fits\n",
      "Fitting 5 folds for each of 36 candidates, totalling 180 fits\n"
     ]
    },
    {
     "name": "stderr",
     "output_type": "stream",
     "text": [
      "[Parallel(n_jobs=-1)]: Done 180 out of 180 | elapsed:    0.0s finished\n",
      "[Parallel(n_jobs=-1)]: Using backend LokyBackend with 12 concurrent workers.\n",
      "[Parallel(n_jobs=-1)]: Done  17 tasks      | elapsed:    0.0s\n"
     ]
    },
    {
     "name": "stdout",
     "output_type": "stream",
     "text": [
      "Fitting 5 folds for each of 36 candidates, totalling 180 fits\n",
      "Fitting 5 folds for each of 36 candidates, totalling 180 fits\n"
     ]
    },
    {
     "name": "stderr",
     "output_type": "stream",
     "text": [
      "[Parallel(n_jobs=-1)]: Done 157 out of 180 | elapsed:    0.0s remaining:    0.0s\n",
      "[Parallel(n_jobs=-1)]: Done 180 out of 180 | elapsed:    0.0s finished\n",
      "[Parallel(n_jobs=-1)]: Using backend LokyBackend with 12 concurrent workers.\n",
      "[Parallel(n_jobs=-1)]: Done  17 tasks      | elapsed:    0.0s\n",
      "[Parallel(n_jobs=-1)]: Done 180 out of 180 | elapsed:    0.1s finished\n",
      "[Parallel(n_jobs=-1)]: Using backend LokyBackend with 12 concurrent workers.\n"
     ]
    },
    {
     "name": "stdout",
     "output_type": "stream",
     "text": [
      "Fitting 5 folds for each of 36 candidates, totalling 180 fits\n",
      "Fitting 5 folds for each of 36 candidates, totalling 180 fits\n"
     ]
    },
    {
     "name": "stderr",
     "output_type": "stream",
     "text": [
      "[Parallel(n_jobs=-1)]: Done  17 tasks      | elapsed:    0.0s\n",
      "[Parallel(n_jobs=-1)]: Done 180 out of 180 | elapsed:    0.0s finished\n",
      "[Parallel(n_jobs=-1)]: Using backend LokyBackend with 12 concurrent workers.\n",
      "[Parallel(n_jobs=-1)]: Done  17 tasks      | elapsed:    0.0s\n",
      "[Parallel(n_jobs=-1)]: Done 180 out of 180 | elapsed:    0.0s finished\n",
      "[Parallel(n_jobs=-1)]: Using backend LokyBackend with 12 concurrent workers.\n",
      "[Parallel(n_jobs=-1)]: Done  17 tasks      | elapsed:    0.0s\n",
      "[Parallel(n_jobs=-1)]: Done 157 out of 180 | elapsed:    0.0s remaining:    0.0s\n",
      "[Parallel(n_jobs=-1)]: Done 180 out of 180 | elapsed:    0.0s finished\n"
     ]
    },
    {
     "name": "stdout",
     "output_type": "stream",
     "text": [
      "Fitting 5 folds for each of 36 candidates, totalling 180 fits\n",
      "[{'C': 5, 'gamma': 0.001}, {'C': 5, 'gamma': 0.001}, {'C': 10, 'gamma': 0.01}, {'C': 5, 'gamma': 0.01}, {'C': 10, 'gamma': 0.001}, {'C': 10, 'gamma': 0.001}, {'C': 10, 'gamma': 0.01}, {'C': 10, 'gamma': 0.01}, {'C': 10, 'gamma': 0.001}, {'C': 5, 'gamma': 0.01}, {'C': 10, 'gamma': 0.01}, {'C': 10, 'gamma': 0.01}, {'C': 5, 'gamma': 0.01}, {'C': 5, 'gamma': 0.01}, {'C': 10, 'gamma': 0.001}, {'C': 10, 'gamma': 0.001}, {'C': 10, 'gamma': 0.001}, {'C': 10, 'gamma': 0.001}, {'C': 10, 'gamma': 0.001}, {'C': 10, 'gamma': 0.001}, {'C': 10, 'gamma': 0.001}, {'C': 10, 'gamma': 0.001}, {'C': 10, 'gamma': 0.001}, {'C': 10, 'gamma': 0.001}]\n",
      "3.868297995836156\n",
      "           date    y_pred    y_true\n",
      "0    2018-11-19 -0.426449 -7.039993\n",
      "1    2018-11-26 -3.003552 -0.819992\n",
      "2    2018-12-03  0.225078 -7.270004\n",
      "3    2018-12-10 -3.120824 -9.050003\n",
      "4    2018-12-17 -4.008471 -9.629997\n",
      "..          ...       ...       ...\n",
      "115  2021-02-01 -3.278736  3.220001\n",
      "116  2021-02-08  3.498756  6.600006\n",
      "117  2021-02-15  4.960012  5.080002\n",
      "118  2021-02-22  4.365399 -0.809998\n",
      "119  2021-03-01  1.150547  0.669998\n",
      "\n",
      "[120 rows x 3 columns]\n"
     ]
    },
    {
     "data": {
      "image/png": "[encoded data removed]",
      "text/plain": [
       "<Figure size 432x288 with 1 Axes>"
      ]
     },
     "metadata": {
      "needs_background": "light"
     },
     "output_type": "display_data"
    }
   ],
   "source": [
    "# The best parameters from support vector machine \n",
    "AGG_Reg_parameter_sv = mf.SV_CV(train,type='regression')\n",
    "\n",
    "print(AGG_Reg_parameter_sv)\n",
    "\n",
    "\n",
    "# Generate the prediction from SVM\n",
    "AGG_Reg_Result_SV = mf.SV_Prediction(AGG_Reg_parameter_sv,train,test,type='regression')\n",
    "\n",
    "\n",
    "print(mean_absolute_error(AGG_Reg_Result_SV['y_pred'],AGG_Reg_Result_SV['y_true']))\n",
    "#print()\n",
    "print(AGG_Reg_Result_SV)\n",
    "plt.title(\"SVM\") \n",
    "plt.plot(AGG_Reg_Result_SV['y_pred'],label='y_pred')\n",
    "plt.plot(AGG_Reg_Result_SV['y_true'],label='y_true')\n",
    "plt.legend()\n",
    "plt.show()"
   ]
  },
  {
   "cell_type": "code",
   "execution_count": 60,
   "metadata": {},
   "outputs": [],
   "source": [
    "name = 'VIX'\n",
    "scaler = np.load('scaler/Weekly.npy')\n",
    "if name == 'AGG':\n",
    "    max_value = scaler[1,0]\n",
    "    min_value = scaler[1,1]\n",
    "elif name == 'DBC':\n",
    "    max_value = scaler[2,0]\n",
    "    min_value = scaler[2,1]\n",
    "elif name == 'VIX':\n",
    "    max_value = scaler[3,0]\n",
    "    min_value = scaler[3,1]\n",
    "elif name == 'VTI':\n",
    "    max_value = scaler[0,0]\n",
    "    min_value = scaler[0,1]"
   ]
  },
  {
   "cell_type": "code",
   "execution_count": 64,
   "metadata": {},
   "outputs": [
    {
     "data": {
      "text/plain": [
       "<matplotlib.legend.Legend at 0x26c35681850>"
      ]
     },
     "execution_count": 64,
     "metadata": {},
     "output_type": "execute_result"
    },
    {
     "data": {
      "image/png": "[encoded data removed]",
      "text/plain": [
       "<Figure size 432x288 with 1 Axes>"
      ]
     },
     "metadata": {
      "needs_background": "light"
     },
     "output_type": "display_data"
    }
   ],
   "source": [
    "ARIMA = pd.read_csv(r\"C:\\Users\\huyue\\OneDrive\\Desktop\\result\\new_week_result\\SVR_wkReg_VTI.csv\") \n",
    "y_true=ARIMA ['y_true']\n",
    "y_pred=ARIMA ['y_pred']\n",
    "date=ARIMA['date']\n",
    "y_true_transform = y_true * (max_value - min_value) + min_value\n",
    "y_pred_transform = y_pred * (max_value - min_value) + min_value\n",
    "plt.plot(y_true_transform,label='y_true')\n",
    "plt.plot(y_pred_transform,label='y_pred')\n",
    "plt.legend()"
   ]
  },
  {
   "cell_type": "code",
   "execution_count": 68,
   "metadata": {
    "scrolled": true
   },
   "outputs": [
    {
     "data": {
      "image/png": "[encoded data removed]",
      "text/plain": [
       "<Figure size 432x288 with 1 Axes>"
      ]
     },
     "metadata": {
      "needs_background": "light"
     },
     "output_type": "display_data"
    }
   ],
   "source": [
    "ANN = pd.read_csv(r\"C:\\Users\\huyue\\OneDrive\\Desktop\\New folder\\Deep learning prediction result\\ANN_Reg_weekly\\DBC_Reg.csv\") \n",
    "LSTM = pd.read_csv(r\"C:\\Users\\huyue\\OneDrive\\Desktop\\New folder\\Deep learning prediction result\\LSTM_Reg_weekly\\DBC_Reg.csv\") \n",
    "SVR = pd.read_csv(r\"C:\\Users\\huyue\\OneDrive\\Desktop\\result\\DBC_wkReg_SVR_inverse.csv\") \n",
    "ARIMA= pd.read_csv(r\"C:\\Users\\huyue\\OneDrive\\Desktop\\result\\ARIMA_wkReg_DBC_inverse.csv\") \n",
    "LSTM.index = pd.to_datetime(LSTM['Date'])\n",
    "ANN.index =  pd.to_datetime(ANN['Date'])\n",
    "plt.title(\"Comparison of 4 simple models\") \n",
    "plt.plot(ANN['y_true'],label='real')\n",
    "plt.plot(ANN['y_pred'],label='ANN')\n",
    "plt.plot(LSTM['y_pred'],label='LSTM')\n",
    "plt.plot(SVR['y_pred'],label='SVR')\n",
    "plt.plot(ARIMA['y_pred'],label='ARIMA')\n",
    "plt.legend()\n",
    "plt.show()"
   ]
  },
  {
   "cell_type": "code",
   "execution_count": 65,
   "metadata": {},
   "outputs": [],
   "source": [
    "# save the result\n",
    "result = pd.DataFrame(data={'Date':date,\n",
    "                            'y_true':y_true_transform,\n",
    "                            'y_pred':y_pred_transform })\n",
    "result.to_csv(r\"C:\\Users\\huyue\\OneDrive\\Desktop\\result\\new_week_result\\SVR_wkReg_VTI_inverse.csv\")"
   ]
  },
  {
   "cell_type": "code",
   "execution_count": 51,
   "metadata": {},
   "outputs": [],
   "source": [
    "#save new week reg\n",
    "AGG_Reg_Result_SV.to_csv(r\"C:\\Users\\huyue\\OneDrive\\Desktop\\result\\new_week_result\\SVR_residual_Reg_VTI.csv\")"
   ]
  },
  {
   "cell_type": "code",
   "execution_count": 8,
   "metadata": {
    "pycharm": {
     "is_executing": false,
     "name": "#%%\n"
    }
   },
   "outputs": [
    {
     "name": "stdout",
     "output_type": "stream",
     "text": [
      "Fitting 5 folds for each of 600 candidates, totalling 3000 fits\n"
     ]
    },
    {
     "name": "stderr",
     "output_type": "stream",
     "text": [
      "[Parallel(n_jobs=-1)]: Using backend LokyBackend with 12 concurrent workers.\n",
      "[Parallel(n_jobs=-1)]: Done  17 tasks      | elapsed:    0.8s\n",
      "[Parallel(n_jobs=-1)]: Done 138 tasks      | elapsed:    6.2s\n",
      "[Parallel(n_jobs=-1)]: Done 341 tasks      | elapsed:   14.4s\n",
      "[Parallel(n_jobs=-1)]: Done 624 tasks      | elapsed:   27.8s\n",
      "[Parallel(n_jobs=-1)]: Done 989 tasks      | elapsed:   46.0s\n",
      "[Parallel(n_jobs=-1)]: Done 1434 tasks      | elapsed:  1.2min\n",
      "[Parallel(n_jobs=-1)]: Done 1961 tasks      | elapsed:  1.6min\n",
      "[Parallel(n_jobs=-1)]: Done 2568 tasks      | elapsed:  2.2min\n",
      "[Parallel(n_jobs=-1)]: Done 3000 out of 3000 | elapsed:  2.5min finished\n",
      "[Parallel(n_jobs=-1)]: Using backend LokyBackend with 12 concurrent workers.\n"
     ]
    },
    {
     "name": "stdout",
     "output_type": "stream",
     "text": [
      "Fitting 5 folds for each of 600 candidates, totalling 3000 fits\n"
     ]
    },
    {
     "name": "stderr",
     "output_type": "stream",
     "text": [
      "[Parallel(n_jobs=-1)]: Done  17 tasks      | elapsed:    0.9s\n",
      "[Parallel(n_jobs=-1)]: Done 162 tasks      | elapsed:    8.4s\n",
      "[Parallel(n_jobs=-1)]: Done 365 tasks      | elapsed:   18.4s\n",
      "[Parallel(n_jobs=-1)]: Done 648 tasks      | elapsed:   34.2s\n",
      "[Parallel(n_jobs=-1)]: Done 1013 tasks      | elapsed:   51.6s\n",
      "[Parallel(n_jobs=-1)]: Done 1458 tasks      | elapsed:  1.3min\n",
      "[Parallel(n_jobs=-1)]: Done 1985 tasks      | elapsed:  1.7min\n",
      "[Parallel(n_jobs=-1)]: Done 2592 tasks      | elapsed:  2.2min\n",
      "[Parallel(n_jobs=-1)]: Done 3000 out of 3000 | elapsed:  2.6min finished\n"
     ]
    },
    {
     "name": "stdout",
     "output_type": "stream",
     "text": [
      "Fitting 5 folds for each of 600 candidates, totalling 3000 fits\n"
     ]
    },
    {
     "name": "stderr",
     "output_type": "stream",
     "text": [
      "[Parallel(n_jobs=-1)]: Using backend LokyBackend with 12 concurrent workers.\n",
      "[Parallel(n_jobs=-1)]: Done  17 tasks      | elapsed:    0.9s\n",
      "[Parallel(n_jobs=-1)]: Done 162 tasks      | elapsed:    8.4s\n",
      "[Parallel(n_jobs=-1)]: Done 365 tasks      | elapsed:   18.9s\n",
      "[Parallel(n_jobs=-1)]: Done 648 tasks      | elapsed:   34.8s\n",
      "[Parallel(n_jobs=-1)]: Done 1013 tasks      | elapsed:   51.4s\n",
      "[Parallel(n_jobs=-1)]: Done 1458 tasks      | elapsed:  1.3min\n",
      "[Parallel(n_jobs=-1)]: Done 1985 tasks      | elapsed:  1.7min\n",
      "[Parallel(n_jobs=-1)]: Done 2592 tasks      | elapsed:  2.2min\n",
      "[Parallel(n_jobs=-1)]: Done 3000 out of 3000 | elapsed:  2.5min finished\n",
      "[Parallel(n_jobs=-1)]: Using backend LokyBackend with 12 concurrent workers.\n"
     ]
    },
    {
     "name": "stdout",
     "output_type": "stream",
     "text": [
      "Fitting 5 folds for each of 600 candidates, totalling 3000 fits\n"
     ]
    },
    {
     "name": "stderr",
     "output_type": "stream",
     "text": [
      "[Parallel(n_jobs=-1)]: Done  17 tasks      | elapsed:    0.9s\n",
      "[Parallel(n_jobs=-1)]: Done 162 tasks      | elapsed:    8.3s\n",
      "[Parallel(n_jobs=-1)]: Done 365 tasks      | elapsed:   18.4s\n",
      "[Parallel(n_jobs=-1)]: Done 648 tasks      | elapsed:   34.1s\n",
      "[Parallel(n_jobs=-1)]: Done 1013 tasks      | elapsed:   50.7s\n",
      "[Parallel(n_jobs=-1)]: Done 1458 tasks      | elapsed:  1.2min\n",
      "[Parallel(n_jobs=-1)]: Done 1985 tasks      | elapsed:  1.7min\n",
      "[Parallel(n_jobs=-1)]: Done 2592 tasks      | elapsed:  2.2min\n",
      "[Parallel(n_jobs=-1)]: Done 3000 out of 3000 | elapsed:  2.5min finished\n",
      "[Parallel(n_jobs=-1)]: Using backend LokyBackend with 12 concurrent workers.\n"
     ]
    },
    {
     "name": "stdout",
     "output_type": "stream",
     "text": [
      "Fitting 5 folds for each of 600 candidates, totalling 3000 fits\n"
     ]
    },
    {
     "name": "stderr",
     "output_type": "stream",
     "text": [
      "[Parallel(n_jobs=-1)]: Done  17 tasks      | elapsed:    0.9s\n",
      "[Parallel(n_jobs=-1)]: Done 162 tasks      | elapsed:    8.3s\n",
      "[Parallel(n_jobs=-1)]: Done 365 tasks      | elapsed:   18.5s\n",
      "[Parallel(n_jobs=-1)]: Done 648 tasks      | elapsed:   34.2s\n",
      "[Parallel(n_jobs=-1)]: Done 1013 tasks      | elapsed:   50.7s\n",
      "[Parallel(n_jobs=-1)]: Done 1458 tasks      | elapsed:  1.2min\n",
      "[Parallel(n_jobs=-1)]: Done 1985 tasks      | elapsed:  1.7min\n",
      "[Parallel(n_jobs=-1)]: Done 2592 tasks      | elapsed:  2.2min\n",
      "[Parallel(n_jobs=-1)]: Done 3000 out of 3000 | elapsed:  2.5min finished\n",
      "[Parallel(n_jobs=-1)]: Using backend LokyBackend with 12 concurrent workers.\n"
     ]
    },
    {
     "name": "stdout",
     "output_type": "stream",
     "text": [
      "Fitting 5 folds for each of 600 candidates, totalling 3000 fits\n"
     ]
    },
    {
     "name": "stderr",
     "output_type": "stream",
     "text": [
      "[Parallel(n_jobs=-1)]: Done  17 tasks      | elapsed:    1.1s\n",
      "[Parallel(n_jobs=-1)]: Done 138 tasks      | elapsed:    8.6s\n",
      "[Parallel(n_jobs=-1)]: Done 341 tasks      | elapsed:   19.1s\n",
      "[Parallel(n_jobs=-1)]: Done 624 tasks      | elapsed:   33.1s\n",
      "[Parallel(n_jobs=-1)]: Done 989 tasks      | elapsed:   51.4s\n",
      "[Parallel(n_jobs=-1)]: Done 1434 tasks      | elapsed:  1.3min\n",
      "[Parallel(n_jobs=-1)]: Done 1961 tasks      | elapsed:  1.7min\n",
      "[Parallel(n_jobs=-1)]: Done 2568 tasks      | elapsed:  2.2min\n",
      "[Parallel(n_jobs=-1)]: Done 3000 out of 3000 | elapsed:  2.6min finished\n"
     ]
    },
    {
     "name": "stdout",
     "output_type": "stream",
     "text": [
      "Fitting 5 folds for each of 600 candidates, totalling 3000 fits\n"
     ]
    },
    {
     "name": "stderr",
     "output_type": "stream",
     "text": [
      "[Parallel(n_jobs=-1)]: Using backend LokyBackend with 12 concurrent workers.\n",
      "[Parallel(n_jobs=-1)]: Done  17 tasks      | elapsed:    0.9s\n",
      "[Parallel(n_jobs=-1)]: Done 162 tasks      | elapsed:    8.3s\n",
      "[Parallel(n_jobs=-1)]: Done 365 tasks      | elapsed:   18.4s\n",
      "[Parallel(n_jobs=-1)]: Done 648 tasks      | elapsed:   34.1s\n",
      "[Parallel(n_jobs=-1)]: Done 1013 tasks      | elapsed:   50.7s\n",
      "[Parallel(n_jobs=-1)]: Done 1458 tasks      | elapsed:  1.3min\n",
      "[Parallel(n_jobs=-1)]: Done 1985 tasks      | elapsed:  1.7min\n",
      "[Parallel(n_jobs=-1)]: Done 2592 tasks      | elapsed:  2.2min\n",
      "[Parallel(n_jobs=-1)]: Done 3000 out of 3000 | elapsed:  2.5min finished\n"
     ]
    },
    {
     "name": "stdout",
     "output_type": "stream",
     "text": [
      "Fitting 5 folds for each of 600 candidates, totalling 3000 fits\n"
     ]
    },
    {
     "name": "stderr",
     "output_type": "stream",
     "text": [
      "[Parallel(n_jobs=-1)]: Using backend LokyBackend with 12 concurrent workers.\n",
      "[Parallel(n_jobs=-1)]: Done  17 tasks      | elapsed:    0.9s\n",
      "[Parallel(n_jobs=-1)]: Done 162 tasks      | elapsed:    8.2s\n",
      "[Parallel(n_jobs=-1)]: Done 365 tasks      | elapsed:   18.3s\n",
      "[Parallel(n_jobs=-1)]: Done 648 tasks      | elapsed:   34.1s\n",
      "[Parallel(n_jobs=-1)]: Done 1013 tasks      | elapsed:   50.6s\n",
      "[Parallel(n_jobs=-1)]: Done 1458 tasks      | elapsed:  1.2min\n",
      "[Parallel(n_jobs=-1)]: Done 1985 tasks      | elapsed:  1.7min\n",
      "[Parallel(n_jobs=-1)]: Done 2592 tasks      | elapsed:  2.2min\n",
      "[Parallel(n_jobs=-1)]: Done 3000 out of 3000 | elapsed:  2.5min finished\n",
      "[Parallel(n_jobs=-1)]: Using backend LokyBackend with 12 concurrent workers.\n"
     ]
    },
    {
     "name": "stdout",
     "output_type": "stream",
     "text": [
      "Fitting 5 folds for each of 600 candidates, totalling 3000 fits\n"
     ]
    },
    {
     "name": "stderr",
     "output_type": "stream",
     "text": [
      "[Parallel(n_jobs=-1)]: Done  17 tasks      | elapsed:    0.9s\n",
      "[Parallel(n_jobs=-1)]: Done 162 tasks      | elapsed:    8.3s\n",
      "[Parallel(n_jobs=-1)]: Done 365 tasks      | elapsed:   18.4s\n",
      "[Parallel(n_jobs=-1)]: Done 648 tasks      | elapsed:   34.1s\n",
      "[Parallel(n_jobs=-1)]: Done 1013 tasks      | elapsed:   50.7s\n",
      "[Parallel(n_jobs=-1)]: Done 1458 tasks      | elapsed:  1.3min\n",
      "[Parallel(n_jobs=-1)]: Done 1985 tasks      | elapsed:  1.7min\n",
      "[Parallel(n_jobs=-1)]: Done 2592 tasks      | elapsed:  2.2min\n",
      "[Parallel(n_jobs=-1)]: Done 3000 out of 3000 | elapsed:  2.5min finished\n",
      "[Parallel(n_jobs=-1)]: Using backend LokyBackend with 12 concurrent workers.\n"
     ]
    },
    {
     "name": "stdout",
     "output_type": "stream",
     "text": [
      "Fitting 5 folds for each of 600 candidates, totalling 3000 fits\n"
     ]
    },
    {
     "name": "stderr",
     "output_type": "stream",
     "text": [
      "[Parallel(n_jobs=-1)]: Done  17 tasks      | elapsed:    1.1s\n",
      "[Parallel(n_jobs=-1)]: Done 162 tasks      | elapsed:    8.3s\n",
      "[Parallel(n_jobs=-1)]: Done 365 tasks      | elapsed:   18.5s\n",
      "[Parallel(n_jobs=-1)]: Done 648 tasks      | elapsed:   34.4s\n",
      "[Parallel(n_jobs=-1)]: Done 1013 tasks      | elapsed:   51.0s\n",
      "[Parallel(n_jobs=-1)]: Done 1458 tasks      | elapsed:  1.3min\n",
      "[Parallel(n_jobs=-1)]: Done 1985 tasks      | elapsed:  1.7min\n",
      "[Parallel(n_jobs=-1)]: Done 2592 tasks      | elapsed:  2.2min\n",
      "[Parallel(n_jobs=-1)]: Done 3000 out of 3000 | elapsed:  2.5min finished\n",
      "[Parallel(n_jobs=-1)]: Using backend LokyBackend with 12 concurrent workers.\n"
     ]
    },
    {
     "name": "stdout",
     "output_type": "stream",
     "text": [
      "Fitting 5 folds for each of 600 candidates, totalling 3000 fits\n"
     ]
    },
    {
     "name": "stderr",
     "output_type": "stream",
     "text": [
      "[Parallel(n_jobs=-1)]: Done  17 tasks      | elapsed:    0.9s\n",
      "[Parallel(n_jobs=-1)]: Done 162 tasks      | elapsed:    8.3s\n",
      "[Parallel(n_jobs=-1)]: Done 365 tasks      | elapsed:   18.3s\n",
      "[Parallel(n_jobs=-1)]: Done 648 tasks      | elapsed:   34.3s\n",
      "[Parallel(n_jobs=-1)]: Done 1013 tasks      | elapsed:   51.0s\n",
      "[Parallel(n_jobs=-1)]: Done 1458 tasks      | elapsed:  1.3min\n",
      "[Parallel(n_jobs=-1)]: Done 1985 tasks      | elapsed:  1.7min\n",
      "[Parallel(n_jobs=-1)]: Done 2592 tasks      | elapsed:  2.2min\n",
      "[Parallel(n_jobs=-1)]: Done 3000 out of 3000 | elapsed:  2.5min finished\n"
     ]
    },
    {
     "name": "stdout",
     "output_type": "stream",
     "text": [
      "Fitting 5 folds for each of 600 candidates, totalling 3000 fits\n"
     ]
    },
    {
     "name": "stderr",
     "output_type": "stream",
     "text": [
      "[Parallel(n_jobs=-1)]: Using backend LokyBackend with 12 concurrent workers.\n",
      "[Parallel(n_jobs=-1)]: Done  17 tasks      | elapsed:    0.9s\n",
      "[Parallel(n_jobs=-1)]: Done 162 tasks      | elapsed:    8.2s\n",
      "[Parallel(n_jobs=-1)]: Done 365 tasks      | elapsed:   18.4s\n",
      "[Parallel(n_jobs=-1)]: Done 648 tasks      | elapsed:   34.2s\n",
      "[Parallel(n_jobs=-1)]: Done 1013 tasks      | elapsed:   50.9s\n",
      "[Parallel(n_jobs=-1)]: Done 1458 tasks      | elapsed:  1.3min\n",
      "[Parallel(n_jobs=-1)]: Done 1985 tasks      | elapsed:  1.7min\n",
      "[Parallel(n_jobs=-1)]: Done 2592 tasks      | elapsed:  2.2min\n",
      "[Parallel(n_jobs=-1)]: Done 3000 out of 3000 | elapsed:  2.5min finished\n",
      "[Parallel(n_jobs=-1)]: Using backend LokyBackend with 12 concurrent workers.\n"
     ]
    },
    {
     "name": "stdout",
     "output_type": "stream",
     "text": [
      "Fitting 5 folds for each of 600 candidates, totalling 3000 fits\n"
     ]
    },
    {
     "name": "stderr",
     "output_type": "stream",
     "text": [
      "[Parallel(n_jobs=-1)]: Done  17 tasks      | elapsed:    1.0s\n",
      "[Parallel(n_jobs=-1)]: Done 162 tasks      | elapsed:    8.6s\n",
      "[Parallel(n_jobs=-1)]: Done 365 tasks      | elapsed:   18.7s\n",
      "[Parallel(n_jobs=-1)]: Done 648 tasks      | elapsed:   34.7s\n",
      "[Parallel(n_jobs=-1)]: Done 1013 tasks      | elapsed:   51.3s\n",
      "[Parallel(n_jobs=-1)]: Done 1458 tasks      | elapsed:  1.3min\n",
      "[Parallel(n_jobs=-1)]: Done 1985 tasks      | elapsed:  1.7min\n",
      "[Parallel(n_jobs=-1)]: Done 2592 tasks      | elapsed:  2.2min\n",
      "[Parallel(n_jobs=-1)]: Done 3000 out of 3000 | elapsed:  2.6min finished\n"
     ]
    },
    {
     "name": "stdout",
     "output_type": "stream",
     "text": [
      "Fitting 5 folds for each of 600 candidates, totalling 3000 fits\n"
     ]
    },
    {
     "name": "stderr",
     "output_type": "stream",
     "text": [
      "[Parallel(n_jobs=-1)]: Using backend LokyBackend with 12 concurrent workers.\n",
      "[Parallel(n_jobs=-1)]: Done  17 tasks      | elapsed:    0.9s\n",
      "[Parallel(n_jobs=-1)]: Done 162 tasks      | elapsed:    8.2s\n",
      "[Parallel(n_jobs=-1)]: Done 365 tasks      | elapsed:   18.4s\n",
      "[Parallel(n_jobs=-1)]: Done 648 tasks      | elapsed:   34.3s\n",
      "[Parallel(n_jobs=-1)]: Done 1013 tasks      | elapsed:   51.0s\n",
      "[Parallel(n_jobs=-1)]: Done 1458 tasks      | elapsed:  1.3min\n",
      "[Parallel(n_jobs=-1)]: Done 1985 tasks      | elapsed:  1.7min\n",
      "[Parallel(n_jobs=-1)]: Done 2592 tasks      | elapsed:  2.2min\n",
      "[Parallel(n_jobs=-1)]: Done 3000 out of 3000 | elapsed:  2.5min finished\n"
     ]
    },
    {
     "name": "stdout",
     "output_type": "stream",
     "text": [
      "Fitting 5 folds for each of 600 candidates, totalling 3000 fits\n"
     ]
    },
    {
     "name": "stderr",
     "output_type": "stream",
     "text": [
      "[Parallel(n_jobs=-1)]: Using backend LokyBackend with 12 concurrent workers.\n",
      "[Parallel(n_jobs=-1)]: Done  17 tasks      | elapsed:    0.9s\n",
      "[Parallel(n_jobs=-1)]: Done 162 tasks      | elapsed:    8.4s\n",
      "[Parallel(n_jobs=-1)]: Done 365 tasks      | elapsed:   18.6s\n",
      "[Parallel(n_jobs=-1)]: Done 648 tasks      | elapsed:   34.5s\n",
      "[Parallel(n_jobs=-1)]: Done 1013 tasks      | elapsed:   51.2s\n",
      "[Parallel(n_jobs=-1)]: Done 1458 tasks      | elapsed:  1.3min\n",
      "[Parallel(n_jobs=-1)]: Done 1985 tasks      | elapsed:  1.7min\n",
      "[Parallel(n_jobs=-1)]: Done 2592 tasks      | elapsed:  2.2min\n",
      "[Parallel(n_jobs=-1)]: Done 3000 out of 3000 | elapsed:  2.5min finished\n"
     ]
    },
    {
     "name": "stdout",
     "output_type": "stream",
     "text": [
      "Fitting 5 folds for each of 600 candidates, totalling 3000 fits\n"
     ]
    },
    {
     "name": "stderr",
     "output_type": "stream",
     "text": [
      "[Parallel(n_jobs=-1)]: Using backend LokyBackend with 12 concurrent workers.\n",
      "[Parallel(n_jobs=-1)]: Done  17 tasks      | elapsed:    0.9s\n",
      "[Parallel(n_jobs=-1)]: Done 162 tasks      | elapsed:    8.3s\n",
      "[Parallel(n_jobs=-1)]: Done 365 tasks      | elapsed:   18.4s\n",
      "[Parallel(n_jobs=-1)]: Done 648 tasks      | elapsed:   34.3s\n",
      "[Parallel(n_jobs=-1)]: Done 1013 tasks      | elapsed:   50.9s\n",
      "[Parallel(n_jobs=-1)]: Done 1458 tasks      | elapsed:  1.3min\n",
      "[Parallel(n_jobs=-1)]: Done 1985 tasks      | elapsed:  1.7min\n",
      "[Parallel(n_jobs=-1)]: Done 2592 tasks      | elapsed:  2.2min\n",
      "[Parallel(n_jobs=-1)]: Done 3000 out of 3000 | elapsed:  2.5min finished\n"
     ]
    },
    {
     "name": "stdout",
     "output_type": "stream",
     "text": [
      "Fitting 5 folds for each of 600 candidates, totalling 3000 fits\n"
     ]
    },
    {
     "name": "stderr",
     "output_type": "stream",
     "text": [
      "[Parallel(n_jobs=-1)]: Using backend LokyBackend with 12 concurrent workers.\n",
      "[Parallel(n_jobs=-1)]: Done  17 tasks      | elapsed:    0.8s\n",
      "[Parallel(n_jobs=-1)]: Done 162 tasks      | elapsed:    8.2s\n",
      "[Parallel(n_jobs=-1)]: Done 365 tasks      | elapsed:   18.5s\n",
      "[Parallel(n_jobs=-1)]: Done 648 tasks      | elapsed:   34.3s\n",
      "[Parallel(n_jobs=-1)]: Done 1013 tasks      | elapsed:   50.9s\n",
      "[Parallel(n_jobs=-1)]: Done 1458 tasks      | elapsed:  1.3min\n",
      "[Parallel(n_jobs=-1)]: Done 1985 tasks      | elapsed:  1.7min\n",
      "[Parallel(n_jobs=-1)]: Done 2592 tasks      | elapsed:  2.2min\n",
      "[Parallel(n_jobs=-1)]: Done 3000 out of 3000 | elapsed:  2.5min finished\n"
     ]
    },
    {
     "name": "stdout",
     "output_type": "stream",
     "text": [
      "Fitting 5 folds for each of 600 candidates, totalling 3000 fits\n"
     ]
    },
    {
     "name": "stderr",
     "output_type": "stream",
     "text": [
      "[Parallel(n_jobs=-1)]: Using backend LokyBackend with 12 concurrent workers.\n",
      "[Parallel(n_jobs=-1)]: Done  17 tasks      | elapsed:    0.9s\n",
      "[Parallel(n_jobs=-1)]: Done 162 tasks      | elapsed:    8.4s\n",
      "[Parallel(n_jobs=-1)]: Done 365 tasks      | elapsed:   18.5s\n",
      "[Parallel(n_jobs=-1)]: Done 648 tasks      | elapsed:   34.3s\n",
      "[Parallel(n_jobs=-1)]: Done 1013 tasks      | elapsed:   51.0s\n",
      "[Parallel(n_jobs=-1)]: Done 1458 tasks      | elapsed:  1.3min\n",
      "[Parallel(n_jobs=-1)]: Done 1985 tasks      | elapsed:  1.7min\n",
      "[Parallel(n_jobs=-1)]: Done 2592 tasks      | elapsed:  2.2min\n",
      "[Parallel(n_jobs=-1)]: Done 3000 out of 3000 | elapsed:  2.5min finished\n"
     ]
    },
    {
     "name": "stdout",
     "output_type": "stream",
     "text": [
      "Fitting 5 folds for each of 600 candidates, totalling 3000 fits\n"
     ]
    },
    {
     "name": "stderr",
     "output_type": "stream",
     "text": [
      "[Parallel(n_jobs=-1)]: Using backend LokyBackend with 12 concurrent workers.\n",
      "[Parallel(n_jobs=-1)]: Done  17 tasks      | elapsed:    1.0s\n",
      "[Parallel(n_jobs=-1)]: Done 162 tasks      | elapsed:    8.4s\n",
      "[Parallel(n_jobs=-1)]: Done 365 tasks      | elapsed:   18.5s\n",
      "[Parallel(n_jobs=-1)]: Done 648 tasks      | elapsed:   34.3s\n",
      "[Parallel(n_jobs=-1)]: Done 1013 tasks      | elapsed:   51.1s\n",
      "[Parallel(n_jobs=-1)]: Done 1458 tasks      | elapsed:  1.3min\n",
      "[Parallel(n_jobs=-1)]: Done 1985 tasks      | elapsed:  1.7min\n",
      "[Parallel(n_jobs=-1)]: Done 2592 tasks      | elapsed:  2.2min\n",
      "[Parallel(n_jobs=-1)]: Done 3000 out of 3000 | elapsed:  2.5min finished\n"
     ]
    },
    {
     "name": "stdout",
     "output_type": "stream",
     "text": [
      "Fitting 5 folds for each of 600 candidates, totalling 3000 fits\n"
     ]
    },
    {
     "name": "stderr",
     "output_type": "stream",
     "text": [
      "[Parallel(n_jobs=-1)]: Using backend LokyBackend with 12 concurrent workers.\n",
      "[Parallel(n_jobs=-1)]: Done  17 tasks      | elapsed:    0.9s\n",
      "[Parallel(n_jobs=-1)]: Done 162 tasks      | elapsed:    8.4s\n",
      "[Parallel(n_jobs=-1)]: Done 365 tasks      | elapsed:   18.4s\n",
      "[Parallel(n_jobs=-1)]: Done 648 tasks      | elapsed:   34.3s\n",
      "[Parallel(n_jobs=-1)]: Done 1013 tasks      | elapsed:   51.0s\n",
      "[Parallel(n_jobs=-1)]: Done 1458 tasks      | elapsed:  1.3min\n",
      "[Parallel(n_jobs=-1)]: Done 1985 tasks      | elapsed:  1.7min\n",
      "[Parallel(n_jobs=-1)]: Done 2592 tasks      | elapsed:  2.2min\n",
      "[Parallel(n_jobs=-1)]: Done 3000 out of 3000 | elapsed:  2.5min finished\n"
     ]
    },
    {
     "name": "stdout",
     "output_type": "stream",
     "text": [
      "Fitting 5 folds for each of 600 candidates, totalling 3000 fits\n"
     ]
    },
    {
     "name": "stderr",
     "output_type": "stream",
     "text": [
      "[Parallel(n_jobs=-1)]: Using backend LokyBackend with 12 concurrent workers.\n",
      "[Parallel(n_jobs=-1)]: Done  17 tasks      | elapsed:    0.9s\n",
      "[Parallel(n_jobs=-1)]: Done 162 tasks      | elapsed:    8.3s\n",
      "[Parallel(n_jobs=-1)]: Done 365 tasks      | elapsed:   18.5s\n",
      "[Parallel(n_jobs=-1)]: Done 648 tasks      | elapsed:   34.2s\n",
      "[Parallel(n_jobs=-1)]: Done 1013 tasks      | elapsed:   50.9s\n",
      "[Parallel(n_jobs=-1)]: Done 1458 tasks      | elapsed:  1.3min\n",
      "[Parallel(n_jobs=-1)]: Done 1985 tasks      | elapsed:  1.7min\n",
      "[Parallel(n_jobs=-1)]: Done 2592 tasks      | elapsed:  2.2min\n",
      "[Parallel(n_jobs=-1)]: Done 3000 out of 3000 | elapsed:  2.5min finished\n"
     ]
    },
    {
     "name": "stdout",
     "output_type": "stream",
     "text": [
      "Fitting 5 folds for each of 600 candidates, totalling 3000 fits\n"
     ]
    },
    {
     "name": "stderr",
     "output_type": "stream",
     "text": [
      "[Parallel(n_jobs=-1)]: Using backend LokyBackend with 12 concurrent workers.\n",
      "[Parallel(n_jobs=-1)]: Done  17 tasks      | elapsed:    1.0s\n",
      "[Parallel(n_jobs=-1)]: Done 162 tasks      | elapsed:    8.3s\n",
      "[Parallel(n_jobs=-1)]: Done 365 tasks      | elapsed:   18.4s\n",
      "[Parallel(n_jobs=-1)]: Done 648 tasks      | elapsed:   34.3s\n",
      "[Parallel(n_jobs=-1)]: Done 1013 tasks      | elapsed:   51.1s\n",
      "[Parallel(n_jobs=-1)]: Done 1458 tasks      | elapsed:  1.3min\n",
      "[Parallel(n_jobs=-1)]: Done 1985 tasks      | elapsed:  1.7min\n",
      "[Parallel(n_jobs=-1)]: Done 2592 tasks      | elapsed:  2.2min\n",
      "[Parallel(n_jobs=-1)]: Done 3000 out of 3000 | elapsed:  2.6min finished\n"
     ]
    },
    {
     "name": "stdout",
     "output_type": "stream",
     "text": [
      "Fitting 5 folds for each of 600 candidates, totalling 3000 fits\n"
     ]
    },
    {
     "name": "stderr",
     "output_type": "stream",
     "text": [
      "[Parallel(n_jobs=-1)]: Using backend LokyBackend with 12 concurrent workers.\n",
      "[Parallel(n_jobs=-1)]: Done  17 tasks      | elapsed:    0.9s\n",
      "[Parallel(n_jobs=-1)]: Done 162 tasks      | elapsed:    8.3s\n",
      "[Parallel(n_jobs=-1)]: Done 365 tasks      | elapsed:   18.4s\n",
      "[Parallel(n_jobs=-1)]: Done 648 tasks      | elapsed:   34.3s\n",
      "[Parallel(n_jobs=-1)]: Done 1013 tasks      | elapsed:   51.0s\n",
      "[Parallel(n_jobs=-1)]: Done 1458 tasks      | elapsed:  1.3min\n",
      "[Parallel(n_jobs=-1)]: Done 1985 tasks      | elapsed:  1.7min\n",
      "[Parallel(n_jobs=-1)]: Done 2592 tasks      | elapsed:  2.2min\n",
      "[Parallel(n_jobs=-1)]: Done 3000 out of 3000 | elapsed:  2.5min finished\n"
     ]
    },
    {
     "name": "stdout",
     "output_type": "stream",
     "text": [
      "Fitting 5 folds for each of 600 candidates, totalling 3000 fits\n"
     ]
    },
    {
     "name": "stderr",
     "output_type": "stream",
     "text": [
      "[Parallel(n_jobs=-1)]: Using backend LokyBackend with 12 concurrent workers.\n",
      "[Parallel(n_jobs=-1)]: Done  17 tasks      | elapsed:    1.0s\n",
      "[Parallel(n_jobs=-1)]: Done 162 tasks      | elapsed:    8.3s\n",
      "[Parallel(n_jobs=-1)]: Done 365 tasks      | elapsed:   18.5s\n",
      "[Parallel(n_jobs=-1)]: Done 648 tasks      | elapsed:   34.3s\n",
      "[Parallel(n_jobs=-1)]: Done 1013 tasks      | elapsed:   50.9s\n",
      "[Parallel(n_jobs=-1)]: Done 1458 tasks      | elapsed:  1.2min\n",
      "[Parallel(n_jobs=-1)]: Done 1985 tasks      | elapsed:  1.7min\n",
      "[Parallel(n_jobs=-1)]: Done 2592 tasks      | elapsed:  2.2min\n",
      "[Parallel(n_jobs=-1)]: Done 3000 out of 3000 | elapsed:  2.5min finished\n"
     ]
    }
   ],
   "source": [
    "# The best parameter from RF \n",
    "AGG_Reg_parameter_rf = mf.RF_CV(train,type='regression')\n"
   ]
  },
  {
   "cell_type": "code",
   "execution_count": 10,
   "metadata": {
    "pycharm": {
     "is_executing": false,
     "name": "#%%\n"
    }
   },
   "outputs": [
    {
     "ename": "ValueError",
     "evalue": "at least one array or dtype is required",
     "output_type": "error",
     "traceback": [
      "\u001b[1;31m---------------------------------------------------------------------------\u001b[0m",
      "\u001b[1;31mValueError\u001b[0m                                Traceback (most recent call last)",
      "\u001b[1;32m<ipython-input-10-59d000f96146>\u001b[0m in \u001b[0;36m<module>\u001b[1;34m\u001b[0m\n\u001b[0;32m      1\u001b[0m \u001b[1;31m# Generate the prediction from SVM\u001b[0m\u001b[1;33m\u001b[0m\u001b[1;33m\u001b[0m\u001b[1;33m\u001b[0m\u001b[0m\n\u001b[1;32m----> 2\u001b[1;33m \u001b[0mAGG_Reg_Result_RF\u001b[0m \u001b[1;33m=\u001b[0m \u001b[0mmf\u001b[0m\u001b[1;33m.\u001b[0m\u001b[0mRF_Prediction\u001b[0m\u001b[1;33m(\u001b[0m\u001b[0mAGG_Reg_parameter_rf\u001b[0m\u001b[1;33m,\u001b[0m\u001b[0mtrain\u001b[0m\u001b[1;33m,\u001b[0m\u001b[0mtest\u001b[0m\u001b[1;33m,\u001b[0m\u001b[0mtype\u001b[0m\u001b[1;33m=\u001b[0m\u001b[1;34m'regression'\u001b[0m\u001b[1;33m)\u001b[0m\u001b[1;33m\u001b[0m\u001b[1;33m\u001b[0m\u001b[0m\n\u001b[0m\u001b[0;32m      3\u001b[0m \u001b[1;33m\u001b[0m\u001b[0m\n\u001b[0;32m      4\u001b[0m \u001b[1;33m\u001b[0m\u001b[0m\n\u001b[0;32m      5\u001b[0m \u001b[0mprint\u001b[0m\u001b[1;33m(\u001b[0m\u001b[0mmean_absolute_error\u001b[0m\u001b[1;33m(\u001b[0m\u001b[0mAGG_Reg_Result_RF\u001b[0m\u001b[1;33m[\u001b[0m\u001b[1;34m'y_pred'\u001b[0m\u001b[1;33m]\u001b[0m\u001b[1;33m,\u001b[0m\u001b[0mAGG_Reg_Result_RF\u001b[0m\u001b[1;33m[\u001b[0m\u001b[1;34m'y_true'\u001b[0m\u001b[1;33m]\u001b[0m\u001b[1;33m)\u001b[0m\u001b[1;33m)\u001b[0m\u001b[1;33m\u001b[0m\u001b[1;33m\u001b[0m\u001b[0m\n",
      "\u001b[1;32m~\\ML_function.py\u001b[0m in \u001b[0;36mRF_Prediction\u001b[1;34m(best_paramter, train, test, type)\u001b[0m\n\u001b[0;32m    163\u001b[0m                                         \u001b[0mmax_features\u001b[0m\u001b[1;33m=\u001b[0m\u001b[0mmax_features\u001b[0m\u001b[1;33m\u001b[0m\u001b[1;33m\u001b[0m\u001b[0m\n\u001b[0;32m    164\u001b[0m                                           )\n\u001b[1;32m--> 165\u001b[1;33m             \u001b[0mmodel\u001b[0m\u001b[1;33m.\u001b[0m\u001b[0mfit\u001b[0m\u001b[1;33m(\u001b[0m\u001b[0mx_train\u001b[0m\u001b[1;33m,\u001b[0m \u001b[0my_train\u001b[0m\u001b[1;33m)\u001b[0m\u001b[1;33m\u001b[0m\u001b[1;33m\u001b[0m\u001b[0m\n\u001b[0m\u001b[0;32m    166\u001b[0m             \u001b[0my_pred\u001b[0m \u001b[1;33m=\u001b[0m \u001b[0mnp\u001b[0m\u001b[1;33m.\u001b[0m\u001b[0mappend\u001b[0m\u001b[1;33m(\u001b[0m\u001b[0my_pred\u001b[0m\u001b[1;33m,\u001b[0m \u001b[0mmodel\u001b[0m\u001b[1;33m.\u001b[0m\u001b[0mpredict\u001b[0m\u001b[1;33m(\u001b[0m\u001b[0mx_test\u001b[0m\u001b[1;33m)\u001b[0m\u001b[1;33m)\u001b[0m\u001b[1;33m\u001b[0m\u001b[1;33m\u001b[0m\u001b[0m\n\u001b[0;32m    167\u001b[0m             \u001b[0my_true\u001b[0m \u001b[1;33m=\u001b[0m \u001b[0mnp\u001b[0m\u001b[1;33m.\u001b[0m\u001b[0mappend\u001b[0m\u001b[1;33m(\u001b[0m\u001b[0my_true\u001b[0m\u001b[1;33m,\u001b[0m \u001b[0my_test\u001b[0m\u001b[1;33m.\u001b[0m\u001b[0mvalues\u001b[0m\u001b[1;33m)\u001b[0m\u001b[1;33m\u001b[0m\u001b[1;33m\u001b[0m\u001b[0m\n",
      "\u001b[1;32m~\\anaconda3\\lib\\site-packages\\sklearn\\ensemble\\_forest.py\u001b[0m in \u001b[0;36mfit\u001b[1;34m(self, X, y, sample_weight)\u001b[0m\n\u001b[0;32m    301\u001b[0m                 \u001b[1;34m\"sparse multilabel-indicator for y is not supported.\"\u001b[0m\u001b[1;33m\u001b[0m\u001b[1;33m\u001b[0m\u001b[0m\n\u001b[0;32m    302\u001b[0m             )\n\u001b[1;32m--> 303\u001b[1;33m         X, y = self._validate_data(X, y, multi_output=True,\n\u001b[0m\u001b[0;32m    304\u001b[0m                                    accept_sparse=\"csc\", dtype=DTYPE)\n\u001b[0;32m    305\u001b[0m         \u001b[1;32mif\u001b[0m \u001b[0msample_weight\u001b[0m \u001b[1;32mis\u001b[0m \u001b[1;32mnot\u001b[0m \u001b[1;32mNone\u001b[0m\u001b[1;33m:\u001b[0m\u001b[1;33m\u001b[0m\u001b[1;33m\u001b[0m\u001b[0m\n",
      "\u001b[1;32m~\\anaconda3\\lib\\site-packages\\sklearn\\base.py\u001b[0m in \u001b[0;36m_validate_data\u001b[1;34m(self, X, y, reset, validate_separately, **check_params)\u001b[0m\n\u001b[0;32m    430\u001b[0m                 \u001b[0my\u001b[0m \u001b[1;33m=\u001b[0m \u001b[0mcheck_array\u001b[0m\u001b[1;33m(\u001b[0m\u001b[0my\u001b[0m\u001b[1;33m,\u001b[0m \u001b[1;33m**\u001b[0m\u001b[0mcheck_y_params\u001b[0m\u001b[1;33m)\u001b[0m\u001b[1;33m\u001b[0m\u001b[1;33m\u001b[0m\u001b[0m\n\u001b[0;32m    431\u001b[0m             \u001b[1;32melse\u001b[0m\u001b[1;33m:\u001b[0m\u001b[1;33m\u001b[0m\u001b[1;33m\u001b[0m\u001b[0m\n\u001b[1;32m--> 432\u001b[1;33m                 \u001b[0mX\u001b[0m\u001b[1;33m,\u001b[0m \u001b[0my\u001b[0m \u001b[1;33m=\u001b[0m \u001b[0mcheck_X_y\u001b[0m\u001b[1;33m(\u001b[0m\u001b[0mX\u001b[0m\u001b[1;33m,\u001b[0m \u001b[0my\u001b[0m\u001b[1;33m,\u001b[0m \u001b[1;33m**\u001b[0m\u001b[0mcheck_params\u001b[0m\u001b[1;33m)\u001b[0m\u001b[1;33m\u001b[0m\u001b[1;33m\u001b[0m\u001b[0m\n\u001b[0m\u001b[0;32m    433\u001b[0m             \u001b[0mout\u001b[0m \u001b[1;33m=\u001b[0m \u001b[0mX\u001b[0m\u001b[1;33m,\u001b[0m \u001b[0my\u001b[0m\u001b[1;33m\u001b[0m\u001b[1;33m\u001b[0m\u001b[0m\n\u001b[0;32m    434\u001b[0m \u001b[1;33m\u001b[0m\u001b[0m\n",
      "\u001b[1;32m~\\anaconda3\\lib\\site-packages\\sklearn\\utils\\validation.py\u001b[0m in \u001b[0;36minner_f\u001b[1;34m(*args, **kwargs)\u001b[0m\n\u001b[0;32m     71\u001b[0m                           FutureWarning)\n\u001b[0;32m     72\u001b[0m         \u001b[0mkwargs\u001b[0m\u001b[1;33m.\u001b[0m\u001b[0mupdate\u001b[0m\u001b[1;33m(\u001b[0m\u001b[1;33m{\u001b[0m\u001b[0mk\u001b[0m\u001b[1;33m:\u001b[0m \u001b[0marg\u001b[0m \u001b[1;32mfor\u001b[0m \u001b[0mk\u001b[0m\u001b[1;33m,\u001b[0m \u001b[0marg\u001b[0m \u001b[1;32min\u001b[0m \u001b[0mzip\u001b[0m\u001b[1;33m(\u001b[0m\u001b[0msig\u001b[0m\u001b[1;33m.\u001b[0m\u001b[0mparameters\u001b[0m\u001b[1;33m,\u001b[0m \u001b[0margs\u001b[0m\u001b[1;33m)\u001b[0m\u001b[1;33m}\u001b[0m\u001b[1;33m)\u001b[0m\u001b[1;33m\u001b[0m\u001b[1;33m\u001b[0m\u001b[0m\n\u001b[1;32m---> 73\u001b[1;33m         \u001b[1;32mreturn\u001b[0m \u001b[0mf\u001b[0m\u001b[1;33m(\u001b[0m\u001b[1;33m**\u001b[0m\u001b[0mkwargs\u001b[0m\u001b[1;33m)\u001b[0m\u001b[1;33m\u001b[0m\u001b[1;33m\u001b[0m\u001b[0m\n\u001b[0m\u001b[0;32m     74\u001b[0m     \u001b[1;32mreturn\u001b[0m \u001b[0minner_f\u001b[0m\u001b[1;33m\u001b[0m\u001b[1;33m\u001b[0m\u001b[0m\n\u001b[0;32m     75\u001b[0m \u001b[1;33m\u001b[0m\u001b[0m\n",
      "\u001b[1;32m~\\anaconda3\\lib\\site-packages\\sklearn\\utils\\validation.py\u001b[0m in \u001b[0;36mcheck_X_y\u001b[1;34m(X, y, accept_sparse, accept_large_sparse, dtype, order, copy, force_all_finite, ensure_2d, allow_nd, multi_output, ensure_min_samples, ensure_min_features, y_numeric, estimator)\u001b[0m\n\u001b[0;32m    794\u001b[0m         \u001b[1;32mraise\u001b[0m \u001b[0mValueError\u001b[0m\u001b[1;33m(\u001b[0m\u001b[1;34m\"y cannot be None\"\u001b[0m\u001b[1;33m)\u001b[0m\u001b[1;33m\u001b[0m\u001b[1;33m\u001b[0m\u001b[0m\n\u001b[0;32m    795\u001b[0m \u001b[1;33m\u001b[0m\u001b[0m\n\u001b[1;32m--> 796\u001b[1;33m     X = check_array(X, accept_sparse=accept_sparse,\n\u001b[0m\u001b[0;32m    797\u001b[0m                     \u001b[0maccept_large_sparse\u001b[0m\u001b[1;33m=\u001b[0m\u001b[0maccept_large_sparse\u001b[0m\u001b[1;33m,\u001b[0m\u001b[1;33m\u001b[0m\u001b[1;33m\u001b[0m\u001b[0m\n\u001b[0;32m    798\u001b[0m                     \u001b[0mdtype\u001b[0m\u001b[1;33m=\u001b[0m\u001b[0mdtype\u001b[0m\u001b[1;33m,\u001b[0m \u001b[0morder\u001b[0m\u001b[1;33m=\u001b[0m\u001b[0morder\u001b[0m\u001b[1;33m,\u001b[0m \u001b[0mcopy\u001b[0m\u001b[1;33m=\u001b[0m\u001b[0mcopy\u001b[0m\u001b[1;33m,\u001b[0m\u001b[1;33m\u001b[0m\u001b[1;33m\u001b[0m\u001b[0m\n",
      "\u001b[1;32m~\\anaconda3\\lib\\site-packages\\sklearn\\utils\\validation.py\u001b[0m in \u001b[0;36minner_f\u001b[1;34m(*args, **kwargs)\u001b[0m\n\u001b[0;32m     71\u001b[0m                           FutureWarning)\n\u001b[0;32m     72\u001b[0m         \u001b[0mkwargs\u001b[0m\u001b[1;33m.\u001b[0m\u001b[0mupdate\u001b[0m\u001b[1;33m(\u001b[0m\u001b[1;33m{\u001b[0m\u001b[0mk\u001b[0m\u001b[1;33m:\u001b[0m \u001b[0marg\u001b[0m \u001b[1;32mfor\u001b[0m \u001b[0mk\u001b[0m\u001b[1;33m,\u001b[0m \u001b[0marg\u001b[0m \u001b[1;32min\u001b[0m \u001b[0mzip\u001b[0m\u001b[1;33m(\u001b[0m\u001b[0msig\u001b[0m\u001b[1;33m.\u001b[0m\u001b[0mparameters\u001b[0m\u001b[1;33m,\u001b[0m \u001b[0margs\u001b[0m\u001b[1;33m)\u001b[0m\u001b[1;33m}\u001b[0m\u001b[1;33m)\u001b[0m\u001b[1;33m\u001b[0m\u001b[1;33m\u001b[0m\u001b[0m\n\u001b[1;32m---> 73\u001b[1;33m         \u001b[1;32mreturn\u001b[0m \u001b[0mf\u001b[0m\u001b[1;33m(\u001b[0m\u001b[1;33m**\u001b[0m\u001b[0mkwargs\u001b[0m\u001b[1;33m)\u001b[0m\u001b[1;33m\u001b[0m\u001b[1;33m\u001b[0m\u001b[0m\n\u001b[0m\u001b[0;32m     74\u001b[0m     \u001b[1;32mreturn\u001b[0m \u001b[0minner_f\u001b[0m\u001b[1;33m\u001b[0m\u001b[1;33m\u001b[0m\u001b[0m\n\u001b[0;32m     75\u001b[0m \u001b[1;33m\u001b[0m\u001b[0m\n",
      "\u001b[1;32m~\\anaconda3\\lib\\site-packages\\sklearn\\utils\\validation.py\u001b[0m in \u001b[0;36mcheck_array\u001b[1;34m(array, accept_sparse, accept_large_sparse, dtype, order, copy, force_all_finite, ensure_2d, allow_nd, ensure_min_samples, ensure_min_features, estimator)\u001b[0m\n\u001b[0;32m    532\u001b[0m \u001b[1;33m\u001b[0m\u001b[0m\n\u001b[0;32m    533\u001b[0m         \u001b[1;32mif\u001b[0m \u001b[0mall\u001b[0m\u001b[1;33m(\u001b[0m\u001b[0misinstance\u001b[0m\u001b[1;33m(\u001b[0m\u001b[0mdtype\u001b[0m\u001b[1;33m,\u001b[0m \u001b[0mnp\u001b[0m\u001b[1;33m.\u001b[0m\u001b[0mdtype\u001b[0m\u001b[1;33m)\u001b[0m \u001b[1;32mfor\u001b[0m \u001b[0mdtype\u001b[0m \u001b[1;32min\u001b[0m \u001b[0mdtypes_orig\u001b[0m\u001b[1;33m)\u001b[0m\u001b[1;33m:\u001b[0m\u001b[1;33m\u001b[0m\u001b[1;33m\u001b[0m\u001b[0m\n\u001b[1;32m--> 534\u001b[1;33m             \u001b[0mdtype_orig\u001b[0m \u001b[1;33m=\u001b[0m \u001b[0mnp\u001b[0m\u001b[1;33m.\u001b[0m\u001b[0mresult_type\u001b[0m\u001b[1;33m(\u001b[0m\u001b[1;33m*\u001b[0m\u001b[0mdtypes_orig\u001b[0m\u001b[1;33m)\u001b[0m\u001b[1;33m\u001b[0m\u001b[1;33m\u001b[0m\u001b[0m\n\u001b[0m\u001b[0;32m    535\u001b[0m \u001b[1;33m\u001b[0m\u001b[0m\n\u001b[0;32m    536\u001b[0m     \u001b[1;32mif\u001b[0m \u001b[0mdtype_numeric\u001b[0m\u001b[1;33m:\u001b[0m\u001b[1;33m\u001b[0m\u001b[1;33m\u001b[0m\u001b[0m\n",
      "\u001b[1;32m<__array_function__ internals>\u001b[0m in \u001b[0;36mresult_type\u001b[1;34m(*args, **kwargs)\u001b[0m\n",
      "\u001b[1;31mValueError\u001b[0m: at least one array or dtype is required"
     ]
    }
   ],
   "source": [
    "# Generate the prediction from RF\n",
    "AGG_Reg_Result_RF = mf.RF_Prediction(AGG_Reg_parameter_rf,train,test,type='regression')\n",
    "\n",
    "\n",
    "print(mean_absolute_error(AGG_Reg_Result_RF['y_pred'],AGG_Reg_Result_RF['y_true']))\n",
    "\n",
    "\n",
    "print(AGG_Reg_parameter_rf)\n"
   ]
  },
  {
   "cell_type": "code",
   "execution_count": 32,
   "metadata": {
    "pycharm": {
     "is_executing": false,
     "name": "#%%\n"
    }
   },
   "outputs": [
    {
     "data": {
      "text/plain": [
       "<matplotlib.legend.Legend at 0x7f93d8f2ae90>"
      ]
     },
     "execution_count": 32,
     "metadata": {},
     "output_type": "execute_result"
    },
    {
     "data": {
      "image/png": "[encoded data removed]",
      "text/plain": [
       "<Figure size 432x288 with 1 Axes>"
      ]
     },
     "metadata": {
      "needs_background": "light"
     },
     "output_type": "display_data"
    }
   ],
   "source": [
    "# SVM\n",
    "plt.plot(AGG_Reg_Result_SV['y_pred'],label='y_pred')\n",
    "plt.plot(AGG_Reg_Result_SV['y_true'],label='y_true')\n",
    "plt.title('SVM')\n",
    "plt.legend()"
   ]
  },
  {
   "cell_type": "code",
   "execution_count": 33,
   "metadata": {
    "pycharm": {
     "is_executing": false,
     "name": "#%%\n"
    }
   },
   "outputs": [
    {
     "data": {
      "text/plain": [
       "<matplotlib.legend.Legend at 0x7f93d9119bd0>"
      ]
     },
     "execution_count": 33,
     "metadata": {},
     "output_type": "execute_result"
    },
    {
     "data": {
      "image/png": "[encoded data removed]",
      "text/plain": [
       "<Figure size 432x288 with 1 Axes>"
      ]
     },
     "metadata": {
      "needs_background": "light"
     },
     "output_type": "display_data"
    }
   ],
   "source": [
    "# RF\n",
    "plt.plot(AGG_Reg_Result_RF['y_pred'],label='y_pred')\n",
    "plt.plot(AGG_Reg_Result_RF['y_true'],label='y_true')\n",
    "plt.title('RF')\n",
    "plt.legend()"
   ]
  },
  {
   "cell_type": "code",
   "execution_count": 17,
   "metadata": {
    "pycharm": {
     "is_executing": false,
     "name": "#%%\n"
    }
   },
   "outputs": [
    {
     "name": "stdout",
     "output_type": "stream",
     "text": [
      "/Users/baihaohuang/Desktop/FE800_Data\n"
     ]
    }
   ],
   "source": [
    "# Save to the file\n",
    "current = os.getcwd()\n",
    "print(current)"
   ]
  },
  {
   "cell_type": "code",
   "execution_count": 16,
   "metadata": {
    "pycharm": {
     "is_executing": false,
     "name": "#%%\n"
    }
   },
   "outputs": [
    {
     "ename": "NameError",
     "evalue": "name 'AGG_Reg_Result_RF' is not defined",
     "output_type": "error",
     "traceback": [
      "\u001b[0;31m---------------------------------------------------------------------------\u001b[0m",
      "\u001b[0;31mNameError\u001b[0m                                 Traceback (most recent call last)",
      "\u001b[0;32m<ipython-input-16-45f3067dbab7>\u001b[0m in \u001b[0;36m<module>\u001b[0;34m\u001b[0m\n\u001b[1;32m      1\u001b[0m \u001b[0mAGG_Reg_Result_SV\u001b[0m\u001b[0;34m.\u001b[0m\u001b[0mto_csv\u001b[0m\u001b[0;34m(\u001b[0m\u001b[0mcurrent\u001b[0m\u001b[0;34m+\u001b[0m\u001b[0;34m'/Result/Regression/AGG_Reg_SVR.csv'\u001b[0m\u001b[0;34m)\u001b[0m\u001b[0;34m\u001b[0m\u001b[0;34m\u001b[0m\u001b[0m\n\u001b[1;32m      2\u001b[0m \u001b[0mAGG_Cla_Result_SV\u001b[0m\u001b[0;34m.\u001b[0m\u001b[0mto_csv\u001b[0m\u001b[0;34m(\u001b[0m\u001b[0mcurrent\u001b[0m\u001b[0;34m+\u001b[0m\u001b[0;34m'/Result/Classification/AGG_Cla_SVM.csv'\u001b[0m\u001b[0;34m)\u001b[0m\u001b[0;34m\u001b[0m\u001b[0;34m\u001b[0m\u001b[0m\n\u001b[0;32m----> 3\u001b[0;31m \u001b[0mAGG_Reg_Result_RF\u001b[0m\u001b[0;34m.\u001b[0m\u001b[0mto_csv\u001b[0m\u001b[0;34m(\u001b[0m\u001b[0mcurrent\u001b[0m\u001b[0;34m+\u001b[0m\u001b[0;34m'/Result/Regression/AGG_Reg_RF.csv'\u001b[0m\u001b[0;34m)\u001b[0m\u001b[0;34m\u001b[0m\u001b[0;34m\u001b[0m\u001b[0m\n\u001b[0m\u001b[1;32m      4\u001b[0m \u001b[0mAGG_Cla_Result_RF\u001b[0m\u001b[0;34m.\u001b[0m\u001b[0mto_csv\u001b[0m\u001b[0;34m(\u001b[0m\u001b[0mcurrent\u001b[0m\u001b[0;34m+\u001b[0m\u001b[0;34m'/Result/Classification/AGG_Cla_RF.csv'\u001b[0m\u001b[0;34m)\u001b[0m\u001b[0;34m\u001b[0m\u001b[0;34m\u001b[0m\u001b[0m\n\u001b[1;32m      5\u001b[0m \u001b[0;34m\u001b[0m\u001b[0m\n",
      "\u001b[0;31mNameError\u001b[0m: name 'AGG_Reg_Result_RF' is not defined"
     ]
    }
   ],
   "source": [
    "AGG_Reg_Result_SV.to_csv(current+'/Result/Regression/AGG_Reg_SVR.csv')\n",
    "\n",
    "\n"
   ]
  },
  {
   "cell_type": "code",
   "execution_count": null,
   "metadata": {
    "pycharm": {
     "name": "#%%\n"
    }
   },
   "outputs": [],
   "source": [
    "def self_regrees\n"
   ]
  },
  {
   "cell_type": "code",
   "execution_count": 3,
   "metadata": {},
   "outputs": [
    {
     "data": {
      "text/plain": [
       "<bound method NDFrame.head of            Date      y_true       Arima        LSTM         ANN         SVR  \\\n",
       "0    2018-01-01  109.040001  109.401619  109.388750  109.352716  109.329832   \n",
       "1    2018-01-08  108.739998  109.288808  109.297030  109.329719  109.196613   \n",
       "2    2018-01-15  108.180000  109.288808  108.890762  108.791242  109.005003   \n",
       "3    2018-01-22  108.370003  109.288808  108.545002  108.553992  108.631674   \n",
       "4    2018-01-29  107.199997  109.288808  108.538915  108.518337  108.508273   \n",
       "..          ...         ...         ...         ...         ...         ...   \n",
       "160  2021-01-25  117.309998  117.283720  117.721503  117.532181  117.530051   \n",
       "161  2021-02-01  116.709999  117.343401  117.638891  117.240458  117.449593   \n",
       "162  2021-02-08  116.580002  117.343401  117.236291  116.949523  117.140880   \n",
       "163  2021-02-15  115.839996  117.343401  117.020045  116.933015  117.031545   \n",
       "164  2021-02-22  115.339996  117.343401  116.440727  116.449367  116.512032   \n",
       "\n",
       "     Arima + LSTM  Arima + ANN  Arima + SVR  \n",
       "0      109.495537   109.340234   109.399198  \n",
       "1      109.106830   109.147790   109.205437  \n",
       "2      108.677194   109.055209   109.154715  \n",
       "3      108.931532   108.949104   108.948196  \n",
       "4      108.058675   108.876323   109.020689  \n",
       "..            ...          ...          ...  \n",
       "160    117.017768   116.651240   116.915310  \n",
       "161    117.416051   117.130913   117.682671  \n",
       "162    117.081459   116.822425   116.861378  \n",
       "163    117.187976   116.661540   116.997642  \n",
       "164    118.016536   116.570616   116.943184  \n",
       "\n",
       "[165 rows x 9 columns]>"
      ]
     },
     "execution_count": 3,
     "metadata": {},
     "output_type": "execute_result"
    }
   ],
   "source": [
    "AGG_Reg = pd.read_csv(r\"C:\\Users\\huyue\\OneDrive\\Desktop\\New folder\\Portfolio_Data\\totalAGG.csv\") \n",
    "\n",
    "AGG_Reg.head"
   ]
  }
 ],
 "metadata": {
  "kernelspec": {
   "display_name": "Python 3",
   "language": "python",
   "name": "python3"
  },
  "language_info": {
   "codemirror_mode": {
    "name": "ipython",
    "version": 3
   },
   "file_extension": ".py",
   "mimetype": "text/x-python",
   "name": "python",
   "nbconvert_exporter": "python",
   "pygments_lexer": "ipython3",
   "version": "3.8.3"
  },
  "pycharm": {
   "stem_cell": {
    "cell_type": "raw",
    "metadata": {
     "collapsed": false
    },
    "source": []
   }
  }
 },
 "nbformat": 4,
 "nbformat_minor": 1
}
