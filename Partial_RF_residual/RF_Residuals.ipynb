{
 "cells": [
  {
   "cell_type": "code",
   "execution_count": 1,
   "metadata": {
    "collapsed": true,
    "pycharm": {
     "is_executing": false
    }
   },
   "outputs": [],
   "source": [
    "import numpy as np\n",
    "import matplotlib.pyplot as plt\n",
    "import Function as f"
   ]
  },
  {
   "cell_type": "code",
   "execution_count": null,
   "outputs": [],
   "source": [
    "# to do\n",
    "x_train,y_train,x_val,y_val,x_test,y_test,date_test= f.residual_generator_ann(name='AGG',features=5,\n",
    "                                                                train_len=50,val_len=0,test_len=5,forward_len=5)\n",
    "best_parameter = f.RF_CV(x_train,y_train)\n",
    "df = f.RF_Prediction_Residual(best_parameter,x_train,y_train,x_test,y_test,date_test)\n",
    "plt.plot(df['y_true'].values,label='y_true')\n",
    "plt.plot(df['y_pred'].values,label='y_pred')\n",
    "plt.legend()\n",
    "df.to_csv( 'AGG_RF' + '.csv',index=False)"
   ],
   "metadata": {
    "collapsed": false,
    "pycharm": {
     "name": "#%%\n",
     "is_executing": true
    }
   }
  },
  {
   "cell_type": "code",
   "execution_count": null,
   "outputs": [],
   "source": [
    "# to do \n",
    "x_train,y_train,x_val,y_val,x_test,y_test,date_test= f.residual_generator_ann(name='DBC',features=5,\n",
    "                                                                train_len=50,val_len=0,test_len=5,forward_len=5)\n",
    "best_parameter = f.RF_CV(x_train,y_train)\n",
    "df = f.RF_Prediction_Residual(best_parameter,x_train,y_train,x_test,y_test,date_test)\n",
    "plt.plot(df['y_true'].values,label='y_true')\n",
    "plt.plot(df['y_pred'].values,label='y_pred')\n",
    "plt.legend()\n",
    "df.to_csv( 'DBC_RF' + '.csv',index=False)"
   ],
   "metadata": {
    "collapsed": false,
    "pycharm": {
     "name": "#%%\n"
    }
   }
  },
  {
   "cell_type": "code",
   "execution_count": null,
   "outputs": [],
   "source": [
    "x_train,y_train,x_val,y_val,x_test,y_test,date_test= f.residual_generator_ann(name='VIX',features=5,\n",
    "                                                                train_len=50,val_len=0,test_len=5,forward_len=5)\n",
    "best_parameter = f.RF_CV(x_train,y_train)\n",
    "df = f.RF_Prediction_Residual(best_parameter,x_train,y_train,x_test,y_test,date_test)\n",
    "plt.plot(df['y_true'].values,label='y_true')\n",
    "plt.plot(df['y_pred'].values,label='y_pred')\n",
    "plt.legend()\n",
    "df.to_csv( 'VIX_RF' + '.csv',index=False)\n"
   ],
   "metadata": {
    "collapsed": false,
    "pycharm": {
     "name": "#%%\n"
    }
   }
  },
  {
   "cell_type": "code",
   "execution_count": null,
   "outputs": [],
   "source": [
    "x_train,y_train,x_val,y_val,x_test,y_test,date_test= f.residual_generator_ann(name='VTI',features=5,\n",
    "                                                                train_len=50,val_len=0,test_len=5,forward_len=5)\n",
    "best_parameter = f.RF_CV(x_train,y_train)\n",
    "df = f.RF_Prediction_Residual(best_parameter,x_train,y_train,x_test,y_test,date_test)\n",
    "plt.plot(df['y_true'].values,label='y_true')\n",
    "plt.plot(df['y_pred'].values,label='y_pred')\n",
    "plt.legend()\n",
    "df.to_csv( 'VTI_RF' + '.csv',index=False)"
   ],
   "metadata": {
    "collapsed": false,
    "pycharm": {
     "name": "#%%\n"
    }
   }
  },
  {
   "cell_type": "code",
   "execution_count": null,
   "outputs": [],
   "source": [],
   "metadata": {
    "collapsed": false,
    "pycharm": {
     "name": "#%%\n"
    }
   }
  }
 ],
 "metadata": {
  "kernelspec": {
   "display_name": "Python 3",
   "language": "python",
   "name": "python3"
  },
  "language_info": {
   "codemirror_mode": {
    "name": "ipython",
    "version": 2
   },
   "file_extension": ".py",
   "mimetype": "text/x-python",
   "name": "python",
   "nbconvert_exporter": "python",
   "pygments_lexer": "ipython2",
   "version": "2.7.6"
  },
  "pycharm": {
   "stem_cell": {
    "cell_type": "raw",
    "source": [],
    "metadata": {
     "collapsed": false
    }
   }
  }
 },
 "nbformat": 4,
 "nbformat_minor": 0
}