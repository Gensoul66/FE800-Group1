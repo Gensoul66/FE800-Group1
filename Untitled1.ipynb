{
 "cells": [
  {
   "cell_type": "code",
   "execution_count": 12,
   "metadata": {},
   "outputs": [],
   "source": [
    "import numpy as np\n",
    "import pandas as pd \n",
    "from sklearn.ensemble import RandomForestRegressor,RandomForestClassifier\n",
    "from sklearn.svm import SVR,SVC\n",
    "from sklearn.model_selection import GridSearchCV,KFold\n",
    "from sklearn.metrics import mean_squared_error,mean_absolute_error,accuracy_score\n",
    "import matplotlib.pyplot as plt\n"
   ]
  },
  {
   "cell_type": "code",
   "execution_count": 13,
   "metadata": {},
   "outputs": [],
   "source": [
    "def rolling_windows(data ,train_len ,validation_len ,test_len ,forward_len ):\n",
    "\n",
    "    total_len = train_len + validation_len + test_len\n",
    "    forward_times = (data.shape[0] - total_len) // forward_len\n",
    "    train = []\n",
    "    validation = []\n",
    "    test = []\n",
    "\n",
    "    for i in range(forward_times+1):\n",
    "        train.append(data.iloc[forward_len * i: forward_len * i + train_len,:])\n",
    "        validation.append(data.iloc[forward_len * i + train_len : forward_len * i + train_len + validation_len,:])\n",
    "        test.append(data.iloc[forward_len * i + train_len + validation_len : forward_len * i + total_len, :])\n",
    " \n",
    "    return train,validation,test"
   ]
  },
  {
   "cell_type": "code",
   "execution_count": 48,
   "metadata": {},
   "outputs": [],
   "source": [
    "# Support vector cross validation\n",
    "def SV_CV(train,test):\n",
    "\n",
    "    best_parameter = []\n",
    "    # Objective Parameters\n",
    "    param_grid = {'C': [0.001, 0.01, 0.1, 1.0, 5, 10],\n",
    "                  'gamma': [0.001, 0.01, 0.1, 1, 5, 10]}\n",
    "\n",
    "    for i in range(len(train)):\n",
    "\n",
    "        # construct x_train, y_train\n",
    "        train_data_X = np.arrage(0,899)\n",
    "        train_data_Y = train[i]\n",
    "        \n",
    "        \n",
    "        svr_grid_search = GridSearchCV(SVR(kernel='rbf'), param_grid,\n",
    "                                       cv=KFold(n_splits=1), verbose=2, n_jobs=-1)\n",
    "\n",
    "        svr_grid_search.fit(train_data_X, train_data_Y)\n",
    "        best_parameter.append(svr_grid_search.best_params_)\n",
    "\n",
    "    return best_parameter\n",
    "\n",
    "\n",
    "def SV_Prediction(best_parameter,train,test):\n",
    "\n",
    "    y_pred = np.array([])\n",
    "    y_true = np.array([])\n",
    "    date = np.array([])\n",
    "\n",
    "    for i in range(len(train)):\n",
    "\n",
    "        # construct x_train, y_train and x_test\n",
    "        test_data_train = test[i]\n",
    "        test_data_test = test[i+1]\n",
    "        train_data_train = train[i]\n",
    "        train_data_test = train[i+1]\n",
    "        x_train = train_data_train[[\"processed_price\"]]  # if dataframe changes, remember to correct\n",
    "        y_train = test_data_train[[\"processed_price\"]]  # if dataframe changes, remember to correct\n",
    "        x_test = train_data_test[[\"processed_price\"]]  # if dataframe changes, remember to correct\n",
    "        y_test = test_data_test[[\"processed_price\"]]  # if dataframe changes, remember to correct\n",
    "\n",
    "        # Date\n",
    "        date = np.append(date,test_data_test)\n",
    "\n",
    "        C = best_paramter[i]['C']\n",
    "        gamma = best_paramter[i]['gamma']\n",
    "\n",
    "        # fit the model and save the result\n",
    "        model = SVR(C=C,gamma=gamma,kernel='rbf')\n",
    "        model.fit(x_train, y_train)\n",
    "        y_pred = np.append(y_pred, model.predict(x_test))\n",
    "        y_true = np.append(y_true, y_test.values)\n",
    "\n",
    "\n",
    "    result = pd.DataFrame(data={'date':date,'y_pred':y_pred,'y_true':y_true})\n",
    "\n",
    "    return result\n",
    "\n"
   ]
  },
  {
   "cell_type": "code",
   "execution_count": 56,
   "metadata": {},
   "outputs": [
    {
     "name": "stdout",
     "output_type": "stream",
     "text": [
      "[]\n"
     ]
    },
    {
     "ename": "TypeError",
     "evalue": "SV_Prediction() takes 2 positional arguments but 3 were given",
     "output_type": "error",
     "traceback": [
      "\u001b[1;31m---------------------------------------------------------------------------\u001b[0m",
      "\u001b[1;31mTypeError\u001b[0m                                 Traceback (most recent call last)",
      "\u001b[1;32m<ipython-input-56-f7cef7237013>\u001b[0m in \u001b[0;36m<module>\u001b[1;34m\u001b[0m\n\u001b[0;32m      8\u001b[0m \u001b[0mbest_p\u001b[0m \u001b[1;33m=\u001b[0m \u001b[0mSV_CV\u001b[0m\u001b[1;33m(\u001b[0m\u001b[0mtrain\u001b[0m\u001b[1;33m,\u001b[0m\u001b[0mtest\u001b[0m\u001b[1;33m)\u001b[0m\u001b[1;33m\u001b[0m\u001b[1;33m\u001b[0m\u001b[0m\n\u001b[0;32m      9\u001b[0m \u001b[0mprint\u001b[0m\u001b[1;33m(\u001b[0m\u001b[0mbest_p\u001b[0m\u001b[1;33m)\u001b[0m\u001b[1;33m\u001b[0m\u001b[1;33m\u001b[0m\u001b[0m\n\u001b[1;32m---> 10\u001b[1;33m \u001b[0mAGG_Reg_parameter_sv\u001b[0m \u001b[1;33m=\u001b[0m \u001b[0mSV_Prediction\u001b[0m\u001b[1;33m(\u001b[0m\u001b[0mbest_p\u001b[0m\u001b[1;33m,\u001b[0m\u001b[0mtrain\u001b[0m\u001b[1;33m,\u001b[0m\u001b[0mtest\u001b[0m\u001b[1;33m)\u001b[0m\u001b[1;33m\u001b[0m\u001b[1;33m\u001b[0m\u001b[0m\n\u001b[0m",
      "\u001b[1;31mTypeError\u001b[0m: SV_Prediction() takes 2 positional arguments but 3 were given"
     ]
    }
   ],
   "source": [
    "# load AGG data \n",
    "AGG_Reg = pd.read_csv(r\"C:\\Users\\huyue\\Downloads\\Daily_Regression\\rd_AGG.csv\") \n",
    "\n",
    "#print(AGG_Reg.head())\n",
    "\n",
    "# train \n",
    "train,validation,test = rolling_windows(AGG_Reg,900,0,5,5)\n",
    "best_p = SV_CV(train,test)\n",
    "print(best_p)\n",
    "AGG_Reg_parameter_sv = SV_Prediction(best_p,train,test)\n"
   ]
  },
  {
   "cell_type": "code",
   "execution_count": null,
   "metadata": {},
   "outputs": [],
   "source": []
  },
  {
   "cell_type": "code",
   "execution_count": null,
   "metadata": {},
   "outputs": [],
   "source": []
  }
 ],
 "metadata": {
  "kernelspec": {
   "display_name": "Python 3",
   "language": "python",
   "name": "python3"
  },
  "language_info": {
   "codemirror_mode": {
    "name": "ipython",
    "version": 3
   },
   "file_extension": ".py",
   "mimetype": "text/x-python",
   "name": "python",
   "nbconvert_exporter": "python",
   "pygments_lexer": "ipython3",
   "version": "3.8.3"
  }
 },
 "nbformat": 4,
 "nbformat_minor": 4
}
