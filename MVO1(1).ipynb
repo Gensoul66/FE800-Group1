{
 "cells": [
  {
   "cell_type": "code",
   "execution_count": 11,
   "metadata": {},
   "outputs": [
    {
     "name": "stderr",
     "output_type": "stream",
     "text": [
      "<ipython-input-11-88a453dec9f4>:8: FutureWarning: The pandas.datetime class is deprecated and will be removed from pandas in a future version. Import from datetime module instead.\n",
      "  from pandas import datetime\n"
     ]
    }
   ],
   "source": [
    "import numpy as np\n",
    "import pandas as pd\n",
    "from matplotlib import pyplot as plt\n",
    "from statsmodels.tsa.stattools import adfuller\n",
    "from statsmodels.tsa.seasonal import seasonal_decompose\n",
    "from pandas.plotting import register_matplotlib_converters\n",
    "from pandas.plotting import lag_plot\n",
    "from pandas import datetime\n",
    "from statsmodels.tsa.arima_model import ARIMA\n",
    "from sklearn.metrics import mean_squared_error\n",
    "register_matplotlib_converters()\n",
    "import os\n",
    "\n",
    "os.chdir(r\"C:\\Users\\huyue\\OneDrive\\Desktop\\New folder\\Final_Portfolio_Data\") "
   ]
  },
  {
   "cell_type": "code",
   "execution_count": 12,
   "metadata": {},
   "outputs": [],
   "source": [
    "from pypfopt.expected_returns import mean_historical_return\n",
    "from pypfopt.risk_models import CovarianceShrinkage\n",
    "from pypfopt import expected_returns\n",
    "from pypfopt.efficient_frontier import EfficientFrontier"
   ]
  },
  {
   "cell_type": "code",
   "execution_count": null,
   "metadata": {},
   "outputs": [],
   "source": [
    "#pip install PyPortfolioOpt"
   ]
  },
  {
   "cell_type": "code",
   "execution_count": 13,
   "metadata": {},
   "outputs": [
    {
     "data": {
      "text/html": [
       "<div>\n",
       "<style scoped>\n",
       "    .dataframe tbody tr th:only-of-type {\n",
       "        vertical-align: middle;\n",
       "    }\n",
       "\n",
       "    .dataframe tbody tr th {\n",
       "        vertical-align: top;\n",
       "    }\n",
       "\n",
       "    .dataframe thead th {\n",
       "        text-align: right;\n",
       "    }\n",
       "</style>\n",
       "<table border=\"1\" class=\"dataframe\">\n",
       "  <thead>\n",
       "    <tr style=\"text-align: right;\">\n",
       "      <th></th>\n",
       "      <th>y_true</th>\n",
       "      <th>Arima</th>\n",
       "      <th>LSTM</th>\n",
       "      <th>ANN</th>\n",
       "      <th>SVR</th>\n",
       "      <th>RF</th>\n",
       "      <th>Arima + LSTM</th>\n",
       "      <th>Arima + ANN</th>\n",
       "      <th>Arima + SVR</th>\n",
       "      <th>Arima + RF</th>\n",
       "    </tr>\n",
       "    <tr>\n",
       "      <th>Date</th>\n",
       "      <th></th>\n",
       "      <th></th>\n",
       "      <th></th>\n",
       "      <th></th>\n",
       "      <th></th>\n",
       "      <th></th>\n",
       "      <th></th>\n",
       "      <th></th>\n",
       "      <th></th>\n",
       "      <th></th>\n",
       "    </tr>\n",
       "  </thead>\n",
       "  <tbody>\n",
       "    <tr>\n",
       "      <th>2018-01-01</th>\n",
       "      <td>109.040001</td>\n",
       "      <td>109.401619</td>\n",
       "      <td>109.232229</td>\n",
       "      <td>109.227137</td>\n",
       "      <td>109.329832</td>\n",
       "      <td>109.585885</td>\n",
       "      <td>109.345484</td>\n",
       "      <td>109.485514</td>\n",
       "      <td>109.399198</td>\n",
       "      <td>109.305787</td>\n",
       "    </tr>\n",
       "    <tr>\n",
       "      <th>2018-01-08</th>\n",
       "      <td>108.739998</td>\n",
       "      <td>109.288808</td>\n",
       "      <td>109.110394</td>\n",
       "      <td>109.168001</td>\n",
       "      <td>109.196613</td>\n",
       "      <td>109.246608</td>\n",
       "      <td>109.150927</td>\n",
       "      <td>108.901882</td>\n",
       "      <td>109.228959</td>\n",
       "      <td>109.152844</td>\n",
       "    </tr>\n",
       "    <tr>\n",
       "      <th>2018-01-15</th>\n",
       "      <td>108.180000</td>\n",
       "      <td>109.288808</td>\n",
       "      <td>108.836703</td>\n",
       "      <td>108.633961</td>\n",
       "      <td>109.005003</td>\n",
       "      <td>108.838129</td>\n",
       "      <td>109.152933</td>\n",
       "      <td>109.056811</td>\n",
       "      <td>109.151885</td>\n",
       "      <td>109.160901</td>\n",
       "    </tr>\n",
       "    <tr>\n",
       "      <th>2018-01-22</th>\n",
       "      <td>108.370003</td>\n",
       "      <td>109.288808</td>\n",
       "      <td>108.363606</td>\n",
       "      <td>108.505565</td>\n",
       "      <td>108.631674</td>\n",
       "      <td>108.497227</td>\n",
       "      <td>109.486205</td>\n",
       "      <td>109.267983</td>\n",
       "      <td>109.013294</td>\n",
       "      <td>109.160580</td>\n",
       "    </tr>\n",
       "    <tr>\n",
       "      <th>2018-01-29</th>\n",
       "      <td>107.199997</td>\n",
       "      <td>109.288808</td>\n",
       "      <td>108.320457</td>\n",
       "      <td>108.570302</td>\n",
       "      <td>108.508273</td>\n",
       "      <td>108.313207</td>\n",
       "      <td>109.719524</td>\n",
       "      <td>108.627426</td>\n",
       "      <td>109.093992</td>\n",
       "      <td>109.146632</td>\n",
       "    </tr>\n",
       "  </tbody>\n",
       "</table>\n",
       "</div>"
      ],
      "text/plain": [
       "                y_true       Arima        LSTM         ANN         SVR  \\\n",
       "Date                                                                     \n",
       "2018-01-01  109.040001  109.401619  109.232229  109.227137  109.329832   \n",
       "2018-01-08  108.739998  109.288808  109.110394  109.168001  109.196613   \n",
       "2018-01-15  108.180000  109.288808  108.836703  108.633961  109.005003   \n",
       "2018-01-22  108.370003  109.288808  108.363606  108.505565  108.631674   \n",
       "2018-01-29  107.199997  109.288808  108.320457  108.570302  108.508273   \n",
       "\n",
       "                    RF  Arima + LSTM  Arima + ANN  Arima + SVR  Arima + RF  \n",
       "Date                                                                        \n",
       "2018-01-01  109.585885    109.345484   109.485514   109.399198  109.305787  \n",
       "2018-01-08  109.246608    109.150927   108.901882   109.228959  109.152844  \n",
       "2018-01-15  108.838129    109.152933   109.056811   109.151885  109.160901  \n",
       "2018-01-22  108.497227    109.486205   109.267983   109.013294  109.160580  \n",
       "2018-01-29  108.313207    109.719524   108.627426   109.093992  109.146632  "
      ]
     },
     "execution_count": 13,
     "metadata": {},
     "output_type": "execute_result"
    }
   ],
   "source": [
    "df1 = pd.read_csv('totalAGG.csv', parse_dates = [0], index_col = [0])\n",
    "df2 = pd.read_csv('totalDBC.csv', parse_dates = [0], index_col = [0])\n",
    "df3 = pd.read_csv('totalVIX.csv', parse_dates = [0], index_col = [0])\n",
    "df4 = pd.read_csv('totalVTI.csv', parse_dates = [0], index_col = [0])\n",
    "df1.head()"
   ]
  },
  {
   "cell_type": "code",
   "execution_count": 14,
   "metadata": {},
   "outputs": [],
   "source": [
    "AGG_y = df1['y_true']\n",
    "DBC_y = df2['y_true']\n",
    "VIX_y = df3['y_true']\n",
    "VTI_y = df4['y_true']\n",
    "data_y = pd.DataFrame(list(zip(AGG_y, DBC_y, VIX_y, VTI_y)), \n",
    "                          columns=['AGG', 'DBC', 'VIX', 'VTI'], \n",
    "                          index = AGG_y.index)"
   ]
  },
  {
   "cell_type": "code",
   "execution_count": 15,
   "metadata": {},
   "outputs": [],
   "source": [
    "AGG_arima = df1['Arima']\n",
    "DBC_arima = df2['Arima']\n",
    "VIX_arima = df3['Arima']\n",
    "VTI_arima = df4['Arima']\n",
    "data_arima = pd.DataFrame(list(zip(AGG_arima, DBC_arima, VIX_arima, VTI_arima)), \n",
    "                          columns=['AGG', 'DBC', 'VIX', 'VTI'], \n",
    "                          index = AGG_arima.index)"
   ]
  },
  {
   "cell_type": "code",
   "execution_count": 67,
   "metadata": {},
   "outputs": [],
   "source": [
    "AGG_ari_LSTM = df1['Arima + LSTM']\n",
    "DBC_ari_LSTM = df2['Arima + LSTM']\n",
    "VIX_ari_LSTM = df3['Arima + LSTM']\n",
    "VTI_ari_LSTM = df4['Arima + LSTM']\n",
    "data_ari_LSTM = pd.DataFrame(list(zip(AGG_ari_LSTM, DBC_ari_LSTM, VIX_ari_LSTM, VTI_ari_LSTM)), \n",
    "                          columns=['AGG', 'DBC', 'VIX', 'VTI'], \n",
    "                          index = AGG_arima.index)\n"
   ]
  },
  {
   "cell_type": "code",
   "execution_count": 16,
   "metadata": {
    "scrolled": true
   },
   "outputs": [
    {
     "name": "stderr",
     "output_type": "stream",
     "text": [
      "<ipython-input-16-2bac6c1c6f3b>:7: DeprecationWarning: The default dtype for empty Series will be 'object' instead of 'float64' in a future version. Specify a dtype explicitly to silence this warning.\n",
      "  port_ret = pd.Series()\n",
      "<ipython-input-16-2bac6c1c6f3b>:8: DeprecationWarning: The default dtype for empty Series will be 'object' instead of 'float64' in a future version. Specify a dtype explicitly to silence this warning.\n",
      "  ret = pd.Series()\n"
     ]
    }
   ],
   "source": [
    "# baseline\n",
    "from pypfopt.expected_returns import mean_historical_return\n",
    "from pypfopt.risk_models import CovarianceShrinkage\n",
    "\n",
    "port_ret = []\n",
    "ret = []\n",
    "port_ret = pd.Series() \n",
    "ret = pd.Series() \n",
    "timesteps = 15\n",
    "\n",
    "for i in range(0,len(data_y)-timesteps, timesteps):\n",
    "    history = data_y[i:i+timesteps]\n",
    "    # Calculate expected returns and sample covariance\n",
    "    mu = expected_returns.mean_historical_return(history)\n",
    "    S = CovarianceShrinkage(history).ledoit_wolf()\n",
    "    # Optimize for maximal Sharpe ratio\n",
    "    ef = EfficientFrontier(mu, S)\n",
    "    weights = ef.max_sharpe()\n",
    "    \n",
    "    if i==0:\n",
    "        w0 = pd.DataFrame(weights.values())\n",
    "        w0 = w0.T\n",
    "        w0.rename(columns={0:'AGG',1:'DBC',2:'VIX',3:'VTI'},inplace=True)\n",
    "#         print(w0)\n",
    "        \n",
    "    else: \n",
    "        w = list(weights.values())\n",
    "        w0.loc[len(w0)] = w\n",
    "    \n",
    "    ret_data = history.pct_change()[1:]\n",
    "    ret_data1 = ret_data.dropna()\n",
    "    weighted_returns = (weights * ret_data1)*100\n",
    "    port_ret0 = weighted_returns.sum(axis=1)\n",
    "    port_ret = pd.concat([port_ret, port_ret0])\n",
    "    weights1 = list(weights.values())\n",
    "    ret0 = ret_data1.dot(weights1)\n",
    "    \n",
    "    if i==0:\n",
    "        ret = ret0\n",
    "    else:  \n",
    "        ret = pd.concat([ret, ret0])\n",
    "        \n",
    "    \n",
    "\n",
    "# cumulative return\n",
    "ret00 = ret.add(1).cumprod().subtract(1).multiply(100)\n",
    "\n"
   ]
  },
  {
   "cell_type": "code",
   "execution_count": 64,
   "metadata": {},
   "outputs": [
    {
     "name": "stderr",
     "output_type": "stream",
     "text": [
      "/Users/yuzhi/anaconda3/lib/python3.7/site-packages/ipykernel_launcher.py:6: DeprecationWarning: The default dtype for empty Series will be 'object' instead of 'float64' in a future version. Specify a dtype explicitly to silence this warning.\n",
      "  \n",
      "/Users/yuzhi/anaconda3/lib/python3.7/site-packages/ipykernel_launcher.py:7: DeprecationWarning: The default dtype for empty Series will be 'object' instead of 'float64' in a future version. Specify a dtype explicitly to silence this warning.\n",
      "  import sys\n"
     ]
    }
   ],
   "source": [
    "# Arima\n",
    "from pypfopt.expected_returns import mean_historical_return\n",
    "from pypfopt.risk_models import CovarianceShrinkage\n",
    "\n",
    "port_ret = []\n",
    "ret = []\n",
    "port_ret = pd.Series() \n",
    "ret = pd.Series() \n",
    "timesteps = 15\n",
    "\n",
    "for i in range(0,len(data_y)-timesteps, timesteps):\n",
    "    history1 = data_y[i:i + timesteps - 1]\n",
    "    history2 = pd.DataFrame(data_arima.iloc[i + timesteps-1 ]).T\n",
    "    history = pd.concat([history1, history2])\n",
    "    \n",
    "    # Calculate expected returns and sample covariance\n",
    "    mu = expected_returns.mean_historical_return(history)\n",
    "    S = CovarianceShrinkage(history).ledoit_wolf()\n",
    "    # Optimize for maximal Sharpe ratio\n",
    "    ef = EfficientFrontier(mu, S)\n",
    "    weights = ef.max_sharpe()\n",
    "    \n",
    "    if i==0:\n",
    "        w0 = pd.DataFrame(weights.values())\n",
    "        w0 = w0.T\n",
    "        w0.rename(columns={0:'AGG',1:'DBC',2:'VIX',3:'VTI'},inplace=True)\n",
    "#         print(w0)\n",
    "        \n",
    "    else: \n",
    "        w = list(weights.values())\n",
    "        w0.loc[len(w0)] = w\n",
    "    \n",
    "    ret_data = history.pct_change()[1:]\n",
    "    ret_data1 = ret_data.dropna()\n",
    "    weighted_returns = (weights * ret_data1)*100\n",
    "    port_ret0 = weighted_returns.sum(axis=1)\n",
    "    port_ret = pd.concat([port_ret, port_ret0])\n",
    "    weights1 = list(weights.values())\n",
    "    ret0 = ret_data1.dot(weights1)\n",
    "    \n",
    "    if i==0:\n",
    "        ret = ret0\n",
    "    else:  \n",
    "        ret = pd.concat([ret, ret0])\n",
    "        \n",
    "    i = i+1\n",
    "\n",
    "# cumulative return\n",
    "ret11 = ret.add(1).cumprod().subtract(1).multiply(100)\n",
    "\n"
   ]
  },
  {
   "cell_type": "code",
   "execution_count": 68,
   "metadata": {},
   "outputs": [
    {
     "name": "stderr",
     "output_type": "stream",
     "text": [
      "/Users/yuzhi/anaconda3/lib/python3.7/site-packages/ipykernel_launcher.py:6: DeprecationWarning: The default dtype for empty Series will be 'object' instead of 'float64' in a future version. Specify a dtype explicitly to silence this warning.\n",
      "  \n",
      "/Users/yuzhi/anaconda3/lib/python3.7/site-packages/ipykernel_launcher.py:7: DeprecationWarning: The default dtype for empty Series will be 'object' instead of 'float64' in a future version. Specify a dtype explicitly to silence this warning.\n",
      "  import sys\n"
     ]
    }
   ],
   "source": [
    "# Arima + LSTM\n",
    "from pypfopt.expected_returns import mean_historical_return\n",
    "from pypfopt.risk_models import CovarianceShrinkage\n",
    "\n",
    "port_ret = []\n",
    "ret = []\n",
    "port_ret = pd.Series() \n",
    "ret = pd.Series() \n",
    "timesteps = 15\n",
    "\n",
    "for i in range(0,len(data_y)-timesteps, timesteps):\n",
    "    history1 = data_y[i:i + timesteps - 1]\n",
    "    history2 = pd.DataFrame(data_ari_LSTM.iloc[i + timesteps - 1]).T\n",
    "    history = pd.concat([history1, history2])\n",
    "    \n",
    "    # Calculate expected returns and sample covariance\n",
    "    mu = expected_returns.mean_historical_return(history)\n",
    "    S = CovarianceShrinkage(history).ledoit_wolf()\n",
    "    # Optimize for maximal Sharpe ratio\n",
    "    ef = EfficientFrontier(mu, S)\n",
    "    weights = ef.max_sharpe()\n",
    "    \n",
    "    if i==0:\n",
    "        w0 = pd.DataFrame(weights.values())\n",
    "        w0 = w0.T\n",
    "        w0.rename(columns={0:'AGG',1:'DBC',2:'VIX',3:'VTI'},inplace=True)\n",
    "#         print(w0)\n",
    "        \n",
    "    else: \n",
    "        w = list(weights.values())\n",
    "        w0.loc[len(w0)] = w\n",
    "    \n",
    "    ret_data = history.pct_change()[1:]\n",
    "    ret_data1 = ret_data.dropna()\n",
    "    weighted_returns = (weights * ret_data1)*100\n",
    "    port_ret0 = weighted_returns.sum(axis=1)\n",
    "    port_ret = pd.concat([port_ret, port_ret0])\n",
    "    weights1 = list(weights.values())\n",
    "    ret0 = ret_data1.dot(weights1)\n",
    "    \n",
    "    if i==0:\n",
    "        ret = ret0\n",
    "    else:  \n",
    "        ret = pd.concat([ret, ret0])\n",
    "        \n",
    "    i = i+1\n",
    "\n",
    "# cumulative return\n",
    "ret22 = ret.add(1).cumprod().subtract(1).multiply(100)\n",
    "\n"
   ]
  },
  {
   "cell_type": "code",
   "execution_count": 31,
   "metadata": {},
   "outputs": [],
   "source": [
    "# w0.index = data_y[5:-1].index\n",
    "# w0\n",
    "w0.to_csv('weights.csv')\n",
    "port_ret.to_csv('port_ret.csv')\n",
    "ret00.to_csv('ret.csv')"
   ]
  },
  {
   "cell_type": "code",
   "execution_count": 17,
   "metadata": {
    "scrolled": true
   },
   "outputs": [
    {
     "data": {
      "image/png": "[encoded data removed]",
      "text/plain": [
       "<Figure size 1080x360 with 1 Axes>"
      ]
     },
     "metadata": {
      "needs_background": "light"
     },
     "output_type": "display_data"
    }
   ],
   "source": [
    "plt.rcParams.update({'figure.figsize':(9,3), 'figure.dpi':120})\n",
    "\n",
    "plt.plot(port_ret, label='y true')\n",
    "\n",
    "plt.legend(loc='upper left', fontsize=8)\n",
    "plt.title('Portfolio return with $100')\n",
    "plt.show()"
   ]
  },
  {
   "cell_type": "code",
   "execution_count": 19,
   "metadata": {},
   "outputs": [
    {
     "data": {
      "image/png": "[encoded data removed]",
      "text/plain": [
       "<Figure size 1080x360 with 1 Axes>"
      ]
     },
     "metadata": {
      "needs_background": "light"
     },
     "output_type": "display_data"
    }
   ],
   "source": [
    "plt.rcParams.update({'figure.figsize':(9,3), 'figure.dpi':120})\n",
    "plt.plot(ret00, label='y true')\n",
    "#plt.plot(ret11, label='Arima')\n",
    "#plt.plot(ret22, label='Arima + LSTM')\n",
    "plt.ylabel('Cumulative Return in %')\n",
    "plt.legend(loc='upper left', fontsize=8)\n",
    "plt.title('Portfolio performance')\n",
    "plt.show()"
   ]
  },
  {
   "cell_type": "code",
   "execution_count": 26,
   "metadata": {},
   "outputs": [],
   "source": [
    "# history1 = data_y[0:4]\n",
    "# history2 = data_arima[5]\n",
    "# weights = [0.2,0.2,0.3,0.3]\n",
    "# ret_data = history.pct_change()[1:]\n",
    "# ret_data1 = ret_data.dropna()\n",
    "# weighted_returns = (weights * ret_data1)*100\n",
    "# port_ret0 = weighted_returns.sum(axis=1)\n",
    "# # port_ret = pd.concat([port_ret, port_ret0])\n",
    "# ret0 = ret_data1.dot(weights).add(1).cumprod().subtract(1).multiply(100)"
   ]
  },
  {
   "cell_type": "code",
   "execution_count": 56,
   "metadata": {},
   "outputs": [],
   "source": [
    "# history1 = data_y[0:4]\n",
    "# history2 = pd.DataFrame(data_arima.iloc[4]).T\n",
    "# history = pd.concat([history1, history2])\n"
   ]
  },
  {
   "cell_type": "code",
   "execution_count": null,
   "metadata": {},
   "outputs": [],
   "source": []
  }
 ],
 "metadata": {
  "kernelspec": {
   "display_name": "Python 3",
   "language": "python",
   "name": "python3"
  },
  "language_info": {
   "codemirror_mode": {
    "name": "ipython",
    "version": 3
   },
   "file_extension": ".py",
   "mimetype": "text/x-python",
   "name": "python",
   "nbconvert_exporter": "python",
   "pygments_lexer": "ipython3",
   "version": "3.8.3"
  }
 },
 "nbformat": 4,
 "nbformat_minor": 4
}
