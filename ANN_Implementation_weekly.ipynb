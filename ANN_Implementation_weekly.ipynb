{
  "nbformat": 4,
  "nbformat_minor": 0,
  "metadata": {
    "accelerator": "GPU",
    "colab": {
      "name": "ANN_Implementation_weekly.ipynb",
      "provenance": [],
      "collapsed_sections": [],
      "toc_visible": true,
      "machine_shape": "hm"
    },
    "kernelspec": {
      "display_name": "Python 3",
      "name": "python3"
    },
    "language_info": {
      "name": "python"
    }
  },
  "cells": [
    {
      "cell_type": "code",
      "metadata": {
        "id": "7VpZ0XzFWC8-"
      },
      "source": [
        "pip install -U keras-tuner"
      ],
      "execution_count": null,
      "outputs": []
    },
    {
      "cell_type": "code",
      "metadata": {
        "id": "-ERYt3a3XGdP"
      },
      "source": [
        "import ANN_Function as af\n",
        "import pandas as pd \n",
        "import numpy as np\n",
        "import matplotlib.pyplot as plt\n",
        "from kerastuner.tuners import BayesianOptimization,RandomSearch\n",
        "from tensorflow.keras.models import Sequential\n",
        "from tensorflow.keras.layers import Dense,Input,LSTM,Dropout\n",
        "from tensorflow.keras.optimizers import Adam\n",
        "from sklearn.metrics import mean_squared_error,mean_absolute_error,accuracy_score\n",
        "import matplotlib.pyplot as plt"
      ],
      "execution_count": null,
      "outputs": []
    },
    {
      "cell_type": "markdown",
      "metadata": {
        "id": "g7gY2D74rTYR"
      },
      "source": [
        "# **AGG**"
      ]
    },
    {
      "cell_type": "code",
      "metadata": {
        "id": "h-CjvUirXONL"
      },
      "source": [
        "# Load data \n",
        "AGG_weekly_reg = pd.read_csv('rw_AGG_s.csv')\n",
        "AGG_weekly_cla = pd.read_csv('cw_AGG_s.csv')\n",
        "train,validation,test = af.rolling_windows(AGG_weekly_reg,100,25,35,35)\n",
        "train_,validation_,test_ = af.rolling_windows(AGG_weekly_cla,100,25,35,35)"
      ],
      "execution_count": null,
      "outputs": []
    },
    {
      "cell_type": "code",
      "metadata": {
        "id": "HZILQVJnXywh"
      },
      "source": [
        "# Regression tuner \n",
        "AGG_reg_bestparameter,AGG_reg_bestmodel = af.ANN_Regression_CV_result(train,validation,'AGG_reg1')"
      ],
      "execution_count": null,
      "outputs": []
    },
    {
      "cell_type": "code",
      "metadata": {
        "id": "KX3cO_UWZJCP"
      },
      "source": [
        "# Classification tuner \n",
        "AGG_cla_bestparameter,AGG_cla_bestmodel = af.ANN_Classification_CV_result(train_,validation_,'AGG_cla12')"
      ],
      "execution_count": null,
      "outputs": []
    },
    {
      "cell_type": "code",
      "metadata": {
        "id": "DBXwFDMMgo1u"
      },
      "source": [
        "# Prediction\n",
        "AGG_Regression_result = af.ANN_Prediction(best_model=AGG_reg_bestmodel,test=test,type = 'regression')\n",
        "AGG_Classification_result = af.ANN_Prediction(best_model=AGG_cla_bestmodel,test=test_,type = 'classification')"
      ],
      "execution_count": null,
      "outputs": []
    },
    {
      "cell_type": "code",
      "metadata": {
        "colab": {
          "base_uri": "https://localhost:8080/",
          "height": 302
        },
        "id": "XhGXvo6fE3d6",
        "outputId": "1b6f621f-1540-408f-ddbc-7a11f4c9734a"
      },
      "source": [
        "# The prediction performance \n",
        "plt.plot(AGG_Regression_result['y_true'],label='True')\n",
        "plt.plot(AGG_Regression_result['y_pred'],label=\"Pred\")\n",
        "plt.legend()\n",
        "print(mean_squared_error(AGG_Regression_result['y_true'],AGG_Regression_result['y_pred']))\n",
        "print(mean_absolute_error(AGG_Regression_result['y_true'],AGG_Regression_result['y_pred']))"
      ],
      "execution_count": null,
      "outputs": [
        {
          "output_type": "stream",
          "text": [
            "1.413211492993012e-05\n",
            "0.002054463529167847\n"
          ],
          "name": "stdout"
        },
        {
          "output_type": "display_data",
          "data": {
            "image/png": "[encoded data removed]",
            "text/plain": [
              "<Figure size 432x288 with 1 Axes>"
            ]
          },
          "metadata": {
            "tags": []
          }
        }
      ]
    },
    {
      "cell_type": "code",
      "metadata": {
        "colab": {
          "base_uri": "https://localhost:8080/"
        },
        "id": "o9fdUhnMks0z",
        "outputId": "ac2548e7-2f35-4e2b-ae76-2f31b6c47f27"
      },
      "source": [
        "accuracy_score(AGG_Classification_result['y_true'],AGG_Classification_result['y_pred'])"
      ],
      "execution_count": null,
      "outputs": [
        {
          "output_type": "execute_result",
          "data": {
            "text/plain": [
              "0.6476190476190476"
            ]
          },
          "metadata": {
            "tags": []
          },
          "execution_count": 16
        }
      ]
    },
    {
      "cell_type": "code",
      "metadata": {
        "id": "NDk5ZJ3GD8_P"
      },
      "source": [
        "# Write CSV\n",
        "AGG_Regression_result.to_csv('AGG_Reg_ANN_Weekly.csv')\n",
        "AGG_Classification_result.to_csv('AGG_Cla_ANN_Weekly.csv')"
      ],
      "execution_count": null,
      "outputs": []
    },
    {
      "cell_type": "markdown",
      "metadata": {
        "id": "dCOnISFXFZvB"
      },
      "source": [
        "# **DBC**"
      ]
    },
    {
      "cell_type": "code",
      "metadata": {
        "id": "-a6nnC1zFvP-"
      },
      "source": [
        "# Load data \n",
        "DBC_weekly_reg = pd.read_csv('rw_DBC_s.csv')\n",
        "DBC_weekly_cla = pd.read_csv('cw_DBC_s.csv')\n",
        "train,validation,test = af.rolling_windows(DBC_weekly_reg,100,25,35,35)\n",
        "train_,validation_,test_ = af.rolling_windows(DBC_weekly_cla,100,25,35,35)"
      ],
      "execution_count": null,
      "outputs": []
    },
    {
      "cell_type": "code",
      "metadata": {
        "colab": {
          "base_uri": "https://localhost:8080/"
        },
        "id": "wFshv_wiGfR7",
        "outputId": "cb381a5e-01e2-49df-b863-02df93d10a79"
      },
      "source": [
        "# Regression tuner \n",
        "DBC_reg_bestparameter,DBC_reg_bestmodel = af.ANN_Regression_CV_result(train,validation,'DBC_reg2')"
      ],
      "execution_count": null,
      "outputs": [
        {
          "output_type": "stream",
          "text": [
            "Trial 10 Complete [00h 00m 17s]\n",
            "val_loss: 0.00010154783133960639\n",
            "\n",
            "Best val_loss So Far: 0.00010106977182052408\n",
            "Total elapsed time: 00h 03m 11s\n",
            "INFO:tensorflow:Oracle triggered exit\n"
          ],
          "name": "stdout"
        }
      ]
    },
    {
      "cell_type": "code",
      "metadata": {
        "colab": {
          "base_uri": "https://localhost:8080/"
        },
        "id": "WPvBAN-HGqbP",
        "outputId": "486b4e18-a68a-4fc4-98a6-061fd8d84209"
      },
      "source": [
        "# Classification tuner \n",
        "DBC_cla_bestparameter,DBC_cla_bestmodel = af.ANN_Classification_CV_result(train_,validation_,'DBC_cla11')"
      ],
      "execution_count": null,
      "outputs": [
        {
          "output_type": "stream",
          "text": [
            "Trial 10 Complete [00h 00m 19s]\n",
            "val_accuracy: 0.6000000238418579\n",
            "\n",
            "Best val_accuracy So Far: 0.6000000238418579\n",
            "Total elapsed time: 00h 03m 20s\n",
            "INFO:tensorflow:Oracle triggered exit\n"
          ],
          "name": "stdout"
        }
      ]
    },
    {
      "cell_type": "code",
      "metadata": {
        "id": "3uzJo-v_JKw4"
      },
      "source": [
        "# Prediction\n",
        "DBC_Regression_result = af.ANN_Prediction(best_model=DBC_reg_bestmodel,test=test,type = 'regression')\n",
        "DBC_Classification_result = af.ANN_Prediction(best_model=DBC_cla_bestmodel,test=test_,type = 'classification')"
      ],
      "execution_count": null,
      "outputs": []
    },
    {
      "cell_type": "code",
      "metadata": {
        "colab": {
          "base_uri": "https://localhost:8080/",
          "height": 299
        },
        "id": "SkxKFoI8Lq8h",
        "outputId": "66bba25f-138c-408a-ef95-7143c64b2ee8"
      },
      "source": [
        "# The prediction performance \n",
        "plt.plot(DBC_Regression_result['y_true'],label='True')\n",
        "plt.plot(DBC_Regression_result['y_pred'],label=\"Pred\")\n",
        "plt.legend()\n",
        "print(mean_squared_error(DBC_Regression_result['y_true'],DBC_Regression_result['y_pred']))\n",
        "print(mean_absolute_error(DBC_Regression_result['y_true'],DBC_Regression_result['y_pred']))"
      ],
      "execution_count": null,
      "outputs": [
        {
          "output_type": "stream",
          "text": [
            "0.00020571153439684063\n",
            "0.00895004135541993\n"
          ],
          "name": "stdout"
        },
        {
          "output_type": "display_data",
          "data": {
            "image/png": "[encoded data removed]",
            "text/plain": [
              "<Figure size 432x288 with 1 Axes>"
            ]
          },
          "metadata": {
            "tags": []
          }
        }
      ]
    },
    {
      "cell_type": "code",
      "metadata": {
        "colab": {
          "base_uri": "https://localhost:8080/"
        },
        "id": "H9OBUqJhLz_p",
        "outputId": "5fe5eaab-aa31-4527-f145-653376a52050"
      },
      "source": [
        "accuracy_score(DBC_Classification_result['y_true'],DBC_Classification_result['y_pred'])"
      ],
      "execution_count": null,
      "outputs": [
        {
          "output_type": "execute_result",
          "data": {
            "text/plain": [
              "0.580952380952381"
            ]
          },
          "metadata": {
            "tags": []
          },
          "execution_count": 13
        }
      ]
    },
    {
      "cell_type": "code",
      "metadata": {
        "id": "QmV5bLVaMLoV"
      },
      "source": [
        "# Write csv\n",
        "DBC_Regression_result.to_csv('DBC_Reg_ANN_Weekly.csv')\n",
        "DBC_Classification_result.to_csv('DBC_Cla_ANN_Weekly.csv')"
      ],
      "execution_count": null,
      "outputs": []
    },
    {
      "cell_type": "markdown",
      "metadata": {
        "id": "Dy-QYj7kNMCU"
      },
      "source": [
        "# **VIX**"
      ]
    },
    {
      "cell_type": "code",
      "metadata": {
        "id": "i3wH_7D3NLo8"
      },
      "source": [
        "# Load data \n",
        "VIX_weekly_reg = pd.read_csv('rw_VIX_s.csv')\n",
        "VIX_weekly_cla = pd.read_csv('cw_VIX_s.csv')\n",
        "train,validation,test = af.rolling_windows(VIX_weekly_reg,100,25,35,35)\n",
        "train_,validation_,test_ = af.rolling_windows(VIX_weekly_cla,100,25,35,35)"
      ],
      "execution_count": null,
      "outputs": []
    },
    {
      "cell_type": "code",
      "metadata": {
        "colab": {
          "base_uri": "https://localhost:8080/"
        },
        "id": "tprHmoVsMjmY",
        "outputId": "8d00adc7-fffa-4f7d-a109-c513c2259ec4"
      },
      "source": [
        "# Regression tuner \n",
        "VIX_reg_bestparameter,VIX_reg_bestmodel = af.ANN_Regression_CV_result(train,validation,'VIX_reg1')"
      ],
      "execution_count": null,
      "outputs": [
        {
          "output_type": "stream",
          "text": [
            "Trial 10 Complete [00h 00m 16s]\n",
            "val_loss: 0.012117990292608738\n",
            "\n",
            "Best val_loss So Far: 0.012117990292608738\n",
            "Total elapsed time: 00h 03m 04s\n",
            "INFO:tensorflow:Oracle triggered exit\n"
          ],
          "name": "stdout"
        }
      ]
    },
    {
      "cell_type": "code",
      "metadata": {
        "id": "m3aga1eJOt_V",
        "colab": {
          "base_uri": "https://localhost:8080/"
        },
        "outputId": "2f701959-69fe-4e5e-bb95-ae750ede4003"
      },
      "source": [
        "# Classification tuner \n",
        "VIX_cla_bestparameter,VIX_cla_bestmodel = af.ANN_Classification_CV_result(train_,validation_,'VIX_cla1')"
      ],
      "execution_count": null,
      "outputs": [
        {
          "output_type": "stream",
          "text": [
            "Trial 10 Complete [00h 00m 18s]\n",
            "val_accuracy: 0.6000000238418579\n",
            "\n",
            "Best val_accuracy So Far: 0.6399999856948853\n",
            "Total elapsed time: 00h 03m 21s\n",
            "INFO:tensorflow:Oracle triggered exit\n"
          ],
          "name": "stdout"
        }
      ]
    },
    {
      "cell_type": "code",
      "metadata": {
        "id": "ldFlrfplUGQy"
      },
      "source": [
        "# Prediction\n",
        "VIX_Regression_result = af.ANN_Prediction(best_model=VIX_reg_bestmodel,test=test,type = 'regression')\n",
        "VIX_Classification_result = af.ANN_Prediction(best_model=VIX_cla_bestmodel,test=test_,type = 'classification')"
      ],
      "execution_count": null,
      "outputs": []
    },
    {
      "cell_type": "code",
      "metadata": {
        "colab": {
          "base_uri": "https://localhost:8080/",
          "height": 299
        },
        "id": "uXpawjo9Uz8x",
        "outputId": "0b232127-159c-482c-a445-f1c94d75ac97"
      },
      "source": [
        "# The prediction performance \n",
        "plt.plot(VIX_Regression_result['y_true'],label='True')\n",
        "plt.plot(VIX_Regression_result['y_pred'],label=\"Pred\")\n",
        "plt.legend()\n",
        "print(mean_squared_error(VIX_Regression_result['y_true'],VIX_Regression_result['y_pred']))\n",
        "print(mean_absolute_error(VIX_Regression_result['y_true'],VIX_Regression_result['y_pred']))"
      ],
      "execution_count": null,
      "outputs": [
        {
          "output_type": "stream",
          "text": [
            "0.013225397788971834\n",
            "0.08285172793866175\n"
          ],
          "name": "stdout"
        },
        {
          "output_type": "display_data",
          "data": {
            "image/png": "[encoded data removed]",
            "text/plain": [
              "<Figure size 432x288 with 1 Axes>"
            ]
          },
          "metadata": {
            "tags": [],
            "needs_background": "light"
          }
        }
      ]
    },
    {
      "cell_type": "code",
      "metadata": {
        "colab": {
          "base_uri": "https://localhost:8080/"
        },
        "id": "NJv8cLlJWzMm",
        "outputId": "ff135fa3-537b-479d-de85-33e6d25200ff"
      },
      "source": [
        "accuracy_score(VIX_Classification_result['y_true'],VIX_Classification_result['y_pred'])"
      ],
      "execution_count": null,
      "outputs": [
        {
          "output_type": "execute_result",
          "data": {
            "text/plain": [
              "0.5714285714285714"
            ]
          },
          "metadata": {
            "tags": []
          },
          "execution_count": 10
        }
      ]
    },
    {
      "cell_type": "code",
      "metadata": {
        "id": "L8B2eUnhXPq3"
      },
      "source": [
        "# Write csv\n",
        "VIX_Regression_result.to_csv('VIX_Reg_ANN_Weekly.csv')\n",
        "VIX_Classification_result.to_csv('VIX_Cla_ANN_Weekly.csv')"
      ],
      "execution_count": null,
      "outputs": []
    },
    {
      "cell_type": "markdown",
      "metadata": {
        "id": "J4FncC0Gi87A"
      },
      "source": [
        "# **VTI**"
      ]
    },
    {
      "cell_type": "code",
      "metadata": {
        "id": "IoWjQvUWjHJb"
      },
      "source": [
        "# Load data \n",
        "VTI_weekly_reg = pd.read_csv('rw_VTI_s.csv')\n",
        "VTI_weekly_cla = pd.read_csv('cw_VTI_s.csv')\n",
        "train,validation,test = af.rolling_windows(VTI_weekly_reg,100,25,35,35)\n",
        "train_,validation_,test_ = af.rolling_windows(VTI_weekly_cla,100,25,35,35)"
      ],
      "execution_count": null,
      "outputs": []
    },
    {
      "cell_type": "code",
      "metadata": {
        "id": "jLTu-AwQjVyO"
      },
      "source": [
        "# Regression tuner \n",
        "VTI_reg_bestparameter,VTI_reg_bestmodel = af.ANN_Regression_CV_result(train,validation,'VTI_reg2')"
      ],
      "execution_count": null,
      "outputs": []
    },
    {
      "cell_type": "code",
      "metadata": {
        "colab": {
          "base_uri": "https://localhost:8080/"
        },
        "id": "iFEsLtYNjteq",
        "outputId": "ee262088-41d0-409d-afa2-99914e02ff8f"
      },
      "source": [
        "# Classification tuner \n",
        "VTI_cla_bestparameter,VTI_cla_bestmodel = af.ANN_Classification_CV_result(train_,validation_,'VTI_cla1')"
      ],
      "execution_count": null,
      "outputs": [
        {
          "output_type": "stream",
          "text": [
            "Trial 10 Complete [00h 00m 14s]\n",
            "val_accuracy: 0.54666668176651\n",
            "\n",
            "Best val_accuracy So Far: 0.54666668176651\n",
            "Total elapsed time: 00h 02m 37s\n",
            "INFO:tensorflow:Oracle triggered exit\n"
          ],
          "name": "stdout"
        }
      ]
    },
    {
      "cell_type": "code",
      "metadata": {
        "id": "z9lV7XbikBKC"
      },
      "source": [
        "# Prediction\n",
        "VTI_Regression_result = af.ANN_Prediction(best_model=VTI_reg_bestmodel,test=test,type = 'regression')\n",
        "VTI_Classification_result = af.ANN_Prediction(best_model=VTI_cla_bestmodel,test=test_,type = 'classification')"
      ],
      "execution_count": null,
      "outputs": []
    },
    {
      "cell_type": "code",
      "metadata": {
        "colab": {
          "base_uri": "https://localhost:8080/",
          "height": 299
        },
        "id": "eVu38hkBnH0Y",
        "outputId": "5adfcaf2-d05c-4d3d-d4fc-5bbe950a266f"
      },
      "source": [
        "# The prediction performance \n",
        "plt.plot(VTI_Regression_result['y_true'],label='True')\n",
        "plt.plot(VTI_Regression_result['y_pred'],label=\"Pred\")\n",
        "plt.legend()\n",
        "print(mean_squared_error(VTI_Regression_result['y_true'],VTI_Regression_result['y_pred']))\n",
        "print(mean_absolute_error(VTI_Regression_result['y_true'],VTI_Regression_result['y_pred']))"
      ],
      "execution_count": null,
      "outputs": [
        {
          "output_type": "stream",
          "text": [
            "0.00038419479231710816\n",
            "0.01118836372217338\n"
          ],
          "name": "stdout"
        },
        {
          "output_type": "display_data",
          "data": {
            "image/png": "[encoded data removed]",
            "text/plain": [
              "<Figure size 432x288 with 1 Axes>"
            ]
          },
          "metadata": {
            "tags": [],
            "needs_background": "light"
          }
        }
      ]
    },
    {
      "cell_type": "code",
      "metadata": {
        "colab": {
          "base_uri": "https://localhost:8080/"
        },
        "id": "7VSNAsPdoGe2",
        "outputId": "404fc90d-bfe6-4bff-a5a3-1ed0e0e2e9e0"
      },
      "source": [
        "accuracy_score(VTI_Classification_result['y_true'],VTI_Classification_result['y_pred'])"
      ],
      "execution_count": null,
      "outputs": [
        {
          "output_type": "execute_result",
          "data": {
            "text/plain": [
              "0.5619047619047619"
            ]
          },
          "metadata": {
            "tags": []
          },
          "execution_count": 17
        }
      ]
    },
    {
      "cell_type": "code",
      "metadata": {
        "id": "68Mtl6xBoRit"
      },
      "source": [
        "# Write csv\n",
        "VTI_Regression_result.to_csv('VTI_Reg_ANN_Weekly.csv')\n",
        "VTI_Classification_result.to_csv('VTI_Cla_ANN_Weekly.csv')"
      ],
      "execution_count": null,
      "outputs": []
    },
    {
      "cell_type": "code",
      "metadata": {
        "id": "d6cj99K1uqpd"
      },
      "source": [
        ""
      ],
      "execution_count": null,
      "outputs": []
    }
  ]
}