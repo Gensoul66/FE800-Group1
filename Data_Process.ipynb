{
 "cells": [
  {
   "cell_type": "code",
   "execution_count": 1,
   "metadata": {
    "collapsed": true,
    "pycharm": {
     "is_executing": false
    }
   },
   "outputs": [],
   "source": [
    "import Data \n",
    "import  pandas as pd\n",
    "import copy\n",
    "import os \n",
    "from statsmodels.tsa.api import SimpleExpSmoothing"
   ]
  },
  {
   "cell_type": "code",
   "execution_count": 2,
   "outputs": [
    {
     "name": "stdout",
     "text": [
      "[*********************100%***********************]  1 of 1 completed\n",
      "[*********************100%***********************]  1 of 1 completed\n",
      "[*********************100%***********************]  1 of 1 completed\n",
      "[*********************100%***********************]  1 of 1 completed\n",
      "[*********************100%***********************]  1 of 1 completed\n",
      "[*********************100%***********************]  1 of 1 completed\n",
      "[*********************100%***********************]  1 of 1 completed\n",
      "[*********************100%***********************]  1 of 1 completed\n"
     ],
     "output_type": "stream"
    }
   ],
   "source": [
    "# download data \n",
    "stock_ticker = ['VTI','AGG','DBC','^VIX']\n",
    "names1 = ['VTI_daily.csv','AGG_daily.csv','DBC_daily.csv','VIX_daily.csv']\n",
    "names2 = ['VTI_weekly.csv','AGG_weekly.csv','DBC_weekly.csv','VIX_weekly.csv']\n",
    "\n",
    "stock_daily_price  = Data.data_download(stock_ticker,names1,\n",
    "                                        start_date='2015-01-05',\n",
    "                                        end_date='2021-03-22',\n",
    "                                        frequence='1d')\n",
    "stock_weekly_price  = Data.data_download(stock_ticker,names1,\n",
    "                                        start_date='2015-01-05',\n",
    "                                        end_date='2021-03-22',\n",
    "                                        frequence='1wk')"
   ],
   "metadata": {
    "collapsed": false,
    "pycharm": {
     "name": "#%%\n",
     "is_executing": false
    }
   }
  },
  {
   "cell_type": "code",
   "execution_count": 3,
   "outputs": [
    {
     "name": "stderr",
     "text": [
      "/Users/baihaohuang/Desktop/FE800_Data/Data.py:43: FutureWarning: Slicing a positional slice with .loc is not supported, and will raise TypeError in a future version.  Use .loc with labels or .iloc with positions instead.\n",
      "  i[0:] = move\n",
      "/Users/baihaohuang/Desktop/FE800_Data/Data.py:43: FutureWarning: Slicing a positional slice with .loc is not supported, and will raise TypeError in a future version.  Use .loc with labels or .iloc with positions instead.\n",
      "  i[0:] = move\n",
      "/Users/baihaohuang/Desktop/FE800_Data/Data.py:43: FutureWarning: Slicing a positional slice with .loc is not supported, and will raise TypeError in a future version.  Use .loc with labels or .iloc with positions instead.\n",
      "  i[0:] = move\n",
      "/Users/baihaohuang/Desktop/FE800_Data/Data.py:43: FutureWarning: Slicing a positional slice with .loc is not supported, and will raise TypeError in a future version.  Use .loc with labels or .iloc with positions instead.\n",
      "  i[0:] = move\n",
      "/Users/baihaohuang/Desktop/FE800_Data/Data.py:43: FutureWarning: Slicing a positional slice with .loc is not supported, and will raise TypeError in a future version.  Use .loc with labels or .iloc with positions instead.\n",
      "  i[0:] = move\n",
      "/Users/baihaohuang/Desktop/FE800_Data/Data.py:43: FutureWarning: Slicing a positional slice with .loc is not supported, and will raise TypeError in a future version.  Use .loc with labels or .iloc with positions instead.\n",
      "  i[0:] = move\n",
      "/Users/baihaohuang/Desktop/FE800_Data/Data.py:43: FutureWarning: Slicing a positional slice with .loc is not supported, and will raise TypeError in a future version.  Use .loc with labels or .iloc with positions instead.\n",
      "  i[0:] = move\n",
      "/Users/baihaohuang/Desktop/FE800_Data/Data.py:43: FutureWarning: Slicing a positional slice with .loc is not supported, and will raise TypeError in a future version.  Use .loc with labels or .iloc with positions instead.\n",
      "  i[0:] = move\n"
     ],
     "output_type": "stream"
    }
   ],
   "source": [
    "# calculate the return \n",
    "stock_daily_return = Data.stock_return(stock_daily_price)\n",
    "stock_weekly_return = Data.stock_return(stock_daily_price)\n",
    "\n",
    "# calcualte the stock movement \n",
    "stock_daily_movement = Data.stock_movement(stock_return=stock_daily_return)\n",
    "stock_weekly_movement = Data.stock_movement(stock_return=stock_weekly_return)\n",
    "\n",
    "# smoothing ohlc data \n",
    "pre_stock_dailyprice = Data.data_smoothing(stock_daily_price)\n",
    "pre_stock_weeklyprice = Data.data_smoothing(stock_weekly_price)\n"
   ],
   "metadata": {
    "collapsed": false,
    "pycharm": {
     "name": "#%%\n",
     "is_executing": false
    }
   }
  },
  {
   "cell_type": "code",
   "execution_count": 4,
   "outputs": [
    {
     "name": "stderr",
     "text": [
      "/Users/baihaohuang/opt/anaconda3/envs/untitled/lib/python3.7/site-packages/pandas_ta/overlap/ema.py:19: FutureWarning: Slicing a positional slice with .loc is not supported, and will raise TypeError in a future version.  Use .loc with labels or .iloc with positions instead.\n",
      "  close[:length - 1] = npNaN\n",
      "/Users/baihaohuang/opt/anaconda3/envs/untitled/lib/python3.7/site-packages/pandas_ta/overlap/ema.py:19: FutureWarning: Slicing a positional slice with .loc is not supported, and will raise TypeError in a future version.  Use .loc with labels or .iloc with positions instead.\n",
      "  close[:length - 1] = npNaN\n",
      "/Users/baihaohuang/opt/anaconda3/envs/untitled/lib/python3.7/site-packages/pandas_ta/overlap/ema.py:19: FutureWarning: Slicing a positional slice with .loc is not supported, and will raise TypeError in a future version.  Use .loc with labels or .iloc with positions instead.\n",
      "  close[:length - 1] = npNaN\n",
      "/Users/baihaohuang/opt/anaconda3/envs/untitled/lib/python3.7/site-packages/pandas_ta/overlap/ema.py:19: FutureWarning: Slicing a positional slice with .loc is not supported, and will raise TypeError in a future version.  Use .loc with labels or .iloc with positions instead.\n",
      "  close[:length - 1] = npNaN\n",
      "/Users/baihaohuang/opt/anaconda3/envs/untitled/lib/python3.7/site-packages/pandas_ta/overlap/ema.py:19: FutureWarning: Slicing a positional slice with .loc is not supported, and will raise TypeError in a future version.  Use .loc with labels or .iloc with positions instead.\n",
      "  close[:length - 1] = npNaN\n",
      "/Users/baihaohuang/opt/anaconda3/envs/untitled/lib/python3.7/site-packages/pandas_ta/overlap/ema.py:19: FutureWarning: Slicing a positional slice with .loc is not supported, and will raise TypeError in a future version.  Use .loc with labels or .iloc with positions instead.\n",
      "  close[:length - 1] = npNaN\n",
      "/Users/baihaohuang/opt/anaconda3/envs/untitled/lib/python3.7/site-packages/pandas_ta/overlap/ema.py:19: FutureWarning: Slicing a positional slice with .loc is not supported, and will raise TypeError in a future version.  Use .loc with labels or .iloc with positions instead.\n",
      "  close[:length - 1] = npNaN\n",
      "/Users/baihaohuang/opt/anaconda3/envs/untitled/lib/python3.7/site-packages/pandas_ta/overlap/ema.py:19: FutureWarning: Slicing a positional slice with .loc is not supported, and will raise TypeError in a future version.  Use .loc with labels or .iloc with positions instead.\n",
      "  close[:length - 1] = npNaN\n",
      "/Users/baihaohuang/opt/anaconda3/envs/untitled/lib/python3.7/site-packages/pandas_ta/overlap/ema.py:19: FutureWarning: Slicing a positional slice with .loc is not supported, and will raise TypeError in a future version.  Use .loc with labels or .iloc with positions instead.\n",
      "  close[:length - 1] = npNaN\n",
      "/Users/baihaohuang/opt/anaconda3/envs/untitled/lib/python3.7/site-packages/pandas_ta/overlap/ema.py:19: FutureWarning: Slicing a positional slice with .loc is not supported, and will raise TypeError in a future version.  Use .loc with labels or .iloc with positions instead.\n",
      "  close[:length - 1] = npNaN\n",
      "/Users/baihaohuang/opt/anaconda3/envs/untitled/lib/python3.7/site-packages/pandas_ta/overlap/ema.py:19: FutureWarning: Slicing a positional slice with .loc is not supported, and will raise TypeError in a future version.  Use .loc with labels or .iloc with positions instead.\n",
      "  close[:length - 1] = npNaN\n",
      "/Users/baihaohuang/opt/anaconda3/envs/untitled/lib/python3.7/site-packages/pandas_ta/overlap/ema.py:19: FutureWarning: Slicing a positional slice with .loc is not supported, and will raise TypeError in a future version.  Use .loc with labels or .iloc with positions instead.\n",
      "  close[:length - 1] = npNaN\n",
      "/Users/baihaohuang/opt/anaconda3/envs/untitled/lib/python3.7/site-packages/pandas_ta/overlap/ema.py:19: FutureWarning: Slicing a positional slice with .loc is not supported, and will raise TypeError in a future version.  Use .loc with labels or .iloc with positions instead.\n",
      "  close[:length - 1] = npNaN\n",
      "/Users/baihaohuang/opt/anaconda3/envs/untitled/lib/python3.7/site-packages/pandas_ta/overlap/ema.py:19: FutureWarning: Slicing a positional slice with .loc is not supported, and will raise TypeError in a future version.  Use .loc with labels or .iloc with positions instead.\n",
      "  close[:length - 1] = npNaN\n",
      "/Users/baihaohuang/opt/anaconda3/envs/untitled/lib/python3.7/site-packages/pandas_ta/overlap/ema.py:19: FutureWarning: Slicing a positional slice with .loc is not supported, and will raise TypeError in a future version.  Use .loc with labels or .iloc with positions instead.\n",
      "  close[:length - 1] = npNaN\n",
      "/Users/baihaohuang/opt/anaconda3/envs/untitled/lib/python3.7/site-packages/pandas_ta/overlap/ema.py:19: FutureWarning: Slicing a positional slice with .loc is not supported, and will raise TypeError in a future version.  Use .loc with labels or .iloc with positions instead.\n",
      "  close[:length - 1] = npNaN\n"
     ],
     "output_type": "stream"
    }
   ],
   "source": [
    "# feature engineering \n",
    "feature_daily = Data.feature_engineering(pre_stock_dailyprice)\n",
    "feature_weekly = Data.feature_engineering(pre_stock_weeklyprice)"
   ],
   "metadata": {
    "collapsed": false,
    "pycharm": {
     "name": "#%%\n",
     "is_executing": false
    }
   }
  },
  {
   "cell_type": "code",
   "execution_count": 5,
   "outputs": [],
   "source": [
    "# Min-Max normalizing the feature \n",
    "pre_feature_daily = Data.data_normalization(feature_daily)\n",
    "pre_feature_weekly = Data.data_normalization(feature_weekly)"
   ],
   "metadata": {
    "collapsed": false,
    "pycharm": {
     "name": "#%%\n",
     "is_executing": false
    }
   }
  },
  {
   "cell_type": "code",
   "execution_count": 6,
   "outputs": [],
   "source": [
    "# combine the y and x \n",
    "regression_daily = Data.data_combination(stock_daily_return, pre_feature_daily,'regression')\n",
    "regression_weekly = Data.data_combination(stock_weekly_return, pre_feature_weekly,'regression')\n",
    "classification_daily = Data.data_combination(stock_daily_movement, pre_feature_daily,'classification')\n",
    "classification_weekly = Data.data_combination(stock_weekly_movement, pre_feature_weekly,'classification')"
   ],
   "metadata": {
    "collapsed": false,
    "pycharm": {
     "name": "#%%\n",
     "is_executing": false
    }
   }
  },
  {
   "cell_type": "code",
   "execution_count": 7,
   "outputs": [],
   "source": [
    "# shift the data \n",
    "regression_daily_shift = Data.data_shift(regression_daily)\n",
    "regression_weekly_shift = Data.data_shift(regression_weekly)\n",
    "classification_daily_shift = Data.data_shift(classification_daily)\n",
    "classification_weekly_shift = Data.data_shift(classification_weekly)"
   ],
   "metadata": {
    "collapsed": false,
    "pycharm": {
     "name": "#%%\n",
     "is_executing": false
    }
   }
  },
  {
   "cell_type": "code",
   "execution_count": 8,
   "outputs": [],
   "source": [
    "# write down the data \n",
    "document_name1 = 'Raw_data'\n",
    "document_name2 = 'Shift_data'\n",
    "file_name1 = ['rd_VTI_s','rd_AGG_s','rd_DBC_s','rd_VIX_s']\n",
    "file_name2 = ['rw_VTI_s','rw_AGG_s','rw_DBC_s','rw_VIX_s']\n",
    "file_name3 = ['cd_VTI_s','cd_AGG_s','cd_DBC_s','cd_VIX_s']\n",
    "file_name4 = ['cw_VTI_s','cw_AGG_s','cw_DBC_s','cw_VIX_s']\n",
    "\n",
    "Data.data_writer(regression_daily_shift,document_name2,file_name1)\n",
    "Data.data_writer(regression_weekly_shift,document_name2,file_name2)\n",
    "Data.data_writer(classification_daily_shift,document_name2,file_name3)\n",
    "Data.data_writer(classification_weekly_shift,document_name2,file_name4)"
   ],
   "metadata": {
    "collapsed": false,
    "pycharm": {
     "name": "#%%\n",
     "is_executing": false
    }
   }
  },
  {
   "cell_type": "code",
   "execution_count": 9,
   "outputs": [
    {
     "name": "stderr",
     "text": [
      "/Users/baihaohuang/opt/anaconda3/envs/untitled/lib/python3.7/site-packages/pandas_ta/overlap/ema.py:19: FutureWarning: Slicing a positional slice with .loc is not supported, and will raise TypeError in a future version.  Use .loc with labels or .iloc with positions instead.\n",
      "  close[:length - 1] = npNaN\n"
     ],
     "output_type": "stream"
    }
   ],
   "source": [
    "# 检查feature\n",
    "macd_signal = stock_daily_price[0].ta.macd(fast=12, slow=26, signal=9)['MACDs_12_26_9']\n",
    "macd = stock_daily_price[0].ta.macd(fast=12, slow=26, signal=9)['MACD_12_26_9']\n",
    "rsi_14 = stock_daily_price[0].ta.rsi(length=14)\n",
    "willr_14 = stock_daily_price[0].ta.willr(length=14)\n",
    "proc = stock_daily_price[0].ta.roc(length=14)\n",
    "\n"
   ],
   "metadata": {
    "collapsed": false,
    "pycharm": {
     "name": "#%%\n",
     "is_executing": false
    }
   }
  },
  {
   "cell_type": "code",
   "execution_count": null,
   "outputs": [],
   "source": [
    "\n"
   ],
   "metadata": {
    "collapsed": false,
    "pycharm": {
     "name": "#%%\n"
    }
   }
  }
 ],
 "metadata": {
  "kernelspec": {
   "display_name": "Python 3",
   "language": "python",
   "name": "python3"
  },
  "language_info": {
   "codemirror_mode": {
    "name": "ipython",
    "version": 2
   },
   "file_extension": ".py",
   "mimetype": "text/x-python",
   "name": "python",
   "nbconvert_exporter": "python",
   "pygments_lexer": "ipython2",
   "version": "2.7.6"
  },
  "pycharm": {
   "stem_cell": {
    "cell_type": "raw",
    "source": [],
    "metadata": {
     "collapsed": false
    }
   }
  }
 },
 "nbformat": 4,
 "nbformat_minor": 0
}